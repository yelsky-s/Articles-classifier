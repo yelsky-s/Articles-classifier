{
 "cells": [
  {
   "cell_type": "code",
   "execution_count": 42,
   "id": "7732fb77",
   "metadata": {},
   "outputs": [],
   "source": [
    "import requests\n",
    "from bs4 import BeautifulSoup\n",
    "\n",
    "from urllib.request import Request, urlopen"
   ]
  },
  {
   "cell_type": "code",
   "execution_count": 15,
   "id": "01af6cac",
   "metadata": {},
   "outputs": [],
   "source": [
    "#from urllib.request import Request, urlopen\n",
    "\n",
    "Geoscienceworld = 'https://pubs.geoscienceworld.org'\n",
    "Geology_site='https://pubs.geoscienceworld.org/geology'\n",
    "#Geosphere_site='https://pubs.geoscienceworld.org/geosphere'\n",
    "\n",
    "#find Url for current issue\n",
    "req = Request(\n",
    "    url=Geology_site, \n",
    "    headers={'User-Agent': 'Mozilla/5.0'} #to overcame site restrictions of 403:forbidden,request forbidden by administrative rules\n",
    ")\n",
    "webpage = urlopen(req).read()\n",
    "soup=BeautifulSoup(webpage, 'lxml')\n",
    "\n",
    "view_current_issue=soup.find('div', class_=\"view-current-issue\").find_all('a')[-1]['href']\n",
    "#print(view_current_issue)\n",
    "\n",
    "#Url for current issue\n",
    "current_issue_url=Geoscienceworld+view_current_issue\n"
   ]
  },
  {
   "cell_type": "code",
   "execution_count": 50,
   "id": "fec2ae11",
   "metadata": {},
   "outputs": [],
   "source": [
    "###for parsing an existing (older) issues\n",
    "current_issue_url = 'https://pubs.geoscienceworld.org/geology/issue/50/12'\n",
    "Geoscienceworld = 'https://pubs.geoscienceworld.org'\n",
    "\n",
    "#scrape current issue\n",
    "requ = Request(\n",
    "    url=current_issue_url, \n",
    "    headers={'User-Agent': 'Mozilla/5.0'} #to overcame site restrictions of 403:forbidden,request forbidden by administrative rules\n",
    ")\n",
    "webpage = urlopen(requ).read()\n",
    "soup = BeautifulSoup(webpage, 'lxml')\n",
    "\n",
    "#section where all the articles are\n",
    "sec_articles = soup.find('div', class_=\"section-container\")"
   ]
  },
  {
   "cell_type": "code",
   "execution_count": 1,
   "id": "1a7efabe",
   "metadata": {},
   "outputs": [],
   "source": [
    "import csv\n",
    "from csv import writer\n",
    "import datetime\n",
    "\n",
    "# #creating a csv file, with column's headers\n",
    "# csv_file=open('Geology articles.csv','w')\n",
    "# csv_writer=csv.writer(csv_file)\n",
    "# csv_writer.writerow(['Title', 'Abstract', 'Article URL', 'date'])\n",
    "\n",
    "date_of_search=datetime.date.today()"
   ]
  },
  {
   "cell_type": "code",
   "execution_count": 52,
   "id": "9c60691d",
   "metadata": {},
   "outputs": [],
   "source": [
    "for article in sec_articles.find('div', class_='content al-article-list-group').find_all('div', class_=\"al-article-item-wrap al-normal\"):\n",
    "    title = article.find('a').text\n",
    "#     abstract = article.find('div', class_=\"item\").find('div', class_='abstract al-other-resource-links abstract-link')\n",
    "#     abstra = article.find('div', class_=\"item\")#.find('div', class_='abstract-response-placeholder js-abstract-response-placeholder hide')\n",
    "    href=article.find_all('a')[0]['href']\n",
    "\n",
    "    #open href link to assess the abstract text\n",
    "    reque = Request(\n",
    "    url=Geoscienceworld+href, \n",
    "    headers={'User-Agent': 'Mozilla/5.0'} #to overcame site restrictions of 403:forbidden,request forbidden by administrative rules\n",
    "    )\n",
    "    webpage_href = urlopen(reque).read()\n",
    "    soup_href = BeautifulSoup(webpage_href, 'lxml')\n",
    "    abst_cont = soup_href.find('body').find('div', class_='article-body')\n",
    "    try:\n",
    "        abstract = abst_cont.find('div', class_='widget-items').find('p').get_text()\n",
    "    except AttributeError:\n",
    "        abstract = '^^^none^^^'\n",
    "    \n",
    "    \n",
    "    #adding and saving to csv file\n",
    "    csv_file=open('Geology articles.csv','a', encoding=\"utf-8\")\n",
    "    csv_writer=csv.writer(csv_file)\n",
    "    csv_writer.writerow([title, abstract, Geoscienceworld+href, date_of_search])\n",
    "    csv_file.close()"
   ]
  },
  {
   "cell_type": "code",
   "execution_count": 62,
   "id": "c3738e25",
   "metadata": {},
   "outputs": [],
   "source": [
    "# #hydrology articles abstracts from : https://www.mdpi.com/journal/hydrology OR Jornal of Hydrology valume 616: https://www.sciencedirect.com/journal/journal-of-hydrology/vol/616/suppl/C\n",
    "# title = 'Evaluation of statistical models: Perspective of water quality load estimation'\n",
    "# abstract = 'The accurate representation of the load of water quality constituents, transported by rivers and streams, is crucial to understand the impact on the quality of the lakes, the behavior of the rivers and streams. Statistical models have been developed to predict the water-quality constituent loads from the available data of sampled concentration (low-frequency/grab chemistry data) and continuous discharge (high frequency) at a particular sampled location and to further analyze trends and changes in water quality. However, the performance of statistical models to estimate water quality constituent loads depends on many aspects including the type of water quality constituent, sampling strategy and frequency, and the land use and areas of the watershed. This study evaluates the performance of a wide range of statistical models for the estimation of total suspended solids (TSS) and total phosphorus (TP) loads under various sampling scenarios and monitoring stations in Southern Ontario, Canada. Trends in TSS and TP concentrations and loads were further analyzed in major tributaries. The Weighted Regression on Time, Discharge, and Season Kalman Filter (WRTDS_K) model was found to be the most suitable model (p > 0.05 and Percentage Difference (%) (PDIFF) between ±20) for predicting TSS loads at most sampling stations and under most sampling scenarios, while, the Weighted Regression on Time, Discharge, and Season (WRTDS) model was found to be the most suitable model (p > 0.05 and flux bias statistics (FBS) between ±0.1) for predicting TP loads. The applied statistical models (LOADEST simple and curvilinear models, WRTDS, WRTDS_k, Beale’s estimator, composite and interpolation models) have shown a limited potential to estimate load accurately at monitoring stations covering small drainage areas.'\n",
    "# link = 'https://www.sciencedirect.com/science/article/abs/pii/S0022169422012914'\n",
    "\n",
    "# import csv\n",
    "# from csv import writer\n",
    "# import datetime\n",
    "# date_of_search=datetime.date.today()\n",
    "\n",
    "# #adding and saving to csv file\n",
    "# csv_file=open('Geology articles.csv','a', encoding=\"utf-8\")\n",
    "# csv_writer=csv.writer(csv_file)\n",
    "# csv_writer.writerow([title, abstract, link, date_of_search])\n",
    "# csv_file.close()"
   ]
  },
  {
   "cell_type": "code",
   "execution_count": null,
   "id": "8657393d",
   "metadata": {},
   "outputs": [],
   "source": [
    "#Load the article's abstracts we have to data frame \n",
    "\n",
    "#check for duplicates in article names (and maybe compare if the abstracts are the same or one have '^^^none^^' and other have the real abstract ->then save the one with real abstract)\n",
    "#I can not juct delete the rows with ^^none^^ in abstract column because then I just loose the article name as well\n",
    "\n",
    "#to later determine the article's main topic/s"
   ]
  },
  {
   "cell_type": "code",
   "execution_count": 12,
   "id": "05ba6a25",
   "metadata": {},
   "outputs": [
    {
     "data": {
      "text/html": [
       "<div>\n",
       "<style scoped>\n",
       "    .dataframe tbody tr th:only-of-type {\n",
       "        vertical-align: middle;\n",
       "    }\n",
       "\n",
       "    .dataframe tbody tr th {\n",
       "        vertical-align: top;\n",
       "    }\n",
       "\n",
       "    .dataframe thead th {\n",
       "        text-align: right;\n",
       "    }\n",
       "</style>\n",
       "<table border=\"1\" class=\"dataframe\">\n",
       "  <thead>\n",
       "    <tr style=\"text-align: right;\">\n",
       "      <th></th>\n",
       "      <th>Title</th>\n",
       "      <th>Abstract</th>\n",
       "      <th>Article URL</th>\n",
       "      <th>date</th>\n",
       "    </tr>\n",
       "  </thead>\n",
       "  <tbody>\n",
       "    <tr>\n",
       "      <th>0</th>\n",
       "      <td>Molybdenum isotopes in mafic igneous rocks rec...</td>\n",
       "      <td>Arc volcanic rocks erupted above oceanic subdu...</td>\n",
       "      <td>https://pubs.geoscienceworld.org/gsa/geology/a...</td>\n",
       "      <td>2023-01-21</td>\n",
       "    </tr>\n",
       "    <tr>\n",
       "      <th>1</th>\n",
       "      <td>Calcitic shells in the aragonite sea of the ea...</td>\n",
       "      <td>The initial acquisition of calcium carbonate p...</td>\n",
       "      <td>https://pubs.geoscienceworld.org/gsa/geology/a...</td>\n",
       "      <td>2023-01-21</td>\n",
       "    </tr>\n",
       "    <tr>\n",
       "      <th>2</th>\n",
       "      <td>Impact of stream power gradients on storage of...</td>\n",
       "      <td>Spatial complexity impacts the resilience of r...</td>\n",
       "      <td>https://pubs.geoscienceworld.org/gsa/geology/a...</td>\n",
       "      <td>2023-01-21</td>\n",
       "    </tr>\n",
       "    <tr>\n",
       "      <th>3</th>\n",
       "      <td>Climatic influence on the expression of strike...</td>\n",
       "      <td>^^^none^^^</td>\n",
       "      <td>https://pubs.geoscienceworld.org/gsa/geology/a...</td>\n",
       "      <td>2023-01-21</td>\n",
       "    </tr>\n",
       "    <tr>\n",
       "      <th>4</th>\n",
       "      <td>Resetting of zircon inclusions in garnet: Impl...</td>\n",
       "      <td>Elastic thermobarometry of host-inclusion syst...</td>\n",
       "      <td>https://pubs.geoscienceworld.org/gsa/geology/a...</td>\n",
       "      <td>2023-01-21</td>\n",
       "    </tr>\n",
       "    <tr>\n",
       "      <th>...</th>\n",
       "      <td>...</td>\n",
       "      <td>...</td>\n",
       "      <td>...</td>\n",
       "      <td>...</td>\n",
       "    </tr>\n",
       "    <tr>\n",
       "      <th>283</th>\n",
       "      <td>Plum rain enhances porewater greenhouse gas fl...</td>\n",
       "      <td>Seasonal rainfall, locally known as plum rain,...</td>\n",
       "      <td>https://www.sciencedirect.com/science/article/...</td>\n",
       "      <td>2023-01-25</td>\n",
       "    </tr>\n",
       "    <tr>\n",
       "      <th>284</th>\n",
       "      <td>Incorporating non-stationarity from climate ch...</td>\n",
       "      <td>Intensity-duration-frequency (IDF) curves – so...</td>\n",
       "      <td>https://www.sciencedirect.com/science/article/...</td>\n",
       "      <td>2023-01-25</td>\n",
       "    </tr>\n",
       "    <tr>\n",
       "      <th>285</th>\n",
       "      <td>Mechanisms of bar adjustments in the Jingjiang...</td>\n",
       "      <td>Dams alter downstream river flow and sediment ...</td>\n",
       "      <td>https://www.sciencedirect.com/science/article/...</td>\n",
       "      <td>2023-01-25</td>\n",
       "    </tr>\n",
       "    <tr>\n",
       "      <th>286</th>\n",
       "      <td>A generalized reservoir module for SWAT applic...</td>\n",
       "      <td>Accurate estimates of reservoir outflow are im...</td>\n",
       "      <td>https://www.sciencedirect.com/science/article/...</td>\n",
       "      <td>2023-01-25</td>\n",
       "    </tr>\n",
       "    <tr>\n",
       "      <th>287</th>\n",
       "      <td>Evaluation of statistical models: Perspective ...</td>\n",
       "      <td>The accurate representation of the load of wat...</td>\n",
       "      <td>https://www.sciencedirect.com/science/article/...</td>\n",
       "      <td>2023-01-25</td>\n",
       "    </tr>\n",
       "  </tbody>\n",
       "</table>\n",
       "<p>288 rows × 4 columns</p>\n",
       "</div>"
      ],
      "text/plain": [
       "                                                 Title  \\\n",
       "0    Molybdenum isotopes in mafic igneous rocks rec...   \n",
       "1    Calcitic shells in the aragonite sea of the ea...   \n",
       "2    Impact of stream power gradients on storage of...   \n",
       "3    Climatic influence on the expression of strike...   \n",
       "4    Resetting of zircon inclusions in garnet: Impl...   \n",
       "..                                                 ...   \n",
       "283  Plum rain enhances porewater greenhouse gas fl...   \n",
       "284  Incorporating non-stationarity from climate ch...   \n",
       "285  Mechanisms of bar adjustments in the Jingjiang...   \n",
       "286  A generalized reservoir module for SWAT applic...   \n",
       "287  Evaluation of statistical models: Perspective ...   \n",
       "\n",
       "                                              Abstract  \\\n",
       "0    Arc volcanic rocks erupted above oceanic subdu...   \n",
       "1    The initial acquisition of calcium carbonate p...   \n",
       "2    Spatial complexity impacts the resilience of r...   \n",
       "3                                           ^^^none^^^   \n",
       "4    Elastic thermobarometry of host-inclusion syst...   \n",
       "..                                                 ...   \n",
       "283  Seasonal rainfall, locally known as plum rain,...   \n",
       "284  Intensity-duration-frequency (IDF) curves – so...   \n",
       "285  Dams alter downstream river flow and sediment ...   \n",
       "286  Accurate estimates of reservoir outflow are im...   \n",
       "287  The accurate representation of the load of wat...   \n",
       "\n",
       "                                           Article URL        date  \n",
       "0    https://pubs.geoscienceworld.org/gsa/geology/a...  2023-01-21  \n",
       "1    https://pubs.geoscienceworld.org/gsa/geology/a...  2023-01-21  \n",
       "2    https://pubs.geoscienceworld.org/gsa/geology/a...  2023-01-21  \n",
       "3    https://pubs.geoscienceworld.org/gsa/geology/a...  2023-01-21  \n",
       "4    https://pubs.geoscienceworld.org/gsa/geology/a...  2023-01-21  \n",
       "..                                                 ...         ...  \n",
       "283  https://www.sciencedirect.com/science/article/...  2023-01-25  \n",
       "284  https://www.sciencedirect.com/science/article/...  2023-01-25  \n",
       "285  https://www.sciencedirect.com/science/article/...  2023-01-25  \n",
       "286  https://www.sciencedirect.com/science/article/...  2023-01-25  \n",
       "287  https://www.sciencedirect.com/science/article/...  2023-01-25  \n",
       "\n",
       "[288 rows x 4 columns]"
      ]
     },
     "execution_count": 12,
     "metadata": {},
     "output_type": "execute_result"
    }
   ],
   "source": [
    "import pandas as pd\n",
    "import numpy as np\n",
    "\n",
    "df = pd.read_csv('Geology articles.csv')\n",
    "df"
   ]
  },
  {
   "cell_type": "code",
   "execution_count": 2,
   "id": "eafb158e",
   "metadata": {},
   "outputs": [],
   "source": [
    "import string\n",
    "import nltk\n",
    "from nltk.tokenize import word_tokenize\n",
    "from nltk.corpus import stopwords\n"
   ]
  },
  {
   "cell_type": "code",
   "execution_count": 3,
   "id": "7a365ac0",
   "metadata": {},
   "outputs": [
    {
     "name": "stdout",
     "output_type": "stream",
     "text": [
      "247\n",
      "174\n"
     ]
    }
   ],
   "source": [
    "#Parsing and analyzing one of the abstracts as an example\n",
    "\n",
    "zer_abstract = df['Abstract'][0]\n",
    "\n",
    "#get rid of punctuation (like: , . etc.)\n",
    "#import string\n",
    "non_punct = zer_abstract.translate(str.maketrans('', '', string.punctuation))\n",
    "list_of_words = non_punct.split()\n",
    "\n",
    "\n",
    "#covert everything to lower case \n",
    "lower = [l.lower() for l in list_of_words]\n",
    "print(len(lower))\n",
    "\n",
    "#tokenize the words, and maybe group them into groups by topic\n",
    "# import nltk\n",
    "# from nltk.tokenize import word_tokenize\n",
    "# from nltk.corpus import stopwords\n",
    "\n",
    "#filtering out the stop words (stopwords.words('english') are lower case) - #sw==list of stop words\n",
    "abstract_words = [t for t in lower if t not in stopwords.words('english')]\n",
    "print(len(abstract_words))"
   ]
  },
  {
   "cell_type": "code",
   "execution_count": 4,
   "id": "ee735493",
   "metadata": {},
   "outputs": [],
   "source": [
    "df['abstract_words']=''\n",
    "row = 0\n",
    "\n",
    "for abs in df['Abstract']:\n",
    "    #get rid of punctuation (like: , . etc.)\n",
    "    non_punct = abs.translate(str.maketrans('', '', string.punctuation))\n",
    "    list_of_words = non_punct.split()\n",
    "\n",
    "\n",
    "    #covert everything to lower case \n",
    "    lower = [l.lower() for l in list_of_words]\n",
    "\n",
    "    #filtering out the stop words (stopwords.words('english') are lower case) - #sw==list of stop words\n",
    "    abstract_words = [t for t in lower if t not in stopwords.words('english')]\n",
    "    \n",
    "    #adding calumn for abstract cleaned words to dataframe\n",
    "    df['abstract_words'][row] = abstract_words\n",
    "    row = row+1"
   ]
  },
  {
   "cell_type": "code",
   "execution_count": 4,
   "id": "9c7681f7",
   "metadata": {},
   "outputs": [],
   "source": [
    "#excluding 'none' abstract rows from df\n",
    "df=df[df['Abstract']!='^^^none^^^']\n",
    "#df"
   ]
  },
  {
   "cell_type": "code",
   "execution_count": 13,
   "id": "a1b65f53",
   "metadata": {},
   "outputs": [],
   "source": [
    "df = df.reset_index()\n",
    "# df.iloc[4:6]"
   ]
  },
  {
   "cell_type": "markdown",
   "id": "95cdcde8",
   "metadata": {},
   "source": [
    "next section is from Data Science With Raghav: github --  https://github.com/raaga500/YTshared/blob/master/V4_TopicModelling_4.ipynb\n",
    "\n",
    "Youtube channel - https://www.youtube.com/channel/UC86OgfmVfguW69_0uIEffVQ/"
   ]
  },
  {
   "cell_type": "markdown",
   "id": "18f0f71d",
   "metadata": {},
   "source": [
    "## LDA - Latent Drichilet Allocation"
   ]
  },
  {
   "cell_type": "code",
   "execution_count": 58,
   "id": "7baeb09f",
   "metadata": {},
   "outputs": [],
   "source": [
    "#!pip install gensim\n",
    "#!pip install pyLDAvis"
   ]
  },
  {
   "cell_type": "code",
   "execution_count": 7,
   "id": "101414b2",
   "metadata": {},
   "outputs": [
    {
     "name": "stderr",
     "output_type": "stream",
     "text": [
      "C:\\Users\\yelsk\\anaconda3\\lib\\site-packages\\paramiko\\transport.py:219: CryptographyDeprecationWarning: Blowfish has been deprecated\n",
      "  \"class\": algorithms.Blowfish,\n"
     ]
    }
   ],
   "source": [
    "import gensim #the library for Topic modelling\n",
    "from gensim.models.ldamulticore import LdaMulticore\n",
    "from gensim import corpora, models\n",
    "import pyLDAvis.gensim_models #LDA visualization library"
   ]
  },
  {
   "cell_type": "code",
   "execution_count": 8,
   "id": "fb2dbf78",
   "metadata": {},
   "outputs": [
    {
     "name": "stdout",
     "output_type": "stream",
     "text": [
      "14263\n",
      "142\n"
     ]
    }
   ],
   "source": [
    "#create dictionary\n",
    "dictionary = corpora.Dictionary(df['abstract_words'])\n",
    "#Total number of non-zeroes in the BOW matrix (sum of the number of unique words per document over the entire corpus).\n",
    "print(dictionary.num_nnz)\n",
    "\n",
    "#create document term matrix\n",
    "doc_term_matrix = [dictionary.doc2bow(doc) for doc in df['abstract_words'] ]\n",
    "print(len(doc_term_matrix))"
   ]
  },
  {
   "cell_type": "code",
   "execution_count": 12,
   "id": "4aee0d15",
   "metadata": {},
   "outputs": [
    {
     "name": "stdout",
     "output_type": "stream",
     "text": [
      "Wall time: 7.17 s\n"
     ]
    }
   ],
   "source": [
    "#Instantiate LDA model\n",
    "lda = gensim.models.ldamodel.LdaModel\n",
    "\n",
    "#Fit LDA model on the dataset\n",
    "num_topics=4 ##number of topics to find\n",
    "%time ldamodel = lda(doc_term_matrix,num_topics=num_topics,id2word=dictionary,passes=50,minimum_probability=0)"
   ]
  },
  {
   "cell_type": "code",
   "execution_count": 13,
   "id": "799e10cf",
   "metadata": {},
   "outputs": [
    {
     "data": {
      "text/plain": [
       "[(0,\n",
       "  '0.005*\"fault\" + 0.004*\"data\" + 0.003*\"zone\" + 0.003*\"precipitation\" + 0.003*\"models\" + 0.003*\"record\" + 0.003*\"ca\" + 0.002*\"formation\" + 0.002*\"may\" + 0.002*\"carbon\"'),\n",
       " (1,\n",
       "  '0.006*\"rocks\" + 0.006*\"mantle\" + 0.005*\"crust\" + 0.005*\"isotopic\" + 0.004*\"subduction\" + 0.004*\"compositions\" + 0.003*\"zircon\" + 0.003*\"magmas\" + 0.003*\"oceanic\" + 0.003*\"data\"'),\n",
       " (2,\n",
       "  '0.004*\"processes\" + 0.004*\"inclusions\" + 0.003*\"may\" + 0.003*\"sediment\" + 0.003*\"spatial\" + 0.003*\"dewfall\" + 0.003*\"water\" + 0.003*\"°c\" + 0.002*\"different\" + 0.002*\"ocean\"'),\n",
       " (3,\n",
       "  '0.006*\"water\" + 0.004*\"values\" + 0.003*\"sediment\" + 0.003*\"results\" + 0.003*\"indicate\" + 0.003*\"sand\" + 0.003*\"δ18o\" + 0.003*\"formation\" + 0.003*\"lava\" + 0.003*\"data\"')]"
      ]
     },
     "execution_count": 13,
     "metadata": {},
     "output_type": "execute_result"
    }
   ],
   "source": [
    "#Print the topics identified by LDA model\n",
    "ldamodel.print_topics(num_topics=num_topics)"
   ]
  },
  {
   "cell_type": "code",
   "execution_count": 14,
   "id": "846d6145",
   "metadata": {},
   "outputs": [
    {
     "name": "stderr",
     "output_type": "stream",
     "text": [
      "C:\\Users\\yelsk\\anaconda3\\lib\\site-packages\\pyLDAvis\\_prepare.py:246: FutureWarning: In a future version of pandas all arguments of DataFrame.drop except for the argument 'labels' will be keyword-only\n",
      "  default_term_info = default_term_info.sort_values(\n"
     ]
    },
    {
     "data": {
      "text/html": [
       "\n",
       "<link rel=\"stylesheet\" type=\"text/css\" href=\"https://cdn.jsdelivr.net/gh/bmabey/pyLDAvis@3.3.1/pyLDAvis/js/ldavis.v1.0.0.css\">\n",
       "\n",
       "\n",
       "<div id=\"ldavis_el1207220273076985449066159466\"></div>\n",
       "<script type=\"text/javascript\">\n",
       "\n",
       "var ldavis_el1207220273076985449066159466_data = {\"mdsDat\": {\"x\": [0.0667941089532528, 0.10184768878886186, -0.07499944254412744, -0.09364235519798726], \"y\": [-0.09987479473036436, 0.08956587819591771, 0.08560665790358109, -0.07529774136913443], \"topics\": [1, 2, 3, 4], \"cluster\": [1, 1, 1, 1], \"Freq\": [29.06584081694347, 25.285937459416118, 18.47933870993817, 27.16888301370223]}, \"tinfo\": {\"Term\": [\"fault\", \"rocks\", \"subduction\", \"mantle\", \"isotopic\", \"inclusions\", \"compositions\", \"arc\", \"dewfall\", \"sediment\", \"magmas\", \"melt\", \"lava\", \"sand\", \"crust\", \"petm\", \"melts\", \"mo\", \"proterozoic\", \"melting\", \"ka\", \"spatial\", \"crystallization\", \"waterfalls\", \"faults\", \"forest\", \"\\u00b0c\", \"mgo\", \"swi\", \"precipitation\", \"fault\", \"faults\", \"slip\", \"earthquakes\", \"ky\", \"dome\", \"wind\", \"earthquake\", \"sos\", \"easm\", \"probability\", \"monitoring\", \"loads\", \"mpes\", \"valley\", \"head\", \"forcing\", \"ree\", \"sheet\", \"opening\", \"mis\", \"problem\", \"imperial\", \"seepage\", \"creeping\", \"preserve\", \"sliding\", \"icesheet\", \"summer\", \"white\", \"interglacial\", \"stage\", \"springs\", \"stress\", \"zone\", \"carbon\", \"interface\", \"precipitation\", \"elevations\", \"temporal\", \"record\", \"likely\", \"change\", \"data\", \"trends\", \"depth\", \"models\", \"deformation\", \"volcanic\", \"age\", \"across\", \"ca\", \"time\", \"formation\", \"marine\", \"1\", \"atlantic\", \"associated\", \"may\", \"low\", \"show\", \"water\", \"results\", \"river\", \"continental\", \"arc\", \"mo\", \"proterozoic\", \"melting\", \"granites\", \"silicate\", \"forearc\", \"glacier\", \"silver\", \"domain\", \"sd\", \"basement\", \"ttgs\", \"ttg\", \"geodynamic\", \"li\", \"reos\", \"lantian\", \"keel\", \"plum\", \"depleted\", \"contents\", \"beneath\", \"heavy\", \"transpiration\", \"leafless\", \"patagonia\", \"ag\", \"window\", \"nac\", \"subduction\", \"batholith\", \"compositions\", \"basalts\", \"isotopic\", \"ediacaran\", \"melt\", \"rocks\", \"cooling\", \"mantle\", \"slab\", \"magmas\", \"mafic\", \"igneous\", \"crust\", \"exhumation\", \"oceanic\", \"magma\", \"crustal\", \"zircon\", \"geochemical\", \"source\", \"hg\", \"melts\", \"province\", \"element\", \"ca\", \"\\u00b1\", \"high\", \"values\", \"\\u00b0c\", \"data\", \"isotope\", \"may\", \"water\", \"low\", \"dewfall\", \"mgo\", \"swi\", \"spicor\", \"spi\", \"permeability\", \"eawm\", \"clinopyroxene\", \"reordering\", \"oil\", \"nonstationarity\", \"t\\u03b447\", \"autogenic\", \"oib\", \"cnn\", \"metamorphism\", \"waterfalls\", \"feototal\", \"power\", \"\\u2013\", \"pyroclasts\", \"idf\", \"fusing\", \"\\u03c9\", \"bubble\", \"diamond\", \"diamonds\", \"amplitudes\", \"laramide\", \"gypsum\", \"provenance\", \"inclusions\", \"median\", \"landscape\", \"crystals\", \"spatial\", \"processes\", \"scales\", \"crystallization\", \"margins\", \"approach\", \"ka\", \"rainfall\", \"sediment\", \"\\u00b0c\", \"different\", \"ocean\", \"may\", \"distribution\", \"organic\", \"fluid\", \"water\", \"show\", \"using\", \"event\", \"precipitation\", \"results\", \"data\", \"values\", \"temperature\", \"global\", \"time\", \"evolution\", \"early\", \"petm\", \"forest\", \"fluvial\", \"dftt\", \"module\", \"runoff\", \"mars\", \"knickzones\", \"kpg\", \"pollen\", \"mgca\", \"effusion\", \"alluvial\", \"biofilm\", \"per\", \"hematite\", \"sorption\", \"operation\", \"ddms\", \"avulsion\", \"grass\", \"reconstructed\", \"dechannelization\", \"silicified\", \"silica\", \"martian\", \"\\u03b4\\u203217o\", \"native\", \"swatm\", \"forested\", \"meteoric\", \"lava\", \"hydrology\", \"sand\", \"\\u03b418o\", \"bar\", \"vegetation\", \"reservoir\", \"water\", \"deposits\", \"sediment\", \"indicate\", \"erosion\", \"values\", \"large\", \"discharge\", \"channel\", \"results\", \"early\", \"model\", \"formed\", \"formation\", \"river\", \"conditions\", \"changes\", \"new\", \"carbonate\", \"data\", \"used\", \"study\", \"however\", \"show\", \"evolution\"], \"Freq\": [27.0, 40.0, 24.0, 39.0, 29.0, 19.0, 23.0, 14.0, 11.0, 33.0, 21.0, 17.0, 17.0, 20.0, 41.0, 11.0, 16.0, 10.0, 10.0, 10.0, 16.0, 18.0, 14.0, 8.0, 11.0, 10.0, 27.0, 7.0, 7.0, 27.0, 26.41691484774676, 10.520847381995571, 8.940685690633133, 8.145897121709565, 8.142418902509409, 7.351111133067303, 6.556316113440471, 6.556315468370144, 6.556313533159165, 6.555680719168929, 6.53055329474317, 5.761524964235598, 4.966732524890071, 4.966731879819744, 4.966729944608765, 4.966729622073602, 4.966529972807569, 4.965120494144301, 4.960573715948399, 4.960474697653291, 4.171937505263239, 4.171936860192912, 4.17193557005226, 4.171935892587423, 4.171934279911607, 4.17193460244677, 4.171934279911607, 4.171935247517096, 4.171925893997363, 4.164914624619303, 5.493524046413459, 7.745391663063368, 6.557214051334873, 11.137450109858012, 17.54994069824543, 12.893482484879991, 5.763505330137764, 15.299954751737742, 8.941661682037035, 11.326131890200621, 15.135028331236558, 10.41211045734914, 12.714356776353243, 24.622538202380625, 8.903021969483367, 9.487753707727462, 15.163469481929232, 9.518579038346651, 12.122605382816845, 12.730093912037036, 9.480637291886193, 14.302211576428787, 12.831644753246943, 13.708086324091097, 10.937577649492349, 9.682672027986078, 8.831236608346313, 10.159134517570408, 13.296545647370516, 11.296883111459247, 10.99599134783266, 11.829903432054724, 10.527237448649272, 9.732748837427497, 9.495061064385357, 14.185468213474639, 10.313405531250122, 10.313404408887413, 10.311075506264537, 7.978159314337966, 7.976456128925814, 7.196181716520063, 6.421324387733258, 5.642910291519034, 5.642908607974969, 5.64290973033768, 5.642871570005545, 5.641272203144052, 5.639159355342816, 6.340305513162201, 4.864492267035326, 4.864490022309906, 4.864489461128551, 4.8644888999471965, 4.864486655221777, 4.861986592285652, 4.859896752919968, 4.858414111780296, 4.819446239676704, 4.086073961960939, 4.0860734007795845, 4.0860697531007775, 4.0860697531007775, 4.086068630738068, 4.08607059487281, 20.631744968972612, 5.399761634063655, 19.432522860784267, 7.844938227770475, 23.160592019152443, 7.200631323483144, 14.011640044065865, 29.26581417329203, 9.528767372628593, 27.972706424427248, 10.26084079609842, 14.886352299601281, 9.511967847588009, 10.593320546353782, 25.70844067000952, 6.422267172409507, 14.80242313852366, 13.690058435722854, 12.35023233906182, 15.841270839105844, 12.11182678641814, 10.853430349079959, 9.535979675401896, 10.310480654028332, 9.350225279838575, 10.345288488747975, 14.253818980139961, 10.316714256518672, 13.194745181164112, 13.441806395025923, 11.501104341496749, 14.775779370155245, 11.501428704319887, 12.187827577313593, 12.648270144840941, 10.344657720905058, 10.905410130065542, 6.614579422660499, 6.614578602421157, 5.899443090377955, 5.899443090377955, 5.897552438697689, 5.184300606300355, 5.184300606300355, 4.4691638638981415, 4.46916263353913, 3.7540226101795535, 3.754023430418894, 3.754022200059883, 3.7540213798205424, 3.7540168685041686, 3.752837364332272, 7.331428824806051, 3.0388819716404707, 3.0388805362216247, 3.0388805362216247, 3.0388805362216247, 3.038879921042119, 3.0388805362216247, 3.0388801261019545, 3.0388791008027787, 3.038879510922449, 3.0388791008027787, 3.038878485623273, 3.0388778704437676, 3.038876024905251, 6.614984620894794, 13.77059637338528, 7.33471306312613, 4.4699316079210165, 4.470440976551579, 10.9122911178945, 15.063065547758908, 5.9025353926923145, 7.33099327771615, 4.470753487740377, 5.902676473858912, 7.790975297575609, 3.7549306151296853, 11.624340069298727, 10.193535069401538, 8.762835060139956, 8.62526287744257, 11.730922789465916, 5.902900809318587, 5.90087481814711, 7.332267929651565, 10.503435436378911, 8.620462836820915, 7.331375509248907, 6.191919523160951, 7.330319040978112, 8.045349562385708, 8.499215057481722, 7.330398604194158, 6.487870489791065, 6.413281205107066, 6.615631789734589, 6.306848178619551, 5.958040578756402, 11.17498216544587, 9.606472376974942, 8.822212357491496, 8.037963191474365, 6.469452197062735, 6.469451594092385, 6.469446167359227, 6.469446770329578, 5.685192780549641, 5.685193986490343, 5.685189162727536, 4.9009363788883, 4.900934569977247, 4.900934268492072, 4.900927937303388, 4.900923113540581, 4.11667726386038, 4.116676359404853, 4.116676057919678, 4.116674851978977, 4.116676962375204, 4.116674851978977, 4.116674249008626, 4.116674851978977, 4.116673043067924, 4.116672440097573, 4.115751704371853, 3.3324166414065832, 3.3324154354658813, 3.3324154354658813, 7.254869316649429, 14.313372896965518, 6.4699333674026995, 15.100149111722986, 14.896512758899314, 7.254526829490156, 8.03927887277988, 10.394351424504082, 29.15596081144923, 13.532812100584426, 17.453236082081897, 15.65263757884259, 11.962820813961503, 18.563747078201043, 13.218022987347691, 10.392942885764539, 8.852262590865909, 16.392423108219024, 13.29796359052029, 12.650866663473748, 10.15871543516176, 14.316888214110868, 11.965038538911864, 11.160355310675389, 11.176260462589633, 11.960616354358862, 10.393151513505925, 14.23458637904441, 10.927866826564408, 11.148777073998714, 11.04682322925794, 10.565597416021761, 9.222511108061115], \"Total\": [27.0, 40.0, 24.0, 39.0, 29.0, 19.0, 23.0, 14.0, 11.0, 33.0, 21.0, 17.0, 17.0, 20.0, 41.0, 11.0, 16.0, 10.0, 10.0, 10.0, 16.0, 18.0, 14.0, 8.0, 11.0, 10.0, 27.0, 7.0, 7.0, 27.0, 27.77746796209359, 11.098795198722579, 9.510151514399478, 8.71536120092711, 8.714902051360887, 7.9205709497837375, 7.125778509965321, 7.125778093048527, 7.12577923520053, 7.1257695088000474, 7.122686266626775, 6.330986178163324, 5.536192767711245, 5.53619294720175, 5.536191088451232, 5.536191085879866, 5.536189569689988, 5.536083460901584, 5.535386366192326, 5.535797641179434, 4.741397526028399, 4.741396841364775, 4.741395743875306, 4.741396918432033, 4.741395303742711, 4.741396012085092, 4.741395691965489, 4.741397953154723, 4.741397208562918, 4.740951056333517, 6.303649295628883, 9.486696569994821, 7.9092637627784566, 14.945049824167448, 26.529814942426235, 19.661356932463306, 7.113688722227235, 27.724254290099978, 13.292087727261745, 18.51952241046285, 28.009897224038276, 16.578980950534415, 22.735775112451417, 62.132119009062, 13.410716413645835, 14.886206752902144, 30.640371352986822, 15.500218322063509, 23.438692939801136, 25.82037540019051, 16.384060071682583, 36.44807036661148, 30.85839067803264, 38.197031103240526, 24.167008458518804, 18.54069323732594, 14.88527177368892, 21.147847987805346, 45.21970269965989, 29.370364129649946, 38.46085484700462, 64.13756982472381, 42.43755345053843, 27.978037428385385, 27.224214847074357, 14.7776897642473, 10.88696823062914, 10.886967493653914, 10.886873032021542, 8.551717567069993, 8.551645080046752, 7.772913506429958, 6.994880384164251, 6.216463765502797, 6.216462626794445, 6.21646424053495, 6.216464017777056, 6.216412119003425, 6.216371517023819, 6.992153972403773, 5.4380446800120135, 5.438044052071357, 5.438044536448575, 5.4380443025729495, 5.438042610123228, 5.4379418055431765, 5.437939743886295, 5.437403933939528, 5.438680916769616, 4.659625380783642, 4.659625389043369, 4.65962279055448, 4.659623601304687, 4.659622411586176, 4.659624855387197, 24.942496582306116, 6.221156111282954, 23.87336143553696, 9.255587609645657, 29.348017708719173, 8.556766158758489, 17.642793393695847, 40.11883630171486, 11.697623302650332, 39.326010296470876, 13.259655600820981, 21.04735783046288, 12.253439172579853, 14.044054987919417, 41.955623534802605, 7.709565228996969, 23.196242272790077, 21.581154024948336, 18.68993112234215, 27.031037626165215, 19.215539154242528, 16.889011599776058, 14.0291654802028, 16.607524719715002, 14.06401074205949, 17.18486776486076, 36.44807036661148, 18.40310290413013, 34.882297463423136, 41.5676501189067, 27.201887499269294, 62.132119009062, 29.51708466752135, 45.21970269965989, 64.13756982472381, 29.370364129649946, 11.494784442538515, 7.203953543298264, 7.203954698405113, 6.488814603423573, 6.4888146691516955, 6.488914445183536, 5.7736744893207765, 5.77367583894238, 5.058535651632536, 5.058534857997144, 4.343393115253928, 4.343394568473552, 4.343393343743347, 4.343393741045353, 4.343394807264039, 4.343438426798901, 8.702399230294773, 3.628251586892881, 3.628250422553362, 3.6282505661716415, 3.6282507637845907, 3.6282501013106394, 3.6282509074763825, 3.6282505759592514, 3.6282503032906246, 3.6282510883170374, 3.62825073867271, 3.6282500098810777, 3.628251035114822, 3.6282498162570462, 7.981596316044782, 19.808260568354015, 10.273726404124357, 5.836162320260485, 5.841666676880049, 18.58545283695353, 38.580274491054205, 9.655615748530403, 14.145744803444993, 6.6357972164404435, 10.416978073591046, 16.60971800717895, 5.1210067010012335, 33.40232869764808, 27.201887499269294, 24.264859698973094, 23.55346124449327, 45.21970269965989, 11.216927300501695, 11.213842558950208, 21.30072683084866, 64.13756982472381, 38.46085484700462, 25.99194254848038, 15.14310850456101, 27.724254290099978, 42.43755345053843, 62.132119009062, 41.5676501189067, 21.32329293383949, 20.634125131752683, 30.85839067803264, 32.33671945526264, 30.823225539585536, 11.747082432467467, 10.178570595654145, 9.394314143022234, 8.610057577627918, 7.041545743434099, 7.04154548774754, 7.041542868380184, 7.041543951806847, 6.25728728100576, 6.25728875042821, 6.257287055903873, 5.473028856088957, 5.4730291868759045, 5.473029357319559, 5.473028264036794, 5.473028649657019, 4.688769278650088, 4.68876959578629, 4.688769441939056, 4.6887682869715075, 4.688770732779973, 4.688768532016793, 4.688767874124801, 4.688769103763546, 4.688768361181491, 4.688767892007306, 4.688719480603862, 3.904508196861162, 3.904506975584736, 3.9045072786335617, 8.619738226733261, 17.267718826031654, 7.819246469079346, 20.434742696517116, 22.577041020759523, 9.414619942697044, 10.913552829540937, 15.529328364327473, 64.13756982472381, 23.394424799661635, 33.40232869764808, 29.59439635547548, 21.89140886776397, 41.5676501189067, 27.36998156060307, 18.81099968013236, 14.77993498465974, 42.43755345053843, 30.823225539585536, 29.514895667200733, 19.336332788559325, 38.197031103240526, 27.978037428385385, 25.719891556372943, 26.238959534644188, 33.2290058056358, 24.061969286700684, 62.132119009062, 30.10009645233635, 34.12221602728408, 33.21902090320311, 38.46085484700462, 32.33671945526264], \"Category\": [\"Default\", \"Default\", \"Default\", \"Default\", \"Default\", \"Default\", \"Default\", \"Default\", \"Default\", \"Default\", \"Default\", \"Default\", \"Default\", \"Default\", \"Default\", \"Default\", \"Default\", \"Default\", \"Default\", \"Default\", \"Default\", \"Default\", \"Default\", \"Default\", \"Default\", \"Default\", \"Default\", \"Default\", \"Default\", \"Default\", \"Topic1\", \"Topic1\", \"Topic1\", \"Topic1\", \"Topic1\", \"Topic1\", \"Topic1\", \"Topic1\", \"Topic1\", \"Topic1\", \"Topic1\", \"Topic1\", \"Topic1\", \"Topic1\", \"Topic1\", \"Topic1\", \"Topic1\", \"Topic1\", \"Topic1\", \"Topic1\", \"Topic1\", \"Topic1\", \"Topic1\", \"Topic1\", \"Topic1\", \"Topic1\", \"Topic1\", \"Topic1\", \"Topic1\", \"Topic1\", \"Topic1\", \"Topic1\", \"Topic1\", \"Topic1\", \"Topic1\", \"Topic1\", \"Topic1\", \"Topic1\", \"Topic1\", \"Topic1\", \"Topic1\", \"Topic1\", \"Topic1\", \"Topic1\", \"Topic1\", \"Topic1\", \"Topic1\", \"Topic1\", \"Topic1\", \"Topic1\", \"Topic1\", \"Topic1\", \"Topic1\", \"Topic1\", \"Topic1\", \"Topic1\", \"Topic1\", \"Topic1\", \"Topic1\", \"Topic1\", \"Topic1\", \"Topic1\", \"Topic1\", \"Topic1\", \"Topic1\", \"Topic2\", \"Topic2\", \"Topic2\", \"Topic2\", \"Topic2\", \"Topic2\", \"Topic2\", \"Topic2\", \"Topic2\", \"Topic2\", \"Topic2\", \"Topic2\", \"Topic2\", \"Topic2\", \"Topic2\", \"Topic2\", \"Topic2\", \"Topic2\", \"Topic2\", \"Topic2\", \"Topic2\", \"Topic2\", \"Topic2\", \"Topic2\", \"Topic2\", \"Topic2\", \"Topic2\", \"Topic2\", \"Topic2\", \"Topic2\", \"Topic2\", \"Topic2\", \"Topic2\", \"Topic2\", \"Topic2\", \"Topic2\", \"Topic2\", \"Topic2\", \"Topic2\", \"Topic2\", \"Topic2\", \"Topic2\", \"Topic2\", \"Topic2\", \"Topic2\", \"Topic2\", \"Topic2\", \"Topic2\", \"Topic2\", \"Topic2\", \"Topic2\", \"Topic2\", \"Topic2\", \"Topic2\", \"Topic2\", \"Topic2\", \"Topic2\", \"Topic2\", \"Topic2\", \"Topic2\", \"Topic2\", \"Topic2\", \"Topic2\", \"Topic2\", \"Topic2\", \"Topic2\", \"Topic3\", \"Topic3\", \"Topic3\", \"Topic3\", \"Topic3\", \"Topic3\", \"Topic3\", \"Topic3\", \"Topic3\", \"Topic3\", \"Topic3\", \"Topic3\", \"Topic3\", \"Topic3\", \"Topic3\", \"Topic3\", \"Topic3\", \"Topic3\", \"Topic3\", \"Topic3\", \"Topic3\", \"Topic3\", \"Topic3\", \"Topic3\", \"Topic3\", \"Topic3\", \"Topic3\", \"Topic3\", \"Topic3\", \"Topic3\", \"Topic3\", \"Topic3\", \"Topic3\", \"Topic3\", \"Topic3\", \"Topic3\", \"Topic3\", \"Topic3\", \"Topic3\", \"Topic3\", \"Topic3\", \"Topic3\", \"Topic3\", \"Topic3\", \"Topic3\", \"Topic3\", \"Topic3\", \"Topic3\", \"Topic3\", \"Topic3\", \"Topic3\", \"Topic3\", \"Topic3\", \"Topic3\", \"Topic3\", \"Topic3\", \"Topic3\", \"Topic3\", \"Topic3\", \"Topic3\", \"Topic3\", \"Topic3\", \"Topic3\", \"Topic3\", \"Topic4\", \"Topic4\", \"Topic4\", \"Topic4\", \"Topic4\", \"Topic4\", \"Topic4\", \"Topic4\", \"Topic4\", \"Topic4\", \"Topic4\", \"Topic4\", \"Topic4\", \"Topic4\", \"Topic4\", \"Topic4\", \"Topic4\", \"Topic4\", \"Topic4\", \"Topic4\", \"Topic4\", \"Topic4\", \"Topic4\", \"Topic4\", \"Topic4\", \"Topic4\", \"Topic4\", \"Topic4\", \"Topic4\", \"Topic4\", \"Topic4\", \"Topic4\", \"Topic4\", \"Topic4\", \"Topic4\", \"Topic4\", \"Topic4\", \"Topic4\", \"Topic4\", \"Topic4\", \"Topic4\", \"Topic4\", \"Topic4\", \"Topic4\", \"Topic4\", \"Topic4\", \"Topic4\", \"Topic4\", \"Topic4\", \"Topic4\", \"Topic4\", \"Topic4\", \"Topic4\", \"Topic4\", \"Topic4\", \"Topic4\", \"Topic4\", \"Topic4\", \"Topic4\", \"Topic4\", \"Topic4\", \"Topic4\", \"Topic4\"], \"logprob\": [30.0, 29.0, 28.0, 27.0, 26.0, 25.0, 24.0, 23.0, 22.0, 21.0, 20.0, 19.0, 18.0, 17.0, 16.0, 15.0, 14.0, 13.0, 12.0, 11.0, 10.0, 9.0, 8.0, 7.0, 6.0, 5.0, 4.0, 3.0, 2.0, 1.0, -5.3459, -6.2666, -6.4293, -6.5224, -6.5229, -6.6251, -6.7395, -6.7395, -6.7395, -6.7396, -6.7435, -6.8687, -7.0172, -7.0172, -7.0172, -7.0172, -7.0172, -7.0175, -7.0184, -7.0184, -7.1916, -7.1916, -7.1916, -7.1916, -7.1916, -7.1916, -7.1916, -7.1916, -7.1916, -7.1933, -6.9164, -6.5729, -6.7394, -6.2096, -5.7549, -6.0632, -6.8684, -5.8921, -6.4292, -6.1928, -5.9029, -6.277, -6.0772, -5.4163, -6.4336, -6.3699, -5.9011, -6.3667, -6.1249, -6.076, -6.3707, -5.9595, -6.068, -6.002, -6.2277, -6.3496, -6.4417, -6.3016, -6.0324, -6.1954, -6.2224, -6.1493, -6.266, -6.3445, -6.3692, -5.8284, -6.1472, -6.1472, -6.1474, -6.4039, -6.4041, -6.5071, -6.621, -6.7502, -6.7502, -6.7502, -6.7502, -6.7505, -6.7509, -6.6337, -6.8987, -6.8987, -6.8987, -6.8987, -6.8987, -6.8992, -6.8996, -6.8999, -6.908, -7.0731, -7.0731, -7.0731, -7.0731, -7.0731, -7.0731, -5.4538, -6.7943, -5.5137, -6.4208, -5.3382, -6.5065, -5.8407, -5.1042, -6.2263, -5.1494, -6.1523, -5.7802, -6.2281, -6.1204, -5.2338, -6.6209, -5.7858, -5.864, -5.967, -5.718, -5.9865, -6.0962, -6.2256, -6.1475, -6.2452, -6.1441, -5.8236, -6.1469, -5.9008, -5.8823, -6.0382, -5.7876, -6.0382, -5.9802, -5.9431, -6.1442, -5.7778, -6.2778, -6.2778, -6.3922, -6.3922, -6.3925, -6.5214, -6.5214, -6.6698, -6.6698, -6.8442, -6.8442, -6.8442, -6.8442, -6.8442, -6.8445, -6.1749, -7.0556, -7.0556, -7.0556, -7.0556, -7.0556, -7.0556, -7.0556, -7.0556, -7.0556, -7.0556, -7.0556, -7.0556, -7.0556, -6.2777, -5.5445, -6.1744, -6.6697, -6.6696, -5.7772, -5.4548, -6.3917, -6.1749, -6.6695, -6.3916, -6.1141, -6.844, -5.7139, -5.8453, -5.9965, -6.0123, -5.7048, -6.3916, -6.3919, -6.1748, -5.8153, -6.0129, -6.1749, -6.3438, -6.175, -6.0819, -6.0271, -6.175, -6.2971, -6.3087, -6.2776, -6.3254, -6.3823, -6.1388, -6.29, -6.3752, -6.4683, -6.6854, -6.6854, -6.6854, -6.6854, -6.8146, -6.8146, -6.8146, -6.963, -6.963, -6.963, -6.963, -6.963, -7.1374, -7.1374, -7.1374, -7.1374, -7.1374, -7.1374, -7.1374, -7.1374, -7.1374, -7.1374, -7.1376, -7.3488, -7.3488, -7.3488, -6.5708, -5.8913, -6.6853, -5.8378, -5.8513, -6.5708, -6.4681, -6.2112, -5.1798, -5.9473, -5.6929, -5.8018, -6.0707, -5.6312, -5.9709, -6.2113, -6.3718, -5.7556, -5.9648, -6.0147, -6.2341, -5.891, -6.0705, -6.1401, -6.1387, -6.0708, -6.2113, -5.8968, -6.1611, -6.1411, -6.1503, -6.1949, -6.3308], \"loglift\": [30.0, 29.0, 28.0, 27.0, 26.0, 25.0, 24.0, 23.0, 22.0, 21.0, 20.0, 19.0, 18.0, 17.0, 16.0, 15.0, 14.0, 13.0, 12.0, 11.0, 10.0, 9.0, 8.0, 7.0, 6.0, 5.0, 4.0, 3.0, 2.0, 1.0, 1.1854, 1.1821, 1.1739, 1.168, 1.1677, 1.161, 1.1523, 1.1523, 1.1523, 1.1522, 1.1488, 1.1414, 1.1271, 1.1271, 1.1271, 1.1271, 1.127, 1.1268, 1.126, 1.1259, 1.1077, 1.1077, 1.1077, 1.1077, 1.1077, 1.1077, 1.1077, 1.1077, 1.1077, 1.1061, 1.098, 1.0328, 1.0481, 0.9415, 0.8224, 0.8137, 1.0251, 0.6411, 0.8392, 0.7439, 0.6201, 0.7704, 0.6544, 0.31, 0.8259, 0.7852, 0.5322, 0.748, 0.5763, 0.5284, 0.6885, 0.3001, 0.3581, 0.2108, 0.4428, 0.586, 0.7135, 0.5024, 0.0116, 0.2801, -0.0165, -0.4548, -0.1585, 0.1797, 0.1823, 1.334, 1.3208, 1.3208, 1.3206, 1.3055, 1.3053, 1.2978, 1.2894, 1.2781, 1.2781, 1.2781, 1.2781, 1.2778, 1.2775, 1.2771, 1.2635, 1.2635, 1.2635, 1.2635, 1.2635, 1.263, 1.2625, 1.2623, 1.254, 1.2436, 1.2436, 1.2436, 1.2436, 1.2436, 1.2436, 1.1852, 1.2333, 1.1691, 1.2096, 1.1381, 1.2024, 1.1445, 1.0595, 1.1699, 1.0343, 1.1185, 1.0286, 1.1217, 1.0929, 0.8851, 1.1922, 0.9257, 0.9198, 0.9606, 0.8406, 0.9134, 0.9327, 0.9889, 0.8982, 0.9667, 0.8674, 0.4361, 0.7962, 0.4028, 0.246, 0.5141, -0.0614, 0.4324, 0.0638, -0.2486, 0.3314, 1.6359, 1.6032, 1.6032, 1.5933, 1.5933, 1.593, 1.5808, 1.5808, 1.5646, 1.5646, 1.5427, 1.5427, 1.5427, 1.5427, 1.5427, 1.5424, 1.5171, 1.5113, 1.5113, 1.5113, 1.5113, 1.5113, 1.5113, 1.5113, 1.5113, 1.5113, 1.5113, 1.5113, 1.5113, 1.5113, 1.5007, 1.325, 1.3515, 1.4218, 1.421, 1.156, 0.748, 1.1964, 1.0312, 1.2936, 1.1205, 0.9315, 1.3782, 0.633, 0.707, 0.67, 0.6839, 0.3392, 1.0465, 1.0465, 0.6221, -0.1208, 0.193, 0.4229, 0.7942, 0.3582, 0.0256, -0.3008, -0.0468, 0.4987, 0.5199, 0.1485, 0.0539, 0.045, 1.2532, 1.2453, 1.2403, 1.2343, 1.2184, 1.2184, 1.2184, 1.2184, 1.2072, 1.2072, 1.2072, 1.1927, 1.1927, 1.1927, 1.1927, 1.1927, 1.173, 1.173, 1.173, 1.173, 1.173, 1.173, 1.173, 1.173, 1.173, 1.173, 1.1728, 1.1447, 1.1447, 1.1447, 1.1307, 1.1155, 1.1137, 1.0006, 0.8873, 1.0425, 0.9974, 0.9016, 0.5147, 0.7557, 0.654, 0.6662, 0.6988, 0.497, 0.5752, 0.7098, 0.7905, 0.3519, 0.4624, 0.4559, 0.6594, 0.3218, 0.4537, 0.4682, 0.4496, 0.2813, 0.4636, -0.1705, 0.2899, 0.1845, 0.2021, 0.0111, 0.0485]}, \"token.table\": {\"Topic\": [1, 2, 3, 4, 1, 2, 3, 4, 2, 1, 2, 3, 4, 4, 3, 1, 2, 3, 4, 2, 1, 2, 3, 4, 1, 2, 3, 4, 3, 4, 1, 4, 2, 3, 2, 2, 2, 4, 3, 1, 2, 3, 4, 1, 2, 3, 4, 1, 2, 3, 4, 1, 3, 4, 1, 3, 4, 1, 2, 3, 4, 3, 3, 2, 3, 4, 1, 2, 3, 4, 2, 1, 2, 3, 4, 1, 2, 1, 1, 2, 3, 4, 1, 2, 3, 4, 2, 3, 3, 4, 1, 2, 3, 4, 4, 4, 1, 2, 3, 4, 2, 1, 2, 3, 4, 1, 2, 3, 3, 4, 3, 3, 1, 2, 3, 4, 1, 3, 4, 1, 2, 3, 4, 2, 1, 1, 2, 3, 4, 1, 1, 1, 3, 2, 4, 4, 1, 2, 4, 1, 3, 4, 1, 2, 3, 4, 1, 2, 3, 4, 1, 2, 3, 4, 2, 3, 1, 4, 1, 3, 1, 2, 3, 4, 4, 1, 2, 4, 4, 1, 2, 3, 4, 1, 2, 3, 4, 3, 1, 2, 3, 4, 2, 2, 1, 2, 3, 4, 2, 4, 3, 1, 2, 4, 2, 4, 1, 2, 3, 4, 1, 2, 3, 4, 2, 4, 1, 3, 1, 2, 4, 1, 2, 3, 4, 1, 2, 3, 4, 1, 4, 1, 1, 2, 3, 4, 1, 2, 3, 4, 1, 3, 2, 4, 4, 1, 2, 3, 2, 3, 1, 2, 3, 4, 1, 4, 2, 2, 1, 2, 4, 1, 1, 2, 3, 4, 2, 3, 1, 2, 3, 4, 2, 4, 1, 2, 3, 4, 1, 3, 4, 1, 2, 3, 4, 4, 4, 1, 2, 3, 4, 1, 2, 3, 4, 2, 3, 2, 2, 3, 3, 1, 4, 4, 3, 1, 2, 1, 2, 3, 4, 1, 2, 3, 4, 4, 1, 1, 2, 4, 1, 2, 3, 4, 3, 1, 3, 4, 1, 2, 3, 4, 3, 3, 1, 4, 1, 3, 4, 2, 4, 3, 4, 2, 4, 3, 1, 3, 4, 1, 1, 1, 1, 2, 3, 4, 2, 2, 3, 1, 2, 4, 3, 2, 3, 4, 1, 2, 3, 4, 1, 3, 2, 1, 2, 3, 4, 1, 2, 3, 4, 1, 2, 3, 4, 1, 2, 3, 4, 4, 1, 4, 1, 3, 4, 2, 1, 2, 3, 4, 1, 1, 1, 2, 3, 4, 4, 2, 4, 2, 1, 2, 4, 1, 1, 4, 1, 1, 2, 3, 4, 1, 2, 3, 4, 3, 3, 1, 4, 1, 2, 4, 1, 2, 3, 4, 1, 2, 3, 4, 1, 2, 4, 1, 4, 3, 1, 2, 3, 4, 1, 2, 3, 1, 2, 3, 4, 2, 1, 2, 4, 2, 2, 3, 1, 2, 3, 4, 1, 2, 3, 4, 1, 1, 2, 3, 4, 1, 3, 4, 1, 2, 3, 4, 1, 2, 3, 4, 3, 4, 1, 1, 2, 1, 2, 3, 4, 1, 2, 3, 4, 1, 2, 3, 4, 1, 2, 3, 4, 1, 2, 3, 4, 4, 3, 3], \"Freq\": [0.53935415855261, 0.05393541585526101, 0.21574166342104403, 0.21574166342104403, 0.5493143921972774, 0.24413972986545665, 0.12206986493272833, 0.06103493246636416, 0.8584384367183664, 0.5034783498889053, 0.3485619345384729, 0.07745820767521619, 0.07745820767521619, 0.9135708634607306, 0.8268448954261369, 0.19199426031915795, 0.19199426031915795, 0.5759827809574739, 0.09599713015957897, 0.9473740634257447, 0.47286135240646615, 0.14185840572193986, 0.047286135240646614, 0.2837168114438797, 0.6046244997628006, 0.06718049997364452, 0.06718049997364452, 0.20154149992093356, 0.9209389257277366, 0.8531025111892689, 0.21243555365731015, 0.7435244378005855, 0.864342744880168, 0.108042843110021, 0.9651789156732767, 0.8037091354984304, 0.919556475984925, 0.913570835009877, 0.826844828560798, 0.3841081258673381, 0.3841081258673381, 0.13718147352404933, 0.0823088841144296, 0.6611954629914383, 0.20344475784351945, 0.05086118946087986, 0.10172237892175973, 0.24935614905452755, 0.20779679087877298, 0.12467807452726377, 0.41559358175754596, 0.5717860919938662, 0.08796709107597941, 0.35186836430391766, 0.34300140552894237, 0.2286676036859616, 0.41922394009092956, 0.20297788881437798, 0.06765929627145933, 0.13531859254291867, 0.608933666443134, 0.8659994325063975, 0.9209386154144372, 0.7958661393915537, 0.12566307464077164, 0.04188769154692388, 0.31104330212534426, 0.19440206382834016, 0.07776082553133606, 0.4276845404223484, 0.9194658704376677, 0.3305880463607634, 0.25712403605837153, 0.11019601545358779, 0.25712403605837153, 0.17097490218776834, 0.8548745109388417, 0.8436335179314249, 0.16684295000867835, 0.6197023857465196, 0.07150412143229072, 0.14300824286458144, 0.21401898026356855, 0.6420569407907056, 0.05350474506589214, 0.10700949013178428, 0.4241558209461538, 0.4948484577705128, 0.6847360901009749, 0.17118402252524373, 0.4023683788469171, 0.24142102730815027, 0.12875788123101348, 0.22532629215427358, 0.8531023010476256, 0.8531025863050715, 0.6451522031638535, 0.1290304406327707, 0.19354566094915604, 0.06451522031638535, 0.9194655218456439, 0.17098090824006298, 0.17098090824006298, 0.08549045412003149, 0.5984331788402204, 0.6045865242497322, 0.2687051218887699, 0.06717628047219247, 0.9569557441453642, 0.9291459351894381, 0.8268446496605473, 0.8268447293412424, 0.16484743986256317, 0.24727115979384476, 0.37090673969076715, 0.20605929982820398, 0.37212270049598695, 0.05316038578514099, 0.53160385785141, 0.26745292357077327, 0.0891509745235911, 0.5349058471415465, 0.1783019490471822, 0.9651791316396822, 0.8837746728587953, 0.19465840757951638, 0.19465840757951638, 0.19465840757951638, 0.4217598830889522, 0.9823488619199034, 0.9179195004733698, 0.9823500453326862, 0.8659996349375434, 0.8180660625901267, 0.1168665803700181, 0.9135709186764667, 0.1163814599778042, 0.581907299889021, 0.2909536499445105, 0.6770945380943598, 0.15046545290985774, 0.22569817936478662, 0.31976014162833516, 0.04568002023261931, 0.09136004046523861, 0.5481602427914317, 0.3301831984162321, 0.13207327936649285, 0.3962198380994785, 0.13207327936649285, 0.21647217522124945, 0.30924596460178494, 0.18554757876107095, 0.27832136814160646, 0.7782540028889038, 0.12970900048148398, 0.9360104396657318, 0.03600040152560507, 0.9910985654790756, 0.826844536039769, 0.23473377409632695, 0.09389350963853078, 0.3286272837348578, 0.3286272837348578, 0.9580262979266968, 0.9031482641733287, 0.9005632179245808, 0.9824562207457315, 0.7683427858917689, 0.36652063251094613, 0.15708027107611977, 0.10472018071741318, 0.36652063251094613, 0.1551483434219234, 0.1551483434219234, 0.1551483434219234, 0.5171611447397447, 0.8268446908724512, 0.10408242953507903, 0.6244945772104742, 0.15612364430261855, 0.10408242953507903, 0.8581046732781417, 0.8577702077055434, 0.3392438475246085, 0.09692681357845959, 0.29078044073537873, 0.24231703394614895, 0.935484589763057, 0.8531020661844986, 0.8268449395512799, 0.9031480168292186, 0.919340567412773, 0.9135709531345753, 0.7128007730831503, 0.2851203092332601, 0.2580105283901445, 0.37268187434131983, 0.11467134595117533, 0.22934269190235065, 0.24082588175344471, 0.2709291169726253, 0.18061941131508352, 0.3311355874109865, 0.12788956121979642, 0.7673373673187786, 0.8436330465234565, 0.8268448745901791, 0.1424090123344279, 0.7832495678393535, 0.07120450616721395, 0.8436334396189132, 0.2524199428186076, 0.7067758398921012, 0.05048398856372152, 0.16895090340556693, 0.20274108408668032, 0.06758036136222677, 0.5406428908978141, 0.8434442712193135, 0.14057404520321892, 0.7931913349727644, 0.2371507917820332, 0.4065442144834855, 0.10163605362087137, 0.27102947632232366, 0.034073851594511755, 0.7836985866737703, 0.10222155478353527, 0.06814770318902351, 0.4816457447707594, 0.4816457447707594, 0.9194481916291682, 0.8520858551852697, 0.9588819772129106, 0.9179678615837971, 0.17134547415318757, 0.6853818966127503, 0.9194481520861819, 0.8268446617848371, 0.2922910262941269, 0.14614551314706345, 0.07307275657353172, 0.4749729177279562, 0.17373458707686398, 0.8107614063586986, 0.8584381073649374, 0.9194481278129099, 0.6031733813939665, 0.06031733813939665, 0.30158669069698324, 0.9031477424632893, 0.3745271918128958, 0.3404792652844507, 0.17023963264222536, 0.10214377958533521, 0.8160974122577367, 0.16321948245154733, 0.09267345007074003, 0.6487141504951802, 0.13901017510611005, 0.13901017510611005, 0.7126785281471179, 0.28507141125884716, 0.07628538917077028, 0.711996965593856, 0.12714231528461714, 0.07628538917077028, 0.15069779370630276, 0.602791174825211, 0.15069779370630276, 0.45516597633012085, 0.3310298009673606, 0.08275745024184016, 0.12413617536276023, 0.8520859862889995, 0.8531025830514213, 0.2874853044997524, 0.2653710503074638, 0.2653710503074638, 0.17691403353830917, 0.09733566582019869, 0.09733566582019869, 0.6813496607413908, 0.09733566582019869, 0.7935251344609922, 0.17004110024164115, 0.9185373955025484, 0.6021366921783879, 0.36128201530703274, 0.9209293667708296, 0.11601280383418135, 0.8120896268392694, 0.9588820117080743, 0.9716886648321047, 0.8436331225216998, 0.9185293635620462, 0.30493077466648494, 0.16940598592582498, 0.13552478874065998, 0.4404555634071449, 0.4895502024827059, 0.19582008099308235, 0.03263668016551373, 0.2937301214896235, 0.852085638383406, 0.9477196492222723, 0.9031477131820764, 0.8584382056798896, 0.7683426051997286, 0.27084770614694575, 0.18056513743129718, 0.18056513743129718, 0.36113027486259436, 0.9209389741748365, 0.25473962988784854, 0.3821094448317728, 0.3821094448317728, 0.08622086183097265, 0.6466564637322948, 0.12933129274645896, 0.1724417236619453, 0.9209388414869553, 0.7907427965384711, 0.9032122060976783, 0.8531022730557555, 0.1783509969474042, 0.5350529908422126, 0.2675264954211063, 0.8584385860822036, 0.9135710175032243, 0.9246538925248987, 0.9364027249521443, 0.9194484777835712, 0.9588817520350802, 0.8268448013819195, 0.5410425053472523, 0.2524865024953844, 0.18034750178241743, 0.8436333918965243, 0.9827752813988706, 0.8436332443433759, 0.20735985177749316, 0.20735985177749316, 0.38879972208279967, 0.20735985177749316, 0.9185294257403696, 0.12528822060190864, 0.8770175442133605, 0.21331041727864103, 0.6399312518359231, 0.14220694485242735, 0.8268447236184776, 0.19527410495371644, 0.7810964198148658, 0.8531024666042683, 0.535524992470408, 0.1071049984940816, 0.14280666465877548, 0.2142099969881632, 0.9031655746002284, 0.7907426724785628, 0.9194482339832268, 0.06439428522209029, 0.19318285566627083, 0.12878857044418057, 0.6439428522209028, 0.2592043863419378, 0.16494824585396042, 0.1885122809759548, 0.3770245619519096, 0.35742321188885123, 0.10722696356665537, 0.1429692847555405, 0.4289078542666215, 0.12462973657554165, 0.7228524721381415, 0.12462973657554165, 0.02492594731510833, 0.8520856693236087, 0.24468132896296252, 0.7340439868888875, 0.3107000193598843, 0.6214000387197686, 0.10356667311996143, 0.9651788810875034, 0.08981409730906682, 0.059876064872711215, 0.3592563892362673, 0.5089465514180453, 0.8436332306308558, 0.9032793140760277, 0.2860050834480267, 0.20800369705311036, 0.23400415918474915, 0.2860050834480267, 0.8531024976870614, 0.9354925192891966, 0.8531023625772721, 0.9651789548418144, 0.1508334801603873, 0.7541674008019366, 0.07541674008019365, 0.843633448855193, 0.9463571622779039, 0.8531023307573823, 0.9823487044646015, 0.05921009610848154, 0.651311057193297, 0.1776302883254446, 0.11842019221696308, 0.21522208982967497, 0.16141656737225624, 0.5918607470316062, 0.05380552245741874, 0.9246681105756408, 0.9246681199420201, 0.8850381286994733, 0.12643401838563903, 0.8432861682646151, 0.10541077103307689, 0.10541077103307689, 0.736029663963518, 0.13382357526609417, 0.06691178763304709, 0.06691178763304709, 0.26375778152285334, 0.26375778152285334, 0.11722568067682371, 0.3223706218612652, 0.12027665274406256, 0.841936569208438, 0.040092217581354186, 0.8436331790080861, 0.7683428455267959, 0.9716885090282055, 0.18758828725051693, 0.37517657450103387, 0.2813824308757754, 0.09379414362525847, 0.5939678009075117, 0.16199121842932138, 0.21598829123909516, 0.4212792603359706, 0.16203048474460405, 0.22684267864244567, 0.19443658169352487, 0.8584381088866186, 0.6711050865889767, 0.22370169552965893, 0.1491344636864393, 0.9651932777133291, 0.9651869736335759, 0.9209386660456605, 0.2657798792328802, 0.19933490942466014, 0.19933490942466014, 0.36544733394521023, 0.23084076878089244, 0.23084076878089244, 0.2693142302443745, 0.2693142302443745, 0.9031480164097383, 0.048114338777363715, 0.31274320205286416, 0.168400185720773, 0.4570862183849553, 0.18325837893837613, 0.09162918946918806, 0.7330335157535045, 0.5119739411587604, 0.1279934852896901, 0.08532899019312673, 0.2559869705793802, 0.18709782788455806, 0.20268931354160455, 0.17150634222751154, 0.4521530840543486, 0.8043758755208121, 0.11491083936011602, 0.8437125700035084, 0.9823488044443957, 0.8584386558992373, 0.18497255152203826, 0.5919121648705225, 0.1479780412176306, 0.0739890206088153, 0.6784819283158499, 0.07538688092398332, 0.15077376184796665, 0.11308032138597499, 0.11028646449922223, 0.44114585799688893, 0.3676215483307408, 0.07352430966614816, 0.10867732525427266, 0.5433866262713634, 0.21735465050854533, 0.163015987881409, 0.08858556788557924, 0.17717113577115848, 0.08858556788557924, 0.6643917591418443, 0.8531113914037864, 0.8268447664221339, 0.8268447686526397], \"Term\": [\"1\", \"1\", \"1\", \"1\", \"across\", \"across\", \"across\", \"across\", \"ag\", \"age\", \"age\", \"age\", \"age\", \"alluvial\", \"amplitudes\", \"approach\", \"approach\", \"approach\", \"approach\", \"arc\", \"associated\", \"associated\", \"associated\", \"associated\", \"atlantic\", \"atlantic\", \"atlantic\", \"atlantic\", \"autogenic\", \"avulsion\", \"bar\", \"bar\", \"basalts\", \"basalts\", \"basement\", \"batholith\", \"beneath\", \"biofilm\", \"bubble\", \"ca\", \"ca\", \"ca\", \"ca\", \"carbon\", \"carbon\", \"carbon\", \"carbon\", \"carbonate\", \"carbonate\", \"carbonate\", \"carbonate\", \"change\", \"change\", \"change\", \"changes\", \"changes\", \"changes\", \"channel\", \"channel\", \"channel\", \"channel\", \"clinopyroxene\", \"cnn\", \"compositions\", \"compositions\", \"compositions\", \"conditions\", \"conditions\", \"conditions\", \"conditions\", \"contents\", \"continental\", \"continental\", \"continental\", \"continental\", \"cooling\", \"cooling\", \"creeping\", \"crust\", \"crust\", \"crust\", \"crust\", \"crustal\", \"crustal\", \"crustal\", \"crustal\", \"crystallization\", \"crystallization\", \"crystals\", \"crystals\", \"data\", \"data\", \"data\", \"data\", \"ddms\", \"dechannelization\", \"deformation\", \"deformation\", \"deformation\", \"deformation\", \"depleted\", \"deposits\", \"deposits\", \"deposits\", \"deposits\", \"depth\", \"depth\", \"depth\", \"dewfall\", \"dftt\", \"diamond\", \"diamonds\", \"different\", \"different\", \"different\", \"different\", \"discharge\", \"discharge\", \"discharge\", \"distribution\", \"distribution\", \"distribution\", \"distribution\", \"domain\", \"dome\", \"early\", \"early\", \"early\", \"early\", \"earthquake\", \"earthquakes\", \"easm\", \"eawm\", \"ediacaran\", \"ediacaran\", \"effusion\", \"element\", \"element\", \"element\", \"elevations\", \"elevations\", \"elevations\", \"erosion\", \"erosion\", \"erosion\", \"erosion\", \"event\", \"event\", \"event\", \"event\", \"evolution\", \"evolution\", \"evolution\", \"evolution\", \"exhumation\", \"exhumation\", \"fault\", \"fault\", \"faults\", \"feototal\", \"fluid\", \"fluid\", \"fluid\", \"fluid\", \"fluvial\", \"forcing\", \"forearc\", \"forest\", \"forested\", \"formation\", \"formation\", \"formation\", \"formation\", \"formed\", \"formed\", \"formed\", \"formed\", \"fusing\", \"geochemical\", \"geochemical\", \"geochemical\", \"geochemical\", \"geodynamic\", \"glacier\", \"global\", \"global\", \"global\", \"global\", \"granites\", \"grass\", \"gypsum\", \"head\", \"heavy\", \"hematite\", \"hg\", \"hg\", \"high\", \"high\", \"high\", \"high\", \"however\", \"however\", \"however\", \"however\", \"hydrology\", \"hydrology\", \"icesheet\", \"idf\", \"igneous\", \"igneous\", \"igneous\", \"imperial\", \"inclusions\", \"inclusions\", \"inclusions\", \"indicate\", \"indicate\", \"indicate\", \"indicate\", \"interface\", \"interface\", \"interglacial\", \"isotope\", \"isotope\", \"isotope\", \"isotope\", \"isotopic\", \"isotopic\", \"isotopic\", \"isotopic\", \"ka\", \"ka\", \"keel\", \"knickzones\", \"kpg\", \"ky\", \"landscape\", \"landscape\", \"lantian\", \"laramide\", \"large\", \"large\", \"large\", \"large\", \"lava\", \"lava\", \"leafless\", \"li\", \"likely\", \"likely\", \"likely\", \"loads\", \"low\", \"low\", \"low\", \"low\", \"mafic\", \"mafic\", \"magma\", \"magma\", \"magma\", \"magma\", \"magmas\", \"magmas\", \"mantle\", \"mantle\", \"mantle\", \"mantle\", \"margins\", \"margins\", \"margins\", \"marine\", \"marine\", \"marine\", \"marine\", \"mars\", \"martian\", \"may\", \"may\", \"may\", \"may\", \"median\", \"median\", \"median\", \"median\", \"melt\", \"melt\", \"melting\", \"melts\", \"melts\", \"metamorphism\", \"meteoric\", \"meteoric\", \"mgca\", \"mgo\", \"mis\", \"mo\", \"model\", \"model\", \"model\", \"model\", \"models\", \"models\", \"models\", \"models\", \"module\", \"monitoring\", \"mpes\", \"nac\", \"native\", \"new\", \"new\", \"new\", \"new\", \"nonstationarity\", \"ocean\", \"ocean\", \"ocean\", \"oceanic\", \"oceanic\", \"oceanic\", \"oceanic\", \"oib\", \"oil\", \"opening\", \"operation\", \"organic\", \"organic\", \"organic\", \"patagonia\", \"per\", \"permeability\", \"petm\", \"plum\", \"pollen\", \"power\", \"precipitation\", \"precipitation\", \"precipitation\", \"preserve\", \"probability\", \"problem\", \"processes\", \"processes\", \"processes\", \"processes\", \"proterozoic\", \"provenance\", \"provenance\", \"province\", \"province\", \"province\", \"pyroclasts\", \"rainfall\", \"rainfall\", \"reconstructed\", \"record\", \"record\", \"record\", \"record\", \"ree\", \"reordering\", \"reos\", \"reservoir\", \"reservoir\", \"reservoir\", \"reservoir\", \"results\", \"results\", \"results\", \"results\", \"river\", \"river\", \"river\", \"river\", \"rocks\", \"rocks\", \"rocks\", \"rocks\", \"runoff\", \"sand\", \"sand\", \"scales\", \"scales\", \"scales\", \"sd\", \"sediment\", \"sediment\", \"sediment\", \"sediment\", \"seepage\", \"sheet\", \"show\", \"show\", \"show\", \"show\", \"silica\", \"silicate\", \"silicified\", \"silver\", \"slab\", \"slab\", \"slab\", \"sliding\", \"slip\", \"sorption\", \"sos\", \"source\", \"source\", \"source\", \"source\", \"spatial\", \"spatial\", \"spatial\", \"spatial\", \"spi\", \"spicor\", \"springs\", \"springs\", \"stage\", \"stage\", \"stage\", \"stress\", \"stress\", \"stress\", \"stress\", \"study\", \"study\", \"study\", \"study\", \"subduction\", \"subduction\", \"subduction\", \"summer\", \"swatm\", \"swi\", \"temperature\", \"temperature\", \"temperature\", \"temperature\", \"temporal\", \"temporal\", \"temporal\", \"time\", \"time\", \"time\", \"time\", \"transpiration\", \"trends\", \"trends\", \"trends\", \"ttg\", \"ttgs\", \"t\\u03b447\", \"used\", \"used\", \"used\", \"used\", \"using\", \"using\", \"using\", \"using\", \"valley\", \"values\", \"values\", \"values\", \"values\", \"vegetation\", \"vegetation\", \"vegetation\", \"volcanic\", \"volcanic\", \"volcanic\", \"volcanic\", \"water\", \"water\", \"water\", \"water\", \"waterfalls\", \"waterfalls\", \"white\", \"wind\", \"window\", \"zircon\", \"zircon\", \"zircon\", \"zircon\", \"zone\", \"zone\", \"zone\", \"zone\", \"\\u00b0c\", \"\\u00b0c\", \"\\u00b0c\", \"\\u00b0c\", \"\\u00b1\", \"\\u00b1\", \"\\u00b1\", \"\\u00b1\", \"\\u03b418o\", \"\\u03b418o\", \"\\u03b418o\", \"\\u03b418o\", \"\\u03b4\\u203217o\", \"\\u03c9\", \"\\u2013\"]}, \"R\": 30, \"lambda.step\": 0.01, \"plot.opts\": {\"xlab\": \"PC1\", \"ylab\": \"PC2\"}, \"topic.order\": [1, 2, 3, 4]};\n",
       "\n",
       "function LDAvis_load_lib(url, callback){\n",
       "  var s = document.createElement('script');\n",
       "  s.src = url;\n",
       "  s.async = true;\n",
       "  s.onreadystatechange = s.onload = callback;\n",
       "  s.onerror = function(){console.warn(\"failed to load library \" + url);};\n",
       "  document.getElementsByTagName(\"head\")[0].appendChild(s);\n",
       "}\n",
       "\n",
       "if(typeof(LDAvis) !== \"undefined\"){\n",
       "   // already loaded: just create the visualization\n",
       "   !function(LDAvis){\n",
       "       new LDAvis(\"#\" + \"ldavis_el1207220273076985449066159466\", ldavis_el1207220273076985449066159466_data);\n",
       "   }(LDAvis);\n",
       "}else if(typeof define === \"function\" && define.amd){\n",
       "   // require.js is available: use it to load d3/LDAvis\n",
       "   require.config({paths: {d3: \"https://d3js.org/d3.v5\"}});\n",
       "   require([\"d3\"], function(d3){\n",
       "      window.d3 = d3;\n",
       "      LDAvis_load_lib(\"https://cdn.jsdelivr.net/gh/bmabey/pyLDAvis@3.3.1/pyLDAvis/js/ldavis.v3.0.0.js\", function(){\n",
       "        new LDAvis(\"#\" + \"ldavis_el1207220273076985449066159466\", ldavis_el1207220273076985449066159466_data);\n",
       "      });\n",
       "    });\n",
       "}else{\n",
       "    // require.js not available: dynamically load d3 & LDAvis\n",
       "    LDAvis_load_lib(\"https://d3js.org/d3.v5.js\", function(){\n",
       "         LDAvis_load_lib(\"https://cdn.jsdelivr.net/gh/bmabey/pyLDAvis@3.3.1/pyLDAvis/js/ldavis.v3.0.0.js\", function(){\n",
       "                 new LDAvis(\"#\" + \"ldavis_el1207220273076985449066159466\", ldavis_el1207220273076985449066159466_data);\n",
       "            })\n",
       "         });\n",
       "}\n",
       "</script>"
      ],
      "text/plain": [
       "<IPython.core.display.HTML object>"
      ]
     },
     "execution_count": 14,
     "metadata": {},
     "output_type": "execute_result"
    }
   ],
   "source": [
    "#Visualize the LDA model results\n",
    "lda_display = pyLDAvis.gensim_models.prepare(ldamodel, doc_term_matrix, dictionary, sort_topics=False, mds='mmds')\n",
    "pyLDAvis.display(lda_display)"
   ]
  },
  {
   "cell_type": "markdown",
   "id": "cd875e7e",
   "metadata": {},
   "source": [
    "### Find which articles were marked in which cluster"
   ]
  },
  {
   "cell_type": "code",
   "execution_count": 15,
   "id": "5b92ed5d",
   "metadata": {},
   "outputs": [
    {
     "data": {
      "text/plain": [
       "[[(0, 0.0014567155), (1, 0.99561614), (2, 0.0014661188), (3, 0.001461034)],\n",
       " [(0, 0.0015766374), (1, 0.0015780146), (2, 0.0015635944), (3, 0.9952817)],\n",
       " [(0, 0.001983261), (1, 0.0019688725), (2, 0.9940628), (3, 0.0019850926)],\n",
       " [(0, 0.0020613032), (1, 0.9938092), (2, 0.0020731685), (3, 0.0020563535)],\n",
       " [(0, 0.002812342), (1, 0.0028229547), (2, 0.0028257126), (3, 0.99153894)],\n",
       " [(0, 0.001444236), (1, 0.001446372), (2, 0.9956708), (3, 0.0014385601)],\n",
       " [(0, 0.001614662), (1, 0.99515176), (2, 0.0016083999), (3, 0.0016252311)],\n",
       " [(0, 0.86127174), (1, 0.13505346), (2, 0.001844018), (3, 0.0018308219)],\n",
       " [(0, 0.0031671934), (1, 0.9904877), (2, 0.0031416246), (3, 0.0032034584)],\n",
       " [(0, 0.002583418), (1, 0.46020797), (2, 0.0025781759), (3, 0.5346304)],\n",
       " [(0, 0.0018191914), (1, 0.0018010775), (2, 0.0018125589), (3, 0.99456716)],\n",
       " [(0, 0.0027589311), (1, 0.0026962508), (2, 0.0027062753), (3, 0.9918385)],\n",
       " [(0, 0.23270491), (1, 0.0023604282), (2, 0.76253873), (3, 0.0023959444)],\n",
       " [(0, 0.9927659), (1, 0.0024746954), (2, 0.0023853935), (3, 0.0023740637)],\n",
       " [(0, 0.9939264), (1, 0.0020340292), (2, 0.0020058744), (3, 0.002033685)],\n",
       " [(0, 0.0020841504), (1, 0.0020900618), (2, 0.99372697), (3, 0.002098837)],\n",
       " [(0, 0.95973414), (1, 0.013288119), (2, 0.013489991), (3, 0.013487775)],\n",
       " [(0, 0.0017411181), (1, 0.0017291959), (2, 0.9947839), (3, 0.0017457478)],\n",
       " [(0, 0.0020819919), (1, 0.39442983), (2, 0.6014254), (3, 0.002062776)],\n",
       " [(0, 0.002071917), (1, 0.0020548324), (2, 0.9938014), (3, 0.002071842)],\n",
       " [(0, 0.99483365), (1, 0.0017427206), (2, 0.0017105391), (3, 0.0017130907)],\n",
       " [(0, 0.0015907258), (1, 0.0016542649), (2, 0.99516785), (3, 0.0015871673)],\n",
       " [(0, 0.0016763707), (1, 0.99499553), (2, 0.0016584379), (3, 0.0016696427)],\n",
       " [(0, 0.0022780227), (1, 0.0022323683), (2, 0.002269951), (3, 0.9932196)],\n",
       " [(0, 0.99248594), (1, 0.0024995431), (2, 0.0025071779), (3, 0.0025073679)],\n",
       " [(0, 0.003345389), (1, 0.0033046752), (2, 0.0033226877), (3, 0.99002725)],\n",
       " [(0, 0.0012916233), (1, 0.0012857773), (2, 0.0012839461), (3, 0.9961387)],\n",
       " [(0, 0.0018432417), (1, 0.994457), (2, 0.0018544168), (3, 0.0018452882)],\n",
       " [(0, 0.0014783009), (1, 0.9955922), (2, 0.001465592), (3, 0.0014638955)],\n",
       " [(0, 0.001617961), (1, 0.001586394), (2, 0.0015900361), (3, 0.99520564)],\n",
       " [(0, 0.0018374865), (1, 0.9944968), (2, 0.001829282), (3, 0.0018364156)],\n",
       " [(0, 0.0017178969), (1, 0.44204697), (2, 0.0017371554), (3, 0.55449796)],\n",
       " [(0, 0.002682773), (1, 0.0026006026), (2, 0.99203515), (3, 0.0026814374)],\n",
       " [(0, 0.68810844), (1, 0.3072057), (2, 0.0023218072), (3, 0.002364)],\n",
       " [(0, 0.99465656), (1, 0.0017945507), (2, 0.001767042), (3, 0.0017817655)],\n",
       " [(0, 0.99416447), (1, 0.00195506), (2, 0.0019313686), (3, 0.0019490416)],\n",
       " [(0, 0.001733223), (1, 0.0016470908), (2, 0.0016464128), (3, 0.9949733)],\n",
       " [(0, 0.0023458102), (1, 0.9930441), (2, 0.0022993435), (3, 0.0023107422)],\n",
       " [(0, 0.0015693001), (1, 0.001548597), (2, 0.0015672597), (3, 0.99531484)],\n",
       " [(0, 0.0020035536), (1, 0.99397576), (2, 0.0019981137), (3, 0.002022517)],\n",
       " [(0, 0.0016519661), (1, 0.0016960886), (2, 0.0016287509), (3, 0.9950232)],\n",
       " [(0, 0.0022845438), (1, 0.002263247), (2, 0.0022697693), (3, 0.9931825)],\n",
       " [(0, 0.003523886), (1, 0.0035108326), (2, 0.0035288348), (3, 0.9894364)],\n",
       " [(0, 0.0017138694), (1, 0.9948395), (2, 0.0017270793), (3, 0.001719516)],\n",
       " [(0, 0.0015346667), (1, 0.9954405), (2, 0.0015192), (3, 0.001505606)],\n",
       " [(0, 0.0024076642), (1, 0.992768), (2, 0.002418306), (3, 0.0024059946)],\n",
       " [(0, 0.9919807), (1, 0.0027055487), (2, 0.0026645472), (3, 0.002649234)],\n",
       " [(0, 0.0021313643), (1, 0.0021127441), (2, 0.9936241), (3, 0.0021318295)],\n",
       " [(0, 0.0034945675), (1, 0.9896138), (2, 0.0034176817), (3, 0.0034740057)],\n",
       " [(0, 0.0019064874), (1, 0.99430126), (2, 0.0019001123), (3, 0.0018921198)],\n",
       " [(0, 0.0016633158), (1, 0.9950122), (2, 0.0016593246), (3, 0.001665147)],\n",
       " [(0, 0.48528484), (1, 0.51076794), (2, 0.0019774185), (3, 0.001969811)],\n",
       " [(0, 0.002420479), (1, 0.99277383), (2, 0.0023840994), (3, 0.0024215935)],\n",
       " [(0, 0.002586221), (1, 0.0025938926), (2, 0.99221545), (3, 0.002604458)],\n",
       " [(0, 0.0022880973), (1, 0.21556893), (2, 0.0022721943), (3, 0.77987075)],\n",
       " [(0, 0.002959105), (1, 0.2764447), (2, 0.0028523493), (3, 0.7177438)],\n",
       " [(0, 0.993713), (1, 0.0020796128), (2, 0.002088552), (3, 0.0021187814)],\n",
       " [(0, 0.9941682), (1, 0.0019669675), (2, 0.0019156163), (3, 0.0019492501)],\n",
       " [(0, 0.9923679), (1, 0.002544934), (2, 0.0025478713), (3, 0.0025392785)],\n",
       " [(0, 0.0015371952), (1, 0.9954132), (2, 0.0015247804), (3, 0.0015248338)],\n",
       " [(0, 0.9953414), (1, 0.0015672707), (2, 0.0015442981), (3, 0.001546947)],\n",
       " [(0, 0.99474317), (1, 0.0017408176), (2, 0.0017537526), (3, 0.0017622424)],\n",
       " [(0, 0.001797011), (1, 0.9946124), (2, 0.001792657), (3, 0.0017979583)],\n",
       " [(0, 0.9959847), (1, 0.0013351903), (2, 0.0013362406), (3, 0.0013439253)],\n",
       " [(0, 0.0015734432), (1, 0.0015801507), (2, 0.99523383), (3, 0.0016126026)],\n",
       " [(0, 0.0017947686), (1, 0.99463284), (2, 0.0017771658), (3, 0.001795254)],\n",
       " [(0, 0.9928839), (1, 0.0023670048), (2, 0.002371885), (3, 0.0023772242)],\n",
       " [(0, 0.002640908), (1, 0.0026745913), (2, 0.0026809843), (3, 0.9920035)],\n",
       " [(0, 0.0016568272), (1, 0.0017024403), (2, 0.0016591026), (3, 0.99498165)],\n",
       " [(0, 0.9934175), (1, 0.0021898418), (2, 0.002193209), (3, 0.0021994272)],\n",
       " [(0, 0.18814653), (1, 0.0019266325), (2, 0.0019278172), (3, 0.80799896)],\n",
       " [(0, 0.0014524191), (1, 0.0014844211), (2, 0.0014642616), (3, 0.9955989)],\n",
       " [(0, 0.0018428852), (1, 0.0018650444), (2, 0.0018285805), (3, 0.9944635)],\n",
       " [(0, 0.0023827616), (1, 0.0023819986), (2, 0.0023603586), (3, 0.99287486)],\n",
       " [(0, 0.0017875612), (1, 0.0017781407), (2, 0.0017629188), (3, 0.9946714)],\n",
       " [(0, 0.001527541), (1, 0.99543804), (2, 0.0015186636), (3, 0.001515762)],\n",
       " [(0, 0.002368706), (1, 0.9929544), (2, 0.0023298736), (3, 0.0023470544)],\n",
       " [(0, 0.001994334), (1, 0.0019940773), (2, 0.99400103), (3, 0.0020105948)],\n",
       " [(0, 0.002544599), (1, 0.05764557), (2, 0.002527863), (3, 0.93728197)],\n",
       " [(0, 0.002842844), (1, 0.0028178948), (2, 0.99156314), (3, 0.002776115)],\n",
       " [(0, 0.0035147811), (1, 0.0035270085), (2, 0.9894258), (3, 0.003532393)],\n",
       " [(0, 0.9944467), (1, 0.0018341541), (2, 0.0018540273), (3, 0.0018650709)],\n",
       " [(0, 0.9940359), (1, 0.0019807136), (2, 0.001987686), (3, 0.0019956676)],\n",
       " [(0, 0.99520373), (1, 0.0015776186), (2, 0.0016118841), (3, 0.0016067827)],\n",
       " [(0, 0.0020184896), (1, 0.99395794), (2, 0.0020088279), (3, 0.0020147692)],\n",
       " [(0, 0.0044375174), (1, 0.0044201226), (2, 0.9867308), (3, 0.0044115805)],\n",
       " [(0, 0.99449563), (1, 0.0018291693), (2, 0.0018244941), (3, 0.0018506966)],\n",
       " [(0, 0.3615391), (1, 0.002233288), (2, 0.6339699), (3, 0.0022577646)],\n",
       " [(0, 0.0017132583), (1, 0.0016940419), (2, 0.0017006322), (3, 0.99489206)],\n",
       " [(0, 0.0023583253), (1, 0.0024245314), (2, 0.0023352061), (3, 0.9928819)],\n",
       " [(0, 0.34580517), (1, 0.6480294), (2, 0.0030638303), (3, 0.0031016206)],\n",
       " [(0, 0.0025442825), (1, 0.002533625), (2, 0.9923741), (3, 0.0025479286)],\n",
       " [(0, 0.0019237158), (1, 0.26270252), (2, 0.0019090467), (3, 0.7334648)],\n",
       " [(0, 0.0013027514), (1, 0.9960836), (2, 0.0013032395), (3, 0.0013103993)],\n",
       " [(0, 0.002890461), (1, 0.0029197282), (2, 0.0028676656), (3, 0.99132216)],\n",
       " [(0, 0.99367017), (1, 0.0021149858), (2, 0.002107894), (3, 0.002106983)],\n",
       " [(0, 0.0016672964), (1, 0.0017065188), (2, 0.99495846), (3, 0.0016677345)],\n",
       " [(0, 0.002816577), (1, 0.0027988076), (2, 0.0027650732), (3, 0.9916195)],\n",
       " [(0, 0.99524444), (1, 0.0015611019), (2, 0.001582906), (3, 0.0016115557)],\n",
       " [(0, 0.99403846), (1, 0.0020022364), (2, 0.0019749631), (3, 0.0019843418)],\n",
       " [(0, 0.0029585084), (1, 0.0030542454), (2, 0.0029294877), (3, 0.9910577)],\n",
       " [(0, 0.0024528226), (1, 0.992607), (2, 0.0024519782), (3, 0.0024882036)],\n",
       " [(0, 0.0016310374), (1, 0.0016576638), (2, 0.99509484), (3, 0.0016164136)],\n",
       " [(0, 0.99432397), (1, 0.0018698259), (2, 0.001890786), (3, 0.0019154138)],\n",
       " [(0, 0.0018102475), (1, 0.9945823), (2, 0.0018024385), (3, 0.0018049652)],\n",
       " [(0, 0.0017724409), (1, 0.0017881781), (2, 0.99466914), (3, 0.0017702058)],\n",
       " [(0, 0.0018023782), (1, 0.0018145532), (2, 0.9945829), (3, 0.0018001542)],\n",
       " [(0, 0.0015246894), (1, 0.99540854), (2, 0.0015283908), (3, 0.001538334)],\n",
       " [(0, 0.0025262814), (1, 0.0024727953), (2, 0.99249417), (3, 0.0025067385)],\n",
       " [(0, 0.9959477), (1, 0.0013661821), (2, 0.0013430798), (3, 0.0013429766)],\n",
       " [(0, 0.0022870344), (1, 0.9932113), (2, 0.0022442301), (3, 0.0022573783)],\n",
       " [(0, 0.9952061), (1, 0.0015969843), (2, 0.0016052602), (3, 0.0015916728)],\n",
       " [(0, 0.0030329449), (1, 0.00299946), (2, 0.9909506), (3, 0.0030170663)],\n",
       " [(0, 0.99283886), (1, 0.002358842), (2, 0.0023729985), (3, 0.0024293289)],\n",
       " [(0, 0.0016555968), (1, 0.9950104), (2, 0.0016563677), (3, 0.0016777127)],\n",
       " [(0, 0.6441954), (1, 0.3516222), (2, 0.0020840808), (3, 0.002098358)],\n",
       " [(0, 0.0018817944), (1, 0.001896269), (2, 0.0018990549), (3, 0.99432296)],\n",
       " [(0, 0.99450403), (1, 0.0018440638), (2, 0.0018210934), (3, 0.0018308461)],\n",
       " [(0, 0.9951932), (1, 0.0015952948), (2, 0.0015897215), (3, 0.0016218119)],\n",
       " [(0, 0.0024375834), (1, 0.0023677866), (2, 0.99283075), (3, 0.0023638522)],\n",
       " [(0, 0.99243337), (1, 0.002516551), (2, 0.002492154), (3, 0.0025579513)],\n",
       " [(0, 0.99541223), (1, 0.0015193917), (2, 0.0015271335), (3, 0.0015412838)],\n",
       " [(0, 0.0021144496), (1, 0.0021457272), (2, 0.0021589017), (3, 0.99358094)],\n",
       " [(0, 0.0016381945), (1, 0.0016145859), (2, 0.0016165188), (3, 0.99513066)],\n",
       " [(0, 0.9907529), (1, 0.0030445913), (2, 0.0030769985), (3, 0.0031254739)],\n",
       " [(0, 0.99482185), (1, 0.0017084244), (2, 0.0017231319), (3, 0.0017466134)],\n",
       " [(0, 0.99580145), (1, 0.00139081), (2, 0.0014074264), (3, 0.00140029)],\n",
       " [(0, 0.0019350682), (1, 0.0018942073), (2, 0.0019013484), (3, 0.9942694)],\n",
       " [(0, 0.0014846436), (1, 0.0014655422), (2, 0.0014884928), (3, 0.9955613)],\n",
       " [(0, 0.0014223136), (1, 0.0014103419), (2, 0.9957458), (3, 0.001421573)],\n",
       " [(0, 0.99525875), (1, 0.0015745177), (2, 0.0015819431), (3, 0.001584761)],\n",
       " [(0, 0.0010809179), (1, 0.0010693766), (2, 0.0010722068), (3, 0.9967775)],\n",
       " [(0, 0.0016132228), (1, 0.0015869016), (2, 0.99519914), (3, 0.0016007099)],\n",
       " [(0, 0.0015327058), (1, 0.0015130494), (2, 0.0015244515), (3, 0.9954298)],\n",
       " [(0, 0.0011114926), (1, 0.9966598), (2, 0.0011073689), (3, 0.0011213453)],\n",
       " [(0, 0.99646527), (1, 0.0011697861), (2, 0.001172664), (3, 0.0011922774)],\n",
       " [(0, 0.0018884045), (1, 0.0018829361), (2, 0.99433047), (3, 0.0018981637)],\n",
       " [(0, 0.0026393682), (1, 0.9920999), (2, 0.0026402778), (3, 0.002620484)],\n",
       " [(0, 0.0024766936), (1, 0.0024440603), (2, 0.9925833), (3, 0.002495975)],\n",
       " [(0, 0.0011172006), (1, 0.0010948849), (2, 0.001106105), (3, 0.9966818)],\n",
       " [(0, 0.0015120637), (1, 0.0014951676), (2, 0.0015080738), (3, 0.9954847)],\n",
       " [(0, 0.99547666), (1, 0.0014989498), (2, 0.0015031876), (3, 0.0015212608)]]"
      ]
     },
     "execution_count": 15,
     "metadata": {},
     "output_type": "execute_result"
    }
   ],
   "source": [
    "# Assigns the topics to the documents in corpus\n",
    "lda_corpus = ldamodel[doc_term_matrix]\n",
    "\n",
    "[doc for doc in lda_corpus]"
   ]
  },
  {
   "cell_type": "code",
   "execution_count": 16,
   "id": "ad5f1fbc",
   "metadata": {},
   "outputs": [
    {
     "name": "stdout",
     "output_type": "stream",
     "text": [
      "0.2499999998108251\n"
     ]
    }
   ],
   "source": [
    "from itertools import chain\n",
    "scores = list(chain(*[[score for topic_id,score in topic] \\\n",
    "                      for topic in [doc for doc in lda_corpus]]))\n",
    "\n",
    "threshold = sum(scores)/len(scores)\n",
    "print(threshold)"
   ]
  },
  {
   "cell_type": "code",
   "execution_count": 17,
   "id": "6fe14d44",
   "metadata": {},
   "outputs": [
    {
     "name": "stdout",
     "output_type": "stream",
     "text": [
      "43\n",
      "40\n",
      "29\n",
      "40\n"
     ]
    }
   ],
   "source": [
    "cluster1 = [j for i,j in zip(lda_corpus,df.index) if i[0][1] > threshold]\n",
    "cluster2 = [j for i,j in zip(lda_corpus,df.index) if i[1][1] > threshold]\n",
    "cluster3 = [j for i,j in zip(lda_corpus,df.index) if i[2][1] > threshold]\n",
    "cluster4 = [j for i,j in zip(lda_corpus,df.index) if i[3][1] > threshold]\n",
    "#cluster5 = [j for i,j in zip(lda_corpus,df.index) if i[4][1] > threshold]\n",
    "\n",
    "print(len(cluster1))\n",
    "print(len(cluster2))\n",
    "print(len(cluster3))\n",
    "print(len(cluster4))\n",
    "#print(len(cluster5))"
   ]
  },
  {
   "cell_type": "code",
   "execution_count": 19,
   "id": "a376320b",
   "metadata": {},
   "outputs": [
    {
     "data": {
      "text/html": [
       "<div>\n",
       "<style scoped>\n",
       "    .dataframe tbody tr th:only-of-type {\n",
       "        vertical-align: middle;\n",
       "    }\n",
       "\n",
       "    .dataframe tbody tr th {\n",
       "        vertical-align: top;\n",
       "    }\n",
       "\n",
       "    .dataframe thead th {\n",
       "        text-align: right;\n",
       "    }\n",
       "</style>\n",
       "<table border=\"1\" class=\"dataframe\">\n",
       "  <thead>\n",
       "    <tr style=\"text-align: right;\">\n",
       "      <th></th>\n",
       "      <th>index</th>\n",
       "      <th>Title</th>\n",
       "      <th>Abstract</th>\n",
       "      <th>Article URL</th>\n",
       "      <th>date</th>\n",
       "      <th>abstract_words</th>\n",
       "    </tr>\n",
       "  </thead>\n",
       "  <tbody>\n",
       "    <tr>\n",
       "      <th>0</th>\n",
       "      <td>0</td>\n",
       "      <td>Molybdenum isotopes in mafic igneous rocks rec...</td>\n",
       "      <td>Arc volcanic rocks erupted above oceanic subdu...</td>\n",
       "      <td>https://pubs.geoscienceworld.org/gsa/geology/a...</td>\n",
       "      <td>2023-01-21</td>\n",
       "      <td>[arc, volcanic, rocks, erupted, oceanic, subdu...</td>\n",
       "    </tr>\n",
       "    <tr>\n",
       "      <th>3</th>\n",
       "      <td>4</td>\n",
       "      <td>Resetting of zircon inclusions in garnet: Impl...</td>\n",
       "      <td>Elastic thermobarometry of host-inclusion syst...</td>\n",
       "      <td>https://pubs.geoscienceworld.org/gsa/geology/a...</td>\n",
       "      <td>2023-01-21</td>\n",
       "      <td>[elastic, thermobarometry, hostinclusion, syst...</td>\n",
       "    </tr>\n",
       "    <tr>\n",
       "      <th>6</th>\n",
       "      <td>9</td>\n",
       "      <td>Heavy Mo isotope composition of northern Bataa...</td>\n",
       "      <td>The identification of an eroded fore-arc crust...</td>\n",
       "      <td>https://pubs.geoscienceworld.org/gsa/geology/a...</td>\n",
       "      <td>2023-01-21</td>\n",
       "      <td>[identification, eroded, forearc, crust, compo...</td>\n",
       "    </tr>\n",
       "    <tr>\n",
       "      <th>8</th>\n",
       "      <td>11</td>\n",
       "      <td>Kovdor to Oldoinyo Lengai—The missing link in ...</td>\n",
       "      <td>Experiments were conducted to test the hypothe...</td>\n",
       "      <td>https://pubs.geoscienceworld.org/gsa/geology/a...</td>\n",
       "      <td>2023-01-21</td>\n",
       "      <td>[experiments, conducted, test, hypothesis, int...</td>\n",
       "    </tr>\n",
       "    <tr>\n",
       "      <th>9</th>\n",
       "      <td>14</td>\n",
       "      <td>Sponge-rich sediment recycling in a Paleozoic ...</td>\n",
       "      <td>Slab material transfer processes in continenta...</td>\n",
       "      <td>https://pubs.geoscienceworld.org/gsa/geology/a...</td>\n",
       "      <td>2023-01-21</td>\n",
       "      <td>[slab, material, transfer, processes, continen...</td>\n",
       "    </tr>\n",
       "    <tr>\n",
       "      <th>18</th>\n",
       "      <td>26</td>\n",
       "      <td>Boninitic blueschists record subduction initia...</td>\n",
       "      <td>Subduction of oceanic lithosphere is a diagnos...</td>\n",
       "      <td>https://pubs.geoscienceworld.org/gsa/geology/a...</td>\n",
       "      <td>2023-01-24</td>\n",
       "      <td>[subduction, oceanic, lithosphere, diagnostic,...</td>\n",
       "    </tr>\n",
       "    <tr>\n",
       "      <th>22</th>\n",
       "      <td>30</td>\n",
       "      <td>Carbon isotope excursions during the late Mioc...</td>\n",
       "      <td>Group I mesophilic Thaumarchaeota fix dissolve...</td>\n",
       "      <td>https://pubs.geoscienceworld.org/gsa/geology/a...</td>\n",
       "      <td>2023-01-24</td>\n",
       "      <td>[group, mesophilic, thaumarchaeota, fix, disso...</td>\n",
       "    </tr>\n",
       "    <tr>\n",
       "      <th>27</th>\n",
       "      <td>35</td>\n",
       "      <td>Propagating uplift controls on high-elevation,...</td>\n",
       "      <td>High-elevation, low-relief surfaces are widesp...</td>\n",
       "      <td>https://pubs.geoscienceworld.org/gsa/geology/a...</td>\n",
       "      <td>2023-01-24</td>\n",
       "      <td>[highelevation, lowrelief, surfaces, widesprea...</td>\n",
       "    </tr>\n",
       "    <tr>\n",
       "      <th>28</th>\n",
       "      <td>36</td>\n",
       "      <td>Unraveling the histories of Proterozoic shales...</td>\n",
       "      <td>Authigenic components in marine sediments are ...</td>\n",
       "      <td>https://pubs.geoscienceworld.org/gsa/geology/a...</td>\n",
       "      <td>2023-01-24</td>\n",
       "      <td>[authigenic, components, marine, sediments, im...</td>\n",
       "    </tr>\n",
       "    <tr>\n",
       "      <th>30</th>\n",
       "      <td>38</td>\n",
       "      <td>Diversification of Archean tonalite-trondhjemi...</td>\n",
       "      <td>Tonalite-trondhjemite-granodiorite (TTG) suite...</td>\n",
       "      <td>https://pubs.geoscienceworld.org/gsa/geology/a...</td>\n",
       "      <td>2023-01-24</td>\n",
       "      <td>[tonalitetrondhjemitegranodiorite, ttg, suites...</td>\n",
       "    </tr>\n",
       "    <tr>\n",
       "      <th>31</th>\n",
       "      <td>39</td>\n",
       "      <td>Thermodynamic limits for assimilation of silic...</td>\n",
       "      <td>Some geochemical models for basaltic and more ...</td>\n",
       "      <td>https://pubs.geoscienceworld.org/gsa/geology/a...</td>\n",
       "      <td>2023-01-24</td>\n",
       "      <td>[geochemical, models, basaltic, primitive, roc...</td>\n",
       "    </tr>\n",
       "    <tr>\n",
       "      <th>33</th>\n",
       "      <td>41</td>\n",
       "      <td>Mantle heating at ca. 2 Ga by continental insu...</td>\n",
       "      <td>Igneous and metamorphic rocks contain the mine...</td>\n",
       "      <td>https://pubs.geoscienceworld.org/gsa/geology/a...</td>\n",
       "      <td>2023-01-24</td>\n",
       "      <td>[igneous, metamorphic, rocks, contain, mineral...</td>\n",
       "    </tr>\n",
       "    <tr>\n",
       "      <th>37</th>\n",
       "      <td>45</td>\n",
       "      <td>Lateral variation in slab window viscosity inf...</td>\n",
       "      <td>The geographic coincidence of the Chile Ridge ...</td>\n",
       "      <td>https://pubs.geoscienceworld.org/gsa/geology/a...</td>\n",
       "      <td>2023-01-24</td>\n",
       "      <td>[geographic, coincidence, chile, ridge, slab, ...</td>\n",
       "    </tr>\n",
       "    <tr>\n",
       "      <th>39</th>\n",
       "      <td>47</td>\n",
       "      <td>The role of phyllosilicate partial melting in ...</td>\n",
       "      <td>Most tungsten (W) and tin (Sn) deposits are as...</td>\n",
       "      <td>https://pubs.geoscienceworld.org/gsa/geology/a...</td>\n",
       "      <td>2023-01-24</td>\n",
       "      <td>[tungsten, w, tin, sn, deposits, associated, h...</td>\n",
       "    </tr>\n",
       "    <tr>\n",
       "      <th>43</th>\n",
       "      <td>64</td>\n",
       "      <td>Identifying crystal accumulation and melt extr...</td>\n",
       "      <td>High-silica (&gt;70 wt% SiO2) magmas are usually ...</td>\n",
       "      <td>https://pubs.geoscienceworld.org/gsa/geology/a...</td>\n",
       "      <td>2023-01-24</td>\n",
       "      <td>[highsilica, 70, wt, sio2, magmas, usually, be...</td>\n",
       "    </tr>\n",
       "    <tr>\n",
       "      <th>44</th>\n",
       "      <td>65</td>\n",
       "      <td>Zircon (U-Th)/He thermochronology of Grand Can...</td>\n",
       "      <td>Our study used zircon (U-Th)/He (ZHe) thermoch...</td>\n",
       "      <td>https://pubs.geoscienceworld.org/gsa/geology/a...</td>\n",
       "      <td>2023-01-24</td>\n",
       "      <td>[study, used, zircon, uthhe, zhe, thermochrono...</td>\n",
       "    </tr>\n",
       "    <tr>\n",
       "      <th>45</th>\n",
       "      <td>67</td>\n",
       "      <td>Pyrrhotite–silicate melt partitioning of rheni...</td>\n",
       "      <td>The Re-Os isotopic system serves as an importa...</td>\n",
       "      <td>https://pubs.geoscienceworld.org/gsa/geology/a...</td>\n",
       "      <td>2023-01-24</td>\n",
       "      <td>[reos, isotopic, system, serves, important, tr...</td>\n",
       "    </tr>\n",
       "    <tr>\n",
       "      <th>48</th>\n",
       "      <td>73</td>\n",
       "      <td>Correlative tomography of an exceptionally pre...</td>\n",
       "      <td>The extreme rarity of soft-tissue preservation...</td>\n",
       "      <td>https://pubs.geoscienceworld.org/gsa/geology/a...</td>\n",
       "      <td>2023-01-24</td>\n",
       "      <td>[extreme, rarity, softtissue, preservation, am...</td>\n",
       "    </tr>\n",
       "    <tr>\n",
       "      <th>49</th>\n",
       "      <td>78</td>\n",
       "      <td>Silver isotope and volatile trace element syst...</td>\n",
       "      <td>Silver played a key role in the progressive mo...</td>\n",
       "      <td>https://pubs.geoscienceworld.org/gsa/geology/a...</td>\n",
       "      <td>2023-01-24</td>\n",
       "      <td>[silver, played, key, role, progressive, monet...</td>\n",
       "    </tr>\n",
       "    <tr>\n",
       "      <th>50</th>\n",
       "      <td>79</td>\n",
       "      <td>Role of sediment in generating contemporaneous...</td>\n",
       "      <td>Granite typology categorizes granitoid rocks b...</td>\n",
       "      <td>https://pubs.geoscienceworld.org/gsa/geology/a...</td>\n",
       "      <td>2023-01-24</td>\n",
       "      <td>[granite, typology, categorizes, granitoid, ro...</td>\n",
       "    </tr>\n",
       "    <tr>\n",
       "      <th>51</th>\n",
       "      <td>81</td>\n",
       "      <td>Early Earth zircons formed in residual graniti...</td>\n",
       "      <td>The oldest geological materials on Earth are H...</td>\n",
       "      <td>https://pubs.geoscienceworld.org/gsa/geology/a...</td>\n",
       "      <td>2023-01-24</td>\n",
       "      <td>[oldest, geological, materials, earth, hadean,...</td>\n",
       "    </tr>\n",
       "    <tr>\n",
       "      <th>52</th>\n",
       "      <td>83</td>\n",
       "      <td>Two-pronged kill mechanism at the end-Triassic...</td>\n",
       "      <td>High-resolution biomarker and compound-specifi...</td>\n",
       "      <td>https://pubs.geoscienceworld.org/gsa/geology/a...</td>\n",
       "      <td>2023-01-24</td>\n",
       "      <td>[highresolution, biomarker, compoundspecific, ...</td>\n",
       "    </tr>\n",
       "    <tr>\n",
       "      <th>55</th>\n",
       "      <td>90</td>\n",
       "      <td>A carbon-rich lithospheric mantle as a source ...</td>\n",
       "      <td>Etna volcano in Italy releases an exceptional ...</td>\n",
       "      <td>https://pubs.geoscienceworld.org/gsa/geology/a...</td>\n",
       "      <td>2023-01-24</td>\n",
       "      <td>[etna, volcano, italy, releases, exceptional, ...</td>\n",
       "    </tr>\n",
       "    <tr>\n",
       "      <th>59</th>\n",
       "      <td>101</td>\n",
       "      <td>Ultrahigh-temperature granites and a curious t...</td>\n",
       "      <td>Comprehensive zircon thermometry that takes in...</td>\n",
       "      <td>https://pubs.geoscienceworld.org/gsa/geology/a...</td>\n",
       "      <td>2023-01-24</td>\n",
       "      <td>[comprehensive, zircon, thermometry, takes, ac...</td>\n",
       "    </tr>\n",
       "    <tr>\n",
       "      <th>62</th>\n",
       "      <td>105</td>\n",
       "      <td>Implications for Ediacaran biological evolutio...</td>\n",
       "      <td>The morphologically differentiated benthic mac...</td>\n",
       "      <td>https://pubs.geoscienceworld.org/gsa/geology/a...</td>\n",
       "      <td>2023-01-24</td>\n",
       "      <td>[morphologically, differentiated, benthic, mac...</td>\n",
       "    </tr>\n",
       "    <tr>\n",
       "      <th>65</th>\n",
       "      <td>113</td>\n",
       "      <td>Oligocene onset of uplift and inversion of the...</td>\n",
       "      <td>An extensive detrital zircon U-Pb data set (n ...</td>\n",
       "      <td>https://pubs.geoscienceworld.org/gsa/geology/a...</td>\n",
       "      <td>2023-01-24</td>\n",
       "      <td>[extensive, detrital, zircon, upb, data, set, ...</td>\n",
       "    </tr>\n",
       "    <tr>\n",
       "      <th>75</th>\n",
       "      <td>148</td>\n",
       "      <td>Oxygen isotope evidence for progressively assi...</td>\n",
       "      <td>The oxygen isotope composition of mantle-deriv...</td>\n",
       "      <td>https://pubs.geoscienceworld.org/gsa/geology/a...</td>\n",
       "      <td>2023-01-24</td>\n",
       "      <td>[oxygen, isotope, composition, mantlederived, ...</td>\n",
       "    </tr>\n",
       "    <tr>\n",
       "      <th>76</th>\n",
       "      <td>150</td>\n",
       "      <td>Atypical landslide induces speedup, advance, a...</td>\n",
       "      <td>Atmospheric and oceanic warming over the past ...</td>\n",
       "      <td>https://pubs.geoscienceworld.org/gsa/geology/a...</td>\n",
       "      <td>2023-01-24</td>\n",
       "      <td>[atmospheric, oceanic, warming, past, century,...</td>\n",
       "    </tr>\n",
       "    <tr>\n",
       "      <th>84</th>\n",
       "      <td>170</td>\n",
       "      <td>Cenozoic delamination of the southwestern Yang...</td>\n",
       "      <td>It is widely thought that oceanic subduction c...</td>\n",
       "      <td>https://pubs.geoscienceworld.org/gsa/geology/a...</td>\n",
       "      <td>2023-01-24</td>\n",
       "      <td>[widely, thought, oceanic, subduction, trigger...</td>\n",
       "    </tr>\n",
       "    <tr>\n",
       "      <th>90</th>\n",
       "      <td>181</td>\n",
       "      <td>Recurrent tectonic activity in northeastern Br...</td>\n",
       "      <td>Carbonate U-Pb dating of samples from rift-bou...</td>\n",
       "      <td>https://pubs.geoscienceworld.org/gsa/geology/a...</td>\n",
       "      <td>2023-01-24</td>\n",
       "      <td>[carbonate, upb, dating, samples, riftbounding...</td>\n",
       "    </tr>\n",
       "    <tr>\n",
       "      <th>92</th>\n",
       "      <td>185</td>\n",
       "      <td>Triple oxygen isotope evidence for a hot Arche...</td>\n",
       "      <td>Triple oxygen isotope (δ17O and δ18O) values o...</td>\n",
       "      <td>https://pubs.geoscienceworld.org/gsa/geology/a...</td>\n",
       "      <td>2023-01-24</td>\n",
       "      <td>[triple, oxygen, isotope, δ17o, δ18o, values, ...</td>\n",
       "    </tr>\n",
       "    <tr>\n",
       "      <th>93</th>\n",
       "      <td>187</td>\n",
       "      <td>Mercury isotopic composition of igneous rocks ...</td>\n",
       "      <td>Mercury (Hg) provides critical information on ...</td>\n",
       "      <td>https://pubs.geoscienceworld.org/gsa/geology/a...</td>\n",
       "      <td>2023-01-24</td>\n",
       "      <td>[mercury, hg, provides, critical, information,...</td>\n",
       "    </tr>\n",
       "    <tr>\n",
       "      <th>101</th>\n",
       "      <td>206</td>\n",
       "      <td>Physical transport of magmatic sulfides promot...</td>\n",
       "      <td>Loss of magmatic sulfides to the mantle is pos...</td>\n",
       "      <td>https://pubs.geoscienceworld.org/gsa/geology/a...</td>\n",
       "      <td>2023-01-24</td>\n",
       "      <td>[loss, magmatic, sulfides, mantle, posited, ex...</td>\n",
       "    </tr>\n",
       "    <tr>\n",
       "      <th>104</th>\n",
       "      <td>216</td>\n",
       "      <td>Differentiation between carbonate and silicate...</td>\n",
       "      <td>Carbonate and silicate metasomatism occurring ...</td>\n",
       "      <td>https://pubs.geoscienceworld.org/gsa/geology/a...</td>\n",
       "      <td>2023-01-24</td>\n",
       "      <td>[carbonate, silicate, metasomatism, occurring,...</td>\n",
       "    </tr>\n",
       "    <tr>\n",
       "      <th>107</th>\n",
       "      <td>226</td>\n",
       "      <td>Preserved intercratonic lithosphere reveals Pr...</td>\n",
       "      <td>The Proterozoic assembly of Australia, the und...</td>\n",
       "      <td>https://pubs.geoscienceworld.org/gsa/geology/a...</td>\n",
       "      <td>2023-01-24</td>\n",
       "      <td>[proterozoic, assembly, australia, understandi...</td>\n",
       "    </tr>\n",
       "    <tr>\n",
       "      <th>110</th>\n",
       "      <td>233</td>\n",
       "      <td>Extensional mountain building along convergent...</td>\n",
       "      <td>Late brittle extension is a common feature in ...</td>\n",
       "      <td>https://pubs.geoscienceworld.org/gsa/geology/a...</td>\n",
       "      <td>2023-01-24</td>\n",
       "      <td>[late, brittle, extension, common, feature, or...</td>\n",
       "    </tr>\n",
       "    <tr>\n",
       "      <th>114</th>\n",
       "      <td>242</td>\n",
       "      <td>Osmium isotopes fingerprint mantle controls on...</td>\n",
       "      <td>The formation of crustal blocks enriched with ...</td>\n",
       "      <td>https://pubs.geoscienceworld.org/gsa/geology/a...</td>\n",
       "      <td>2023-01-24</td>\n",
       "      <td>[formation, crustal, blocks, enriched, gold, a...</td>\n",
       "    </tr>\n",
       "    <tr>\n",
       "      <th>115</th>\n",
       "      <td>244</td>\n",
       "      <td>Onset of long-lived silicic and alkaline magma...</td>\n",
       "      <td>The White Mountain magma series is the largest...</td>\n",
       "      <td>https://pubs.geoscienceworld.org/gsa/geology/a...</td>\n",
       "      <td>2023-01-24</td>\n",
       "      <td>[white, mountain, magma, series, largest, meso...</td>\n",
       "    </tr>\n",
       "    <tr>\n",
       "      <th>134</th>\n",
       "      <td>280</td>\n",
       "      <td>Water consumption during a leafless period in ...</td>\n",
       "      <td>Besides mechanical protection and sugar transp...</td>\n",
       "      <td>https://www.sciencedirect.com/science/article/...</td>\n",
       "      <td>2023-01-25</td>\n",
       "      <td>[besides, mechanical, protection, sugar, trans...</td>\n",
       "    </tr>\n",
       "    <tr>\n",
       "      <th>137</th>\n",
       "      <td>283</td>\n",
       "      <td>Plum rain enhances porewater greenhouse gas fl...</td>\n",
       "      <td>Seasonal rainfall, locally known as plum rain,...</td>\n",
       "      <td>https://www.sciencedirect.com/science/article/...</td>\n",
       "      <td>2023-01-25</td>\n",
       "      <td>[seasonal, rainfall, locally, known, plum, rai...</td>\n",
       "    </tr>\n",
       "  </tbody>\n",
       "</table>\n",
       "</div>"
      ],
      "text/plain": [
       "     index                                              Title  \\\n",
       "0        0  Molybdenum isotopes in mafic igneous rocks rec...   \n",
       "3        4  Resetting of zircon inclusions in garnet: Impl...   \n",
       "6        9  Heavy Mo isotope composition of northern Bataa...   \n",
       "8       11  Kovdor to Oldoinyo Lengai—The missing link in ...   \n",
       "9       14  Sponge-rich sediment recycling in a Paleozoic ...   \n",
       "18      26  Boninitic blueschists record subduction initia...   \n",
       "22      30  Carbon isotope excursions during the late Mioc...   \n",
       "27      35  Propagating uplift controls on high-elevation,...   \n",
       "28      36  Unraveling the histories of Proterozoic shales...   \n",
       "30      38  Diversification of Archean tonalite-trondhjemi...   \n",
       "31      39  Thermodynamic limits for assimilation of silic...   \n",
       "33      41  Mantle heating at ca. 2 Ga by continental insu...   \n",
       "37      45  Lateral variation in slab window viscosity inf...   \n",
       "39      47  The role of phyllosilicate partial melting in ...   \n",
       "43      64  Identifying crystal accumulation and melt extr...   \n",
       "44      65  Zircon (U-Th)/He thermochronology of Grand Can...   \n",
       "45      67  Pyrrhotite–silicate melt partitioning of rheni...   \n",
       "48      73  Correlative tomography of an exceptionally pre...   \n",
       "49      78  Silver isotope and volatile trace element syst...   \n",
       "50      79  Role of sediment in generating contemporaneous...   \n",
       "51      81  Early Earth zircons formed in residual graniti...   \n",
       "52      83  Two-pronged kill mechanism at the end-Triassic...   \n",
       "55      90  A carbon-rich lithospheric mantle as a source ...   \n",
       "59     101  Ultrahigh-temperature granites and a curious t...   \n",
       "62     105  Implications for Ediacaran biological evolutio...   \n",
       "65     113  Oligocene onset of uplift and inversion of the...   \n",
       "75     148  Oxygen isotope evidence for progressively assi...   \n",
       "76     150  Atypical landslide induces speedup, advance, a...   \n",
       "84     170  Cenozoic delamination of the southwestern Yang...   \n",
       "90     181  Recurrent tectonic activity in northeastern Br...   \n",
       "92     185  Triple oxygen isotope evidence for a hot Arche...   \n",
       "93     187  Mercury isotopic composition of igneous rocks ...   \n",
       "101    206  Physical transport of magmatic sulfides promot...   \n",
       "104    216  Differentiation between carbonate and silicate...   \n",
       "107    226  Preserved intercratonic lithosphere reveals Pr...   \n",
       "110    233  Extensional mountain building along convergent...   \n",
       "114    242  Osmium isotopes fingerprint mantle controls on...   \n",
       "115    244  Onset of long-lived silicic and alkaline magma...   \n",
       "134    280  Water consumption during a leafless period in ...   \n",
       "137    283  Plum rain enhances porewater greenhouse gas fl...   \n",
       "\n",
       "                                              Abstract  \\\n",
       "0    Arc volcanic rocks erupted above oceanic subdu...   \n",
       "3    Elastic thermobarometry of host-inclusion syst...   \n",
       "6    The identification of an eroded fore-arc crust...   \n",
       "8    Experiments were conducted to test the hypothe...   \n",
       "9    Slab material transfer processes in continenta...   \n",
       "18   Subduction of oceanic lithosphere is a diagnos...   \n",
       "22   Group I mesophilic Thaumarchaeota fix dissolve...   \n",
       "27   High-elevation, low-relief surfaces are widesp...   \n",
       "28   Authigenic components in marine sediments are ...   \n",
       "30   Tonalite-trondhjemite-granodiorite (TTG) suite...   \n",
       "31   Some geochemical models for basaltic and more ...   \n",
       "33   Igneous and metamorphic rocks contain the mine...   \n",
       "37   The geographic coincidence of the Chile Ridge ...   \n",
       "39   Most tungsten (W) and tin (Sn) deposits are as...   \n",
       "43   High-silica (>70 wt% SiO2) magmas are usually ...   \n",
       "44   Our study used zircon (U-Th)/He (ZHe) thermoch...   \n",
       "45   The Re-Os isotopic system serves as an importa...   \n",
       "48   The extreme rarity of soft-tissue preservation...   \n",
       "49   Silver played a key role in the progressive mo...   \n",
       "50   Granite typology categorizes granitoid rocks b...   \n",
       "51   The oldest geological materials on Earth are H...   \n",
       "52   High-resolution biomarker and compound-specifi...   \n",
       "55   Etna volcano in Italy releases an exceptional ...   \n",
       "59   Comprehensive zircon thermometry that takes in...   \n",
       "62   The morphologically differentiated benthic mac...   \n",
       "65   An extensive detrital zircon U-Pb data set (n ...   \n",
       "75   The oxygen isotope composition of mantle-deriv...   \n",
       "76   Atmospheric and oceanic warming over the past ...   \n",
       "84   It is widely thought that oceanic subduction c...   \n",
       "90   Carbonate U-Pb dating of samples from rift-bou...   \n",
       "92   Triple oxygen isotope (δ17O and δ18O) values o...   \n",
       "93   Mercury (Hg) provides critical information on ...   \n",
       "101  Loss of magmatic sulfides to the mantle is pos...   \n",
       "104  Carbonate and silicate metasomatism occurring ...   \n",
       "107  The Proterozoic assembly of Australia, the und...   \n",
       "110  Late brittle extension is a common feature in ...   \n",
       "114  The formation of crustal blocks enriched with ...   \n",
       "115  The White Mountain magma series is the largest...   \n",
       "134  Besides mechanical protection and sugar transp...   \n",
       "137  Seasonal rainfall, locally known as plum rain,...   \n",
       "\n",
       "                                           Article URL        date  \\\n",
       "0    https://pubs.geoscienceworld.org/gsa/geology/a...  2023-01-21   \n",
       "3    https://pubs.geoscienceworld.org/gsa/geology/a...  2023-01-21   \n",
       "6    https://pubs.geoscienceworld.org/gsa/geology/a...  2023-01-21   \n",
       "8    https://pubs.geoscienceworld.org/gsa/geology/a...  2023-01-21   \n",
       "9    https://pubs.geoscienceworld.org/gsa/geology/a...  2023-01-21   \n",
       "18   https://pubs.geoscienceworld.org/gsa/geology/a...  2023-01-24   \n",
       "22   https://pubs.geoscienceworld.org/gsa/geology/a...  2023-01-24   \n",
       "27   https://pubs.geoscienceworld.org/gsa/geology/a...  2023-01-24   \n",
       "28   https://pubs.geoscienceworld.org/gsa/geology/a...  2023-01-24   \n",
       "30   https://pubs.geoscienceworld.org/gsa/geology/a...  2023-01-24   \n",
       "31   https://pubs.geoscienceworld.org/gsa/geology/a...  2023-01-24   \n",
       "33   https://pubs.geoscienceworld.org/gsa/geology/a...  2023-01-24   \n",
       "37   https://pubs.geoscienceworld.org/gsa/geology/a...  2023-01-24   \n",
       "39   https://pubs.geoscienceworld.org/gsa/geology/a...  2023-01-24   \n",
       "43   https://pubs.geoscienceworld.org/gsa/geology/a...  2023-01-24   \n",
       "44   https://pubs.geoscienceworld.org/gsa/geology/a...  2023-01-24   \n",
       "45   https://pubs.geoscienceworld.org/gsa/geology/a...  2023-01-24   \n",
       "48   https://pubs.geoscienceworld.org/gsa/geology/a...  2023-01-24   \n",
       "49   https://pubs.geoscienceworld.org/gsa/geology/a...  2023-01-24   \n",
       "50   https://pubs.geoscienceworld.org/gsa/geology/a...  2023-01-24   \n",
       "51   https://pubs.geoscienceworld.org/gsa/geology/a...  2023-01-24   \n",
       "52   https://pubs.geoscienceworld.org/gsa/geology/a...  2023-01-24   \n",
       "55   https://pubs.geoscienceworld.org/gsa/geology/a...  2023-01-24   \n",
       "59   https://pubs.geoscienceworld.org/gsa/geology/a...  2023-01-24   \n",
       "62   https://pubs.geoscienceworld.org/gsa/geology/a...  2023-01-24   \n",
       "65   https://pubs.geoscienceworld.org/gsa/geology/a...  2023-01-24   \n",
       "75   https://pubs.geoscienceworld.org/gsa/geology/a...  2023-01-24   \n",
       "76   https://pubs.geoscienceworld.org/gsa/geology/a...  2023-01-24   \n",
       "84   https://pubs.geoscienceworld.org/gsa/geology/a...  2023-01-24   \n",
       "90   https://pubs.geoscienceworld.org/gsa/geology/a...  2023-01-24   \n",
       "92   https://pubs.geoscienceworld.org/gsa/geology/a...  2023-01-24   \n",
       "93   https://pubs.geoscienceworld.org/gsa/geology/a...  2023-01-24   \n",
       "101  https://pubs.geoscienceworld.org/gsa/geology/a...  2023-01-24   \n",
       "104  https://pubs.geoscienceworld.org/gsa/geology/a...  2023-01-24   \n",
       "107  https://pubs.geoscienceworld.org/gsa/geology/a...  2023-01-24   \n",
       "110  https://pubs.geoscienceworld.org/gsa/geology/a...  2023-01-24   \n",
       "114  https://pubs.geoscienceworld.org/gsa/geology/a...  2023-01-24   \n",
       "115  https://pubs.geoscienceworld.org/gsa/geology/a...  2023-01-24   \n",
       "134  https://www.sciencedirect.com/science/article/...  2023-01-25   \n",
       "137  https://www.sciencedirect.com/science/article/...  2023-01-25   \n",
       "\n",
       "                                        abstract_words  \n",
       "0    [arc, volcanic, rocks, erupted, oceanic, subdu...  \n",
       "3    [elastic, thermobarometry, hostinclusion, syst...  \n",
       "6    [identification, eroded, forearc, crust, compo...  \n",
       "8    [experiments, conducted, test, hypothesis, int...  \n",
       "9    [slab, material, transfer, processes, continen...  \n",
       "18   [subduction, oceanic, lithosphere, diagnostic,...  \n",
       "22   [group, mesophilic, thaumarchaeota, fix, disso...  \n",
       "27   [highelevation, lowrelief, surfaces, widesprea...  \n",
       "28   [authigenic, components, marine, sediments, im...  \n",
       "30   [tonalitetrondhjemitegranodiorite, ttg, suites...  \n",
       "31   [geochemical, models, basaltic, primitive, roc...  \n",
       "33   [igneous, metamorphic, rocks, contain, mineral...  \n",
       "37   [geographic, coincidence, chile, ridge, slab, ...  \n",
       "39   [tungsten, w, tin, sn, deposits, associated, h...  \n",
       "43   [highsilica, 70, wt, sio2, magmas, usually, be...  \n",
       "44   [study, used, zircon, uthhe, zhe, thermochrono...  \n",
       "45   [reos, isotopic, system, serves, important, tr...  \n",
       "48   [extreme, rarity, softtissue, preservation, am...  \n",
       "49   [silver, played, key, role, progressive, monet...  \n",
       "50   [granite, typology, categorizes, granitoid, ro...  \n",
       "51   [oldest, geological, materials, earth, hadean,...  \n",
       "52   [highresolution, biomarker, compoundspecific, ...  \n",
       "55   [etna, volcano, italy, releases, exceptional, ...  \n",
       "59   [comprehensive, zircon, thermometry, takes, ac...  \n",
       "62   [morphologically, differentiated, benthic, mac...  \n",
       "65   [extensive, detrital, zircon, upb, data, set, ...  \n",
       "75   [oxygen, isotope, composition, mantlederived, ...  \n",
       "76   [atmospheric, oceanic, warming, past, century,...  \n",
       "84   [widely, thought, oceanic, subduction, trigger...  \n",
       "90   [carbonate, upb, dating, samples, riftbounding...  \n",
       "92   [triple, oxygen, isotope, δ17o, δ18o, values, ...  \n",
       "93   [mercury, hg, provides, critical, information,...  \n",
       "101  [loss, magmatic, sulfides, mantle, posited, ex...  \n",
       "104  [carbonate, silicate, metasomatism, occurring,...  \n",
       "107  [proterozoic, assembly, australia, understandi...  \n",
       "110  [late, brittle, extension, common, feature, or...  \n",
       "114  [formation, crustal, blocks, enriched, gold, a...  \n",
       "115  [white, mountain, magma, series, largest, meso...  \n",
       "134  [besides, mechanical, protection, sugar, trans...  \n",
       "137  [seasonal, rainfall, locally, known, plum, rai...  "
      ]
     },
     "execution_count": 19,
     "metadata": {},
     "output_type": "execute_result"
    }
   ],
   "source": [
    "df.iloc[cluster2]#.tail(14)\n",
    "#df.iloc[cluster2].to_csv('wat_df.csv')"
   ]
  },
  {
   "cell_type": "code",
   "execution_count": 78,
   "id": "97eef02a",
   "metadata": {},
   "outputs": [
    {
     "data": {
      "text/html": [
       "<div>\n",
       "<style scoped>\n",
       "    .dataframe tbody tr th:only-of-type {\n",
       "        vertical-align: middle;\n",
       "    }\n",
       "\n",
       "    .dataframe tbody tr th {\n",
       "        vertical-align: top;\n",
       "    }\n",
       "\n",
       "    .dataframe thead th {\n",
       "        text-align: right;\n",
       "    }\n",
       "</style>\n",
       "<table border=\"1\" class=\"dataframe\">\n",
       "  <thead>\n",
       "    <tr style=\"text-align: right;\">\n",
       "      <th></th>\n",
       "      <th>index</th>\n",
       "      <th>Title</th>\n",
       "      <th>Abstract</th>\n",
       "      <th>Article URL</th>\n",
       "      <th>date</th>\n",
       "      <th>abstract_words</th>\n",
       "    </tr>\n",
       "  </thead>\n",
       "  <tbody>\n",
       "    <tr>\n",
       "      <th>0</th>\n",
       "      <td>0</td>\n",
       "      <td>Molybdenum isotopes in mafic igneous rocks rec...</td>\n",
       "      <td>Arc volcanic rocks erupted above oceanic subdu...</td>\n",
       "      <td>https://pubs.geoscienceworld.org/gsa/geology/a...</td>\n",
       "      <td>2023-01-21</td>\n",
       "      <td>[arc, volcanic, rocks, erupted, oceanic, subdu...</td>\n",
       "    </tr>\n",
       "    <tr>\n",
       "      <th>2</th>\n",
       "      <td>2</td>\n",
       "      <td>Impact of stream power gradients on storage of...</td>\n",
       "      <td>Spatial complexity impacts the resilience of r...</td>\n",
       "      <td>https://pubs.geoscienceworld.org/gsa/geology/a...</td>\n",
       "      <td>2023-01-21</td>\n",
       "      <td>[spatial, complexity, impacts, resilience, riv...</td>\n",
       "    </tr>\n",
       "    <tr>\n",
       "      <th>4</th>\n",
       "      <td>5</td>\n",
       "      <td>Rapid megaflood-triggered base-level rise on Mars</td>\n",
       "      <td>The existence of ancient fluvial systems on Ma...</td>\n",
       "      <td>https://pubs.geoscienceworld.org/gsa/geology/a...</td>\n",
       "      <td>2023-01-21</td>\n",
       "      <td>[existence, ancient, fluvial, systems, mars, w...</td>\n",
       "    </tr>\n",
       "    <tr>\n",
       "      <th>6</th>\n",
       "      <td>9</td>\n",
       "      <td>Heavy Mo isotope composition of northern Bataa...</td>\n",
       "      <td>The identification of an eroded fore-arc crust...</td>\n",
       "      <td>https://pubs.geoscienceworld.org/gsa/geology/a...</td>\n",
       "      <td>2023-01-21</td>\n",
       "      <td>[identification, eroded, forearc, crust, compo...</td>\n",
       "    </tr>\n",
       "    <tr>\n",
       "      <th>7</th>\n",
       "      <td>10</td>\n",
       "      <td>A tool to distinguish magmatic from secondaril...</td>\n",
       "      <td>Crustal geochemical signatures in carbonatites...</td>\n",
       "      <td>https://pubs.geoscienceworld.org/gsa/geology/a...</td>\n",
       "      <td>2023-01-21</td>\n",
       "      <td>[crustal, geochemical, signatures, carbonatite...</td>\n",
       "    </tr>\n",
       "    <tr>\n",
       "      <th>9</th>\n",
       "      <td>14</td>\n",
       "      <td>Sponge-rich sediment recycling in a Paleozoic ...</td>\n",
       "      <td>Slab material transfer processes in continenta...</td>\n",
       "      <td>https://pubs.geoscienceworld.org/gsa/geology/a...</td>\n",
       "      <td>2023-01-21</td>\n",
       "      <td>[slab, material, transfer, processes, continen...</td>\n",
       "    </tr>\n",
       "    <tr>\n",
       "      <th>11</th>\n",
       "      <td>16</td>\n",
       "      <td>Diagenetic priming of submarine landslides in ...</td>\n",
       "      <td>Oozes are the most widespread deep-sea sedimen...</td>\n",
       "      <td>https://pubs.geoscienceworld.org/gsa/geology/a...</td>\n",
       "      <td>2023-01-21</td>\n",
       "      <td>[oozes, widespread, deepsea, sediment, global,...</td>\n",
       "    </tr>\n",
       "    <tr>\n",
       "      <th>13</th>\n",
       "      <td>19</td>\n",
       "      <td>Trends and rhythms in carbonatites and kimberl...</td>\n",
       "      <td>Earth's thermo-tectonic evolution determines t...</td>\n",
       "      <td>https://pubs.geoscienceworld.org/gsa/geology/a...</td>\n",
       "      <td>2023-01-21</td>\n",
       "      <td>[earths, thermotectonic, evolution, determines...</td>\n",
       "    </tr>\n",
       "    <tr>\n",
       "      <th>14</th>\n",
       "      <td>21</td>\n",
       "      <td>Preferential preservation of low-elevation bio...</td>\n",
       "      <td>Modern coastal sedimentary basins typically li...</td>\n",
       "      <td>https://pubs.geoscienceworld.org/gsa/geology/a...</td>\n",
       "      <td>2023-01-21</td>\n",
       "      <td>[modern, coastal, sedimentary, basins, typical...</td>\n",
       "    </tr>\n",
       "    <tr>\n",
       "      <th>18</th>\n",
       "      <td>26</td>\n",
       "      <td>Boninitic blueschists record subduction initia...</td>\n",
       "      <td>Subduction of oceanic lithosphere is a diagnos...</td>\n",
       "      <td>https://pubs.geoscienceworld.org/gsa/geology/a...</td>\n",
       "      <td>2023-01-24</td>\n",
       "      <td>[subduction, oceanic, lithosphere, diagnostic,...</td>\n",
       "    </tr>\n",
       "    <tr>\n",
       "      <th>19</th>\n",
       "      <td>27</td>\n",
       "      <td>Extreme event-driven sediment aggradation and ...</td>\n",
       "      <td>In most landscape evolution models, extreme ra...</td>\n",
       "      <td>https://pubs.geoscienceworld.org/gsa/geology/a...</td>\n",
       "      <td>2023-01-24</td>\n",
       "      <td>[landscape, evolution, models, extreme, rainfa...</td>\n",
       "    </tr>\n",
       "    <tr>\n",
       "      <th>21</th>\n",
       "      <td>29</td>\n",
       "      <td>Volcanic plumbing filters on ocean-island basa...</td>\n",
       "      <td>Ocean-island basalts (OIBs) are considered to ...</td>\n",
       "      <td>https://pubs.geoscienceworld.org/gsa/geology/a...</td>\n",
       "      <td>2023-01-24</td>\n",
       "      <td>[oceanisland, basalts, oibs, considered, messe...</td>\n",
       "    </tr>\n",
       "    <tr>\n",
       "      <th>22</th>\n",
       "      <td>30</td>\n",
       "      <td>Carbon isotope excursions during the late Mioc...</td>\n",
       "      <td>Group I mesophilic Thaumarchaeota fix dissolve...</td>\n",
       "      <td>https://pubs.geoscienceworld.org/gsa/geology/a...</td>\n",
       "      <td>2023-01-24</td>\n",
       "      <td>[group, mesophilic, thaumarchaeota, fix, disso...</td>\n",
       "    </tr>\n",
       "    <tr>\n",
       "      <th>27</th>\n",
       "      <td>35</td>\n",
       "      <td>Propagating uplift controls on high-elevation,...</td>\n",
       "      <td>High-elevation, low-relief surfaces are widesp...</td>\n",
       "      <td>https://pubs.geoscienceworld.org/gsa/geology/a...</td>\n",
       "      <td>2023-01-24</td>\n",
       "      <td>[highelevation, lowrelief, surfaces, widesprea...</td>\n",
       "    </tr>\n",
       "    <tr>\n",
       "      <th>28</th>\n",
       "      <td>36</td>\n",
       "      <td>Unraveling the histories of Proterozoic shales...</td>\n",
       "      <td>Authigenic components in marine sediments are ...</td>\n",
       "      <td>https://pubs.geoscienceworld.org/gsa/geology/a...</td>\n",
       "      <td>2023-01-24</td>\n",
       "      <td>[authigenic, components, marine, sediments, im...</td>\n",
       "    </tr>\n",
       "    <tr>\n",
       "      <th>33</th>\n",
       "      <td>41</td>\n",
       "      <td>Mantle heating at ca. 2 Ga by continental insu...</td>\n",
       "      <td>Igneous and metamorphic rocks contain the mine...</td>\n",
       "      <td>https://pubs.geoscienceworld.org/gsa/geology/a...</td>\n",
       "      <td>2023-01-24</td>\n",
       "      <td>[igneous, metamorphic, rocks, contain, mineral...</td>\n",
       "    </tr>\n",
       "    <tr>\n",
       "      <th>35</th>\n",
       "      <td>43</td>\n",
       "      <td>The influence of rock uplift rate on the forma...</td>\n",
       "      <td>Marine terraces are a cornerstone for the stud...</td>\n",
       "      <td>https://pubs.geoscienceworld.org/gsa/geology/a...</td>\n",
       "      <td>2023-01-24</td>\n",
       "      <td>[marine, terraces, cornerstone, study, paleo, ...</td>\n",
       "    </tr>\n",
       "    <tr>\n",
       "      <th>38</th>\n",
       "      <td>46</td>\n",
       "      <td>Evidence for enhanced fluvial channel mobility...</td>\n",
       "      <td>The Paleocene-Eocene thermal maximum (PETM) wa...</td>\n",
       "      <td>https://pubs.geoscienceworld.org/gsa/geology/a...</td>\n",
       "      <td>2023-01-24</td>\n",
       "      <td>[paleoceneeocene, thermal, maximum, petm, extr...</td>\n",
       "    </tr>\n",
       "    <tr>\n",
       "      <th>41</th>\n",
       "      <td>52</td>\n",
       "      <td>A fragile record of fleeting water on Mars</td>\n",
       "      <td>The light-toned sedimentary layers that outcro...</td>\n",
       "      <td>https://pubs.geoscienceworld.org/gsa/geology/a...</td>\n",
       "      <td>2023-01-24</td>\n",
       "      <td>[lighttoned, sedimentary, layers, outcrop, wid...</td>\n",
       "    </tr>\n",
       "    <tr>\n",
       "      <th>44</th>\n",
       "      <td>65</td>\n",
       "      <td>Zircon (U-Th)/He thermochronology of Grand Can...</td>\n",
       "      <td>Our study used zircon (U-Th)/He (ZHe) thermoch...</td>\n",
       "      <td>https://pubs.geoscienceworld.org/gsa/geology/a...</td>\n",
       "      <td>2023-01-24</td>\n",
       "      <td>[study, used, zircon, uthhe, zhe, thermochrono...</td>\n",
       "    </tr>\n",
       "    <tr>\n",
       "      <th>46</th>\n",
       "      <td>69</td>\n",
       "      <td>Evaluating preservation bias in the continenta...</td>\n",
       "      <td>Most recent models of continental growth are b...</td>\n",
       "      <td>https://pubs.geoscienceworld.org/gsa/geology/a...</td>\n",
       "      <td>2023-01-24</td>\n",
       "      <td>[recent, models, continental, growth, based, l...</td>\n",
       "    </tr>\n",
       "    <tr>\n",
       "      <th>51</th>\n",
       "      <td>81</td>\n",
       "      <td>Early Earth zircons formed in residual graniti...</td>\n",
       "      <td>The oldest geological materials on Earth are H...</td>\n",
       "      <td>https://pubs.geoscienceworld.org/gsa/geology/a...</td>\n",
       "      <td>2023-01-24</td>\n",
       "      <td>[oldest, geological, materials, earth, hadean,...</td>\n",
       "    </tr>\n",
       "    <tr>\n",
       "      <th>53</th>\n",
       "      <td>84</td>\n",
       "      <td>Are fluid inclusions in gypsum reliable paleoe...</td>\n",
       "      <td>The paleosalinity of water from which the gyps...</td>\n",
       "      <td>https://pubs.geoscienceworld.org/gsa/geology/a...</td>\n",
       "      <td>2023-01-24</td>\n",
       "      <td>[paleosalinity, water, gypsum, precipitated, m...</td>\n",
       "    </tr>\n",
       "    <tr>\n",
       "      <th>56</th>\n",
       "      <td>93</td>\n",
       "      <td>Middle Oxfordian carbon cycle perturbation exp...</td>\n",
       "      <td>The Middle–Late Jurassic opening of the centra...</td>\n",
       "      <td>https://pubs.geoscienceworld.org/gsa/geology/a...</td>\n",
       "      <td>2023-01-24</td>\n",
       "      <td>[middle–late, jurassic, opening, central, atla...</td>\n",
       "    </tr>\n",
       "    <tr>\n",
       "      <th>57</th>\n",
       "      <td>95</td>\n",
       "      <td>Quantifying volcanism and organic carbon buria...</td>\n",
       "      <td>Oceanic Anoxic Event 2 (ca. 94 Ma; OAE2) was o...</td>\n",
       "      <td>https://pubs.geoscienceworld.org/gsa/geology/a...</td>\n",
       "      <td>2023-01-24</td>\n",
       "      <td>[oceanic, anoxic, event, 2, ca, 94, oae2, one,...</td>\n",
       "    </tr>\n",
       "    <tr>\n",
       "      <th>61</th>\n",
       "      <td>104</td>\n",
       "      <td>Reconciling persistent sub-zero temperatures i...</td>\n",
       "      <td>In the Ross Sea sector of Antarctica, periodic...</td>\n",
       "      <td>https://pubs.geoscienceworld.org/gsa/geology/a...</td>\n",
       "      <td>2023-01-24</td>\n",
       "      <td>[ross, sea, sector, antarctica, periodic, larg...</td>\n",
       "    </tr>\n",
       "    <tr>\n",
       "      <th>63</th>\n",
       "      <td>106</td>\n",
       "      <td>Coriolis effect recorded in Late Pleistocene M...</td>\n",
       "      <td>The windward islands of the Lucayan Archipelag...</td>\n",
       "      <td>https://pubs.geoscienceworld.org/gsa/geology/a...</td>\n",
       "      <td>2023-01-24</td>\n",
       "      <td>[windward, islands, lucayan, archipelago, baha...</td>\n",
       "    </tr>\n",
       "    <tr>\n",
       "      <th>70</th>\n",
       "      <td>139</td>\n",
       "      <td>Can deepwater bottom currents generate clinoth...</td>\n",
       "      <td>Clinoforms and clinothems are ubiquitous in sh...</td>\n",
       "      <td>https://pubs.geoscienceworld.org/gsa/geology/a...</td>\n",
       "      <td>2023-01-24</td>\n",
       "      <td>[clinoforms, clinothems, ubiquitous, shallow, ...</td>\n",
       "    </tr>\n",
       "    <tr>\n",
       "      <th>72</th>\n",
       "      <td>141</td>\n",
       "      <td>Apparent preservation of primary foraminiferal...</td>\n",
       "      <td>Trace element and δ18O values of foraminifera ...</td>\n",
       "      <td>https://pubs.geoscienceworld.org/gsa/geology/a...</td>\n",
       "      <td>2023-01-24</td>\n",
       "      <td>[trace, element, δ18o, values, foraminifera, w...</td>\n",
       "    </tr>\n",
       "    <tr>\n",
       "      <th>78</th>\n",
       "      <td>154</td>\n",
       "      <td>Plate tectonic–like cycles since the Hadean: I...</td>\n",
       "      <td>Interpretation of Earth's oldest preserved cru...</td>\n",
       "      <td>https://pubs.geoscienceworld.org/gsa/geology/a...</td>\n",
       "      <td>2023-01-24</td>\n",
       "      <td>[interpretation, earths, oldest, preserved, cr...</td>\n",
       "    </tr>\n",
       "    <tr>\n",
       "      <th>79</th>\n",
       "      <td>157</td>\n",
       "      <td>Oceanic isostasy as a trigger for the rift-to-...</td>\n",
       "      <td>A long-standing missing link in our understand...</td>\n",
       "      <td>https://pubs.geoscienceworld.org/gsa/geology/a...</td>\n",
       "      <td>2023-01-24</td>\n",
       "      <td>[longstanding, missing, link, understanding, w...</td>\n",
       "    </tr>\n",
       "    <tr>\n",
       "      <th>82</th>\n",
       "      <td>167</td>\n",
       "      <td>Claspers in the mid-Cambrian Olenoides serratu...</td>\n",
       "      <td>Sexual reproduction represents a fundamental a...</td>\n",
       "      <td>https://pubs.geoscienceworld.org/gsa/geology/a...</td>\n",
       "      <td>2023-01-24</td>\n",
       "      <td>[sexual, reproduction, represents, fundamental...</td>\n",
       "    </tr>\n",
       "    <tr>\n",
       "      <th>84</th>\n",
       "      <td>170</td>\n",
       "      <td>Cenozoic delamination of the southwestern Yang...</td>\n",
       "      <td>It is widely thought that oceanic subduction c...</td>\n",
       "      <td>https://pubs.geoscienceworld.org/gsa/geology/a...</td>\n",
       "      <td>2023-01-24</td>\n",
       "      <td>[widely, thought, oceanic, subduction, trigger...</td>\n",
       "    </tr>\n",
       "    <tr>\n",
       "      <th>87</th>\n",
       "      <td>174</td>\n",
       "      <td>Extensive evidence for a last interglacial Lau...</td>\n",
       "      <td>A catastrophic last interglacial Laurentide ou...</td>\n",
       "      <td>https://pubs.geoscienceworld.org/gsa/geology/a...</td>\n",
       "      <td>2023-01-24</td>\n",
       "      <td>[catastrophic, last, interglacial, laurentide,...</td>\n",
       "    </tr>\n",
       "    <tr>\n",
       "      <th>90</th>\n",
       "      <td>181</td>\n",
       "      <td>Recurrent tectonic activity in northeastern Br...</td>\n",
       "      <td>Carbonate U-Pb dating of samples from rift-bou...</td>\n",
       "      <td>https://pubs.geoscienceworld.org/gsa/geology/a...</td>\n",
       "      <td>2023-01-24</td>\n",
       "      <td>[carbonate, upb, dating, samples, riftbounding...</td>\n",
       "    </tr>\n",
       "    <tr>\n",
       "      <th>91</th>\n",
       "      <td>184</td>\n",
       "      <td>Seismic evidence for lithospheric boudinage an...</td>\n",
       "      <td>The continental rifting that precedes the brea...</td>\n",
       "      <td>https://pubs.geoscienceworld.org/gsa/geology/a...</td>\n",
       "      <td>2023-01-24</td>\n",
       "      <td>[continental, rifting, precedes, breakup, cont...</td>\n",
       "    </tr>\n",
       "    <tr>\n",
       "      <th>96</th>\n",
       "      <td>194</td>\n",
       "      <td>Protogenetic clinopyroxene inclusions in diamo...</td>\n",
       "      <td>Diamonds are witnesses of processes that have ...</td>\n",
       "      <td>https://pubs.geoscienceworld.org/gsa/geology/a...</td>\n",
       "      <td>2023-01-24</td>\n",
       "      <td>[diamonds, witnesses, processes, operated, ear...</td>\n",
       "    </tr>\n",
       "    <tr>\n",
       "      <th>98</th>\n",
       "      <td>200</td>\n",
       "      <td>Natural levees increase in prevalence in the b...</td>\n",
       "      <td>Flood dynamics in low-relief landscapes contro...</td>\n",
       "      <td>https://pubs.geoscienceworld.org/gsa/geology/a...</td>\n",
       "      <td>2023-01-24</td>\n",
       "      <td>[flood, dynamics, lowrelief, landscapes, contr...</td>\n",
       "    </tr>\n",
       "    <tr>\n",
       "      <th>103</th>\n",
       "      <td>210</td>\n",
       "      <td>Hydrodynamic invalidation of synformal traps f...</td>\n",
       "      <td>Reservoirs with the geometry of structural low...</td>\n",
       "      <td>https://pubs.geoscienceworld.org/gsa/geology/a...</td>\n",
       "      <td>2023-01-24</td>\n",
       "      <td>[reservoirs, geometry, structural, lows, trap,...</td>\n",
       "    </tr>\n",
       "    <tr>\n",
       "      <th>104</th>\n",
       "      <td>216</td>\n",
       "      <td>Differentiation between carbonate and silicate...</td>\n",
       "      <td>Carbonate and silicate metasomatism occurring ...</td>\n",
       "      <td>https://pubs.geoscienceworld.org/gsa/geology/a...</td>\n",
       "      <td>2023-01-24</td>\n",
       "      <td>[carbonate, silicate, metasomatism, occurring,...</td>\n",
       "    </tr>\n",
       "    <tr>\n",
       "      <th>105</th>\n",
       "      <td>217</td>\n",
       "      <td>New constraints on the source of loess from U/...</td>\n",
       "      <td>The origin and provenance of eolian sediments ...</td>\n",
       "      <td>https://pubs.geoscienceworld.org/gsa/geology/a...</td>\n",
       "      <td>2023-01-24</td>\n",
       "      <td>[origin, provenance, eolian, sediments, loess,...</td>\n",
       "    </tr>\n",
       "    <tr>\n",
       "      <th>107</th>\n",
       "      <td>226</td>\n",
       "      <td>Preserved intercratonic lithosphere reveals Pr...</td>\n",
       "      <td>The Proterozoic assembly of Australia, the und...</td>\n",
       "      <td>https://pubs.geoscienceworld.org/gsa/geology/a...</td>\n",
       "      <td>2023-01-24</td>\n",
       "      <td>[proterozoic, assembly, australia, understandi...</td>\n",
       "    </tr>\n",
       "    <tr>\n",
       "      <th>109</th>\n",
       "      <td>230</td>\n",
       "      <td>Direct constraints on in situ stress state fro...</td>\n",
       "      <td>Stress state is a long-sought but poorly known...</td>\n",
       "      <td>https://pubs.geoscienceworld.org/gsa/geology/a...</td>\n",
       "      <td>2023-01-24</td>\n",
       "      <td>[stress, state, longsought, poorly, known, par...</td>\n",
       "    </tr>\n",
       "    <tr>\n",
       "      <th>116</th>\n",
       "      <td>247</td>\n",
       "      <td>Hematite geochronology reveals a tectonic trig...</td>\n",
       "      <td>Hematite and goethite deposits hosted in bande...</td>\n",
       "      <td>https://pubs.geoscienceworld.org/gsa/geology/a...</td>\n",
       "      <td>2023-01-24</td>\n",
       "      <td>[hematite, goethite, deposits, hosted, banded,...</td>\n",
       "    </tr>\n",
       "    <tr>\n",
       "      <th>119</th>\n",
       "      <td>253</td>\n",
       "      <td>High-magnitude stresses induced by mineral-hyd...</td>\n",
       "      <td>Fluid-rock interactions play a critical role i...</td>\n",
       "      <td>https://pubs.geoscienceworld.org/gsa/geology/a...</td>\n",
       "      <td>2023-01-24</td>\n",
       "      <td>[fluidrock, interactions, play, critical, role...</td>\n",
       "    </tr>\n",
       "    <tr>\n",
       "      <th>123</th>\n",
       "      <td>262</td>\n",
       "      <td>Reworked pollen reduces apparent floral change...</td>\n",
       "      <td>Plant megafossils from the Paleocene-Eocene Th...</td>\n",
       "      <td>https://pubs.geoscienceworld.org/gsa/geology/a...</td>\n",
       "      <td>2023-01-24</td>\n",
       "      <td>[plant, megafossils, paleoceneeocene, thermal,...</td>\n",
       "    </tr>\n",
       "    <tr>\n",
       "      <th>129</th>\n",
       "      <td>275</td>\n",
       "      <td>Drivers of spatiotemporal patterns of surface ...</td>\n",
       "      <td>Spatial and temporal dynamics of rainfall and ...</td>\n",
       "      <td>https://www.sciencedirect.com/science/article/...</td>\n",
       "      <td>2023-01-25</td>\n",
       "      <td>[spatial, temporal, dynamics, rainfall, snowme...</td>\n",
       "    </tr>\n",
       "    <tr>\n",
       "      <th>130</th>\n",
       "      <td>276</td>\n",
       "      <td>Characterisation of intertidal springs in a fa...</td>\n",
       "      <td>In intertidal zones, groundwater is often pres...</td>\n",
       "      <td>https://www.sciencedirect.com/science/article/...</td>\n",
       "      <td>2023-01-25</td>\n",
       "      <td>[intertidal, zones, groundwater, often, presen...</td>\n",
       "    </tr>\n",
       "    <tr>\n",
       "      <th>131</th>\n",
       "      <td>277</td>\n",
       "      <td>Forest hydrology in Chile: Past, present, and ...</td>\n",
       "      <td>This paper reviews the current knowledge of hy...</td>\n",
       "      <td>https://www.sciencedirect.com/science/article/...</td>\n",
       "      <td>2023-01-25</td>\n",
       "      <td>[paper, reviews, current, knowledge, hydrologi...</td>\n",
       "    </tr>\n",
       "    <tr>\n",
       "      <th>132</th>\n",
       "      <td>278</td>\n",
       "      <td>How does dewfall affect drought assessment in ...</td>\n",
       "      <td>Dewfall is an important source of additional p...</td>\n",
       "      <td>https://www.sciencedirect.com/science/article/...</td>\n",
       "      <td>2023-01-25</td>\n",
       "      <td>[dewfall, important, source, additional, preci...</td>\n",
       "    </tr>\n",
       "    <tr>\n",
       "      <th>137</th>\n",
       "      <td>283</td>\n",
       "      <td>Plum rain enhances porewater greenhouse gas fl...</td>\n",
       "      <td>Seasonal rainfall, locally known as plum rain,...</td>\n",
       "      <td>https://www.sciencedirect.com/science/article/...</td>\n",
       "      <td>2023-01-25</td>\n",
       "      <td>[seasonal, rainfall, locally, known, plum, rai...</td>\n",
       "    </tr>\n",
       "    <tr>\n",
       "      <th>138</th>\n",
       "      <td>284</td>\n",
       "      <td>Incorporating non-stationarity from climate ch...</td>\n",
       "      <td>Intensity-duration-frequency (IDF) curves – so...</td>\n",
       "      <td>https://www.sciencedirect.com/science/article/...</td>\n",
       "      <td>2023-01-25</td>\n",
       "      <td>[intensitydurationfrequency, idf, curves, –, s...</td>\n",
       "    </tr>\n",
       "    <tr>\n",
       "      <th>139</th>\n",
       "      <td>285</td>\n",
       "      <td>Mechanisms of bar adjustments in the Jingjiang...</td>\n",
       "      <td>Dams alter downstream river flow and sediment ...</td>\n",
       "      <td>https://www.sciencedirect.com/science/article/...</td>\n",
       "      <td>2023-01-25</td>\n",
       "      <td>[dams, alter, downstream, river, flow, sedimen...</td>\n",
       "    </tr>\n",
       "    <tr>\n",
       "      <th>141</th>\n",
       "      <td>287</td>\n",
       "      <td>Evaluation of statistical models: Perspective ...</td>\n",
       "      <td>The accurate representation of the load of wat...</td>\n",
       "      <td>https://www.sciencedirect.com/science/article/...</td>\n",
       "      <td>2023-01-25</td>\n",
       "      <td>[accurate, representation, load, water, qualit...</td>\n",
       "    </tr>\n",
       "  </tbody>\n",
       "</table>\n",
       "</div>"
      ],
      "text/plain": [
       "     index                                              Title  \\\n",
       "0        0  Molybdenum isotopes in mafic igneous rocks rec...   \n",
       "2        2  Impact of stream power gradients on storage of...   \n",
       "4        5  Rapid megaflood-triggered base-level rise on Mars   \n",
       "6        9  Heavy Mo isotope composition of northern Bataa...   \n",
       "7       10  A tool to distinguish magmatic from secondaril...   \n",
       "9       14  Sponge-rich sediment recycling in a Paleozoic ...   \n",
       "11      16  Diagenetic priming of submarine landslides in ...   \n",
       "13      19  Trends and rhythms in carbonatites and kimberl...   \n",
       "14      21  Preferential preservation of low-elevation bio...   \n",
       "18      26  Boninitic blueschists record subduction initia...   \n",
       "19      27  Extreme event-driven sediment aggradation and ...   \n",
       "21      29  Volcanic plumbing filters on ocean-island basa...   \n",
       "22      30  Carbon isotope excursions during the late Mioc...   \n",
       "27      35  Propagating uplift controls on high-elevation,...   \n",
       "28      36  Unraveling the histories of Proterozoic shales...   \n",
       "33      41  Mantle heating at ca. 2 Ga by continental insu...   \n",
       "35      43  The influence of rock uplift rate on the forma...   \n",
       "38      46  Evidence for enhanced fluvial channel mobility...   \n",
       "41      52         A fragile record of fleeting water on Mars   \n",
       "44      65  Zircon (U-Th)/He thermochronology of Grand Can...   \n",
       "46      69  Evaluating preservation bias in the continenta...   \n",
       "51      81  Early Earth zircons formed in residual graniti...   \n",
       "53      84  Are fluid inclusions in gypsum reliable paleoe...   \n",
       "56      93  Middle Oxfordian carbon cycle perturbation exp...   \n",
       "57      95  Quantifying volcanism and organic carbon buria...   \n",
       "61     104  Reconciling persistent sub-zero temperatures i...   \n",
       "63     106  Coriolis effect recorded in Late Pleistocene M...   \n",
       "70     139  Can deepwater bottom currents generate clinoth...   \n",
       "72     141  Apparent preservation of primary foraminiferal...   \n",
       "78     154  Plate tectonic–like cycles since the Hadean: I...   \n",
       "79     157  Oceanic isostasy as a trigger for the rift-to-...   \n",
       "82     167  Claspers in the mid-Cambrian Olenoides serratu...   \n",
       "84     170  Cenozoic delamination of the southwestern Yang...   \n",
       "87     174  Extensive evidence for a last interglacial Lau...   \n",
       "90     181  Recurrent tectonic activity in northeastern Br...   \n",
       "91     184  Seismic evidence for lithospheric boudinage an...   \n",
       "96     194  Protogenetic clinopyroxene inclusions in diamo...   \n",
       "98     200  Natural levees increase in prevalence in the b...   \n",
       "103    210  Hydrodynamic invalidation of synformal traps f...   \n",
       "104    216  Differentiation between carbonate and silicate...   \n",
       "105    217  New constraints on the source of loess from U/...   \n",
       "107    226  Preserved intercratonic lithosphere reveals Pr...   \n",
       "109    230  Direct constraints on in situ stress state fro...   \n",
       "116    247  Hematite geochronology reveals a tectonic trig...   \n",
       "119    253  High-magnitude stresses induced by mineral-hyd...   \n",
       "123    262  Reworked pollen reduces apparent floral change...   \n",
       "129    275  Drivers of spatiotemporal patterns of surface ...   \n",
       "130    276  Characterisation of intertidal springs in a fa...   \n",
       "131    277  Forest hydrology in Chile: Past, present, and ...   \n",
       "132    278  How does dewfall affect drought assessment in ...   \n",
       "137    283  Plum rain enhances porewater greenhouse gas fl...   \n",
       "138    284  Incorporating non-stationarity from climate ch...   \n",
       "139    285  Mechanisms of bar adjustments in the Jingjiang...   \n",
       "141    287  Evaluation of statistical models: Perspective ...   \n",
       "\n",
       "                                              Abstract  \\\n",
       "0    Arc volcanic rocks erupted above oceanic subdu...   \n",
       "2    Spatial complexity impacts the resilience of r...   \n",
       "4    The existence of ancient fluvial systems on Ma...   \n",
       "6    The identification of an eroded fore-arc crust...   \n",
       "7    Crustal geochemical signatures in carbonatites...   \n",
       "9    Slab material transfer processes in continenta...   \n",
       "11   Oozes are the most widespread deep-sea sedimen...   \n",
       "13   Earth's thermo-tectonic evolution determines t...   \n",
       "14   Modern coastal sedimentary basins typically li...   \n",
       "18   Subduction of oceanic lithosphere is a diagnos...   \n",
       "19   In most landscape evolution models, extreme ra...   \n",
       "21   Ocean-island basalts (OIBs) are considered to ...   \n",
       "22   Group I mesophilic Thaumarchaeota fix dissolve...   \n",
       "27   High-elevation, low-relief surfaces are widesp...   \n",
       "28   Authigenic components in marine sediments are ...   \n",
       "33   Igneous and metamorphic rocks contain the mine...   \n",
       "35   Marine terraces are a cornerstone for the stud...   \n",
       "38   The Paleocene-Eocene thermal maximum (PETM) wa...   \n",
       "41   The light-toned sedimentary layers that outcro...   \n",
       "44   Our study used zircon (U-Th)/He (ZHe) thermoch...   \n",
       "46   Most recent models of continental growth are b...   \n",
       "51   The oldest geological materials on Earth are H...   \n",
       "53   The paleosalinity of water from which the gyps...   \n",
       "56   The Middle–Late Jurassic opening of the centra...   \n",
       "57   Oceanic Anoxic Event 2 (ca. 94 Ma; OAE2) was o...   \n",
       "61   In the Ross Sea sector of Antarctica, periodic...   \n",
       "63   The windward islands of the Lucayan Archipelag...   \n",
       "70   Clinoforms and clinothems are ubiquitous in sh...   \n",
       "72   Trace element and δ18O values of foraminifera ...   \n",
       "78   Interpretation of Earth's oldest preserved cru...   \n",
       "79   A long-standing missing link in our understand...   \n",
       "82   Sexual reproduction represents a fundamental a...   \n",
       "84   It is widely thought that oceanic subduction c...   \n",
       "87   A catastrophic last interglacial Laurentide ou...   \n",
       "90   Carbonate U-Pb dating of samples from rift-bou...   \n",
       "91   The continental rifting that precedes the brea...   \n",
       "96   Diamonds are witnesses of processes that have ...   \n",
       "98   Flood dynamics in low-relief landscapes contro...   \n",
       "103  Reservoirs with the geometry of structural low...   \n",
       "104  Carbonate and silicate metasomatism occurring ...   \n",
       "105  The origin and provenance of eolian sediments ...   \n",
       "107  The Proterozoic assembly of Australia, the und...   \n",
       "109  Stress state is a long-sought but poorly known...   \n",
       "116  Hematite and goethite deposits hosted in bande...   \n",
       "119  Fluid-rock interactions play a critical role i...   \n",
       "123  Plant megafossils from the Paleocene-Eocene Th...   \n",
       "129  Spatial and temporal dynamics of rainfall and ...   \n",
       "130  In intertidal zones, groundwater is often pres...   \n",
       "131  This paper reviews the current knowledge of hy...   \n",
       "132  Dewfall is an important source of additional p...   \n",
       "137  Seasonal rainfall, locally known as plum rain,...   \n",
       "138  Intensity-duration-frequency (IDF) curves – so...   \n",
       "139  Dams alter downstream river flow and sediment ...   \n",
       "141  The accurate representation of the load of wat...   \n",
       "\n",
       "                                           Article URL        date  \\\n",
       "0    https://pubs.geoscienceworld.org/gsa/geology/a...  2023-01-21   \n",
       "2    https://pubs.geoscienceworld.org/gsa/geology/a...  2023-01-21   \n",
       "4    https://pubs.geoscienceworld.org/gsa/geology/a...  2023-01-21   \n",
       "6    https://pubs.geoscienceworld.org/gsa/geology/a...  2023-01-21   \n",
       "7    https://pubs.geoscienceworld.org/gsa/geology/a...  2023-01-21   \n",
       "9    https://pubs.geoscienceworld.org/gsa/geology/a...  2023-01-21   \n",
       "11   https://pubs.geoscienceworld.org/gsa/geology/a...  2023-01-21   \n",
       "13   https://pubs.geoscienceworld.org/gsa/geology/a...  2023-01-21   \n",
       "14   https://pubs.geoscienceworld.org/gsa/geology/a...  2023-01-21   \n",
       "18   https://pubs.geoscienceworld.org/gsa/geology/a...  2023-01-24   \n",
       "19   https://pubs.geoscienceworld.org/gsa/geology/a...  2023-01-24   \n",
       "21   https://pubs.geoscienceworld.org/gsa/geology/a...  2023-01-24   \n",
       "22   https://pubs.geoscienceworld.org/gsa/geology/a...  2023-01-24   \n",
       "27   https://pubs.geoscienceworld.org/gsa/geology/a...  2023-01-24   \n",
       "28   https://pubs.geoscienceworld.org/gsa/geology/a...  2023-01-24   \n",
       "33   https://pubs.geoscienceworld.org/gsa/geology/a...  2023-01-24   \n",
       "35   https://pubs.geoscienceworld.org/gsa/geology/a...  2023-01-24   \n",
       "38   https://pubs.geoscienceworld.org/gsa/geology/a...  2023-01-24   \n",
       "41   https://pubs.geoscienceworld.org/gsa/geology/a...  2023-01-24   \n",
       "44   https://pubs.geoscienceworld.org/gsa/geology/a...  2023-01-24   \n",
       "46   https://pubs.geoscienceworld.org/gsa/geology/a...  2023-01-24   \n",
       "51   https://pubs.geoscienceworld.org/gsa/geology/a...  2023-01-24   \n",
       "53   https://pubs.geoscienceworld.org/gsa/geology/a...  2023-01-24   \n",
       "56   https://pubs.geoscienceworld.org/gsa/geology/a...  2023-01-24   \n",
       "57   https://pubs.geoscienceworld.org/gsa/geology/a...  2023-01-24   \n",
       "61   https://pubs.geoscienceworld.org/gsa/geology/a...  2023-01-24   \n",
       "63   https://pubs.geoscienceworld.org/gsa/geology/a...  2023-01-24   \n",
       "70   https://pubs.geoscienceworld.org/gsa/geology/a...  2023-01-24   \n",
       "72   https://pubs.geoscienceworld.org/gsa/geology/a...  2023-01-24   \n",
       "78   https://pubs.geoscienceworld.org/gsa/geology/a...  2023-01-24   \n",
       "79   https://pubs.geoscienceworld.org/gsa/geology/a...  2023-01-24   \n",
       "82   https://pubs.geoscienceworld.org/gsa/geology/a...  2023-01-24   \n",
       "84   https://pubs.geoscienceworld.org/gsa/geology/a...  2023-01-24   \n",
       "87   https://pubs.geoscienceworld.org/gsa/geology/a...  2023-01-24   \n",
       "90   https://pubs.geoscienceworld.org/gsa/geology/a...  2023-01-24   \n",
       "91   https://pubs.geoscienceworld.org/gsa/geology/a...  2023-01-24   \n",
       "96   https://pubs.geoscienceworld.org/gsa/geology/a...  2023-01-24   \n",
       "98   https://pubs.geoscienceworld.org/gsa/geology/a...  2023-01-24   \n",
       "103  https://pubs.geoscienceworld.org/gsa/geology/a...  2023-01-24   \n",
       "104  https://pubs.geoscienceworld.org/gsa/geology/a...  2023-01-24   \n",
       "105  https://pubs.geoscienceworld.org/gsa/geology/a...  2023-01-24   \n",
       "107  https://pubs.geoscienceworld.org/gsa/geology/a...  2023-01-24   \n",
       "109  https://pubs.geoscienceworld.org/gsa/geology/a...  2023-01-24   \n",
       "116  https://pubs.geoscienceworld.org/gsa/geology/a...  2023-01-24   \n",
       "119  https://pubs.geoscienceworld.org/gsa/geology/a...  2023-01-24   \n",
       "123  https://pubs.geoscienceworld.org/gsa/geology/a...  2023-01-24   \n",
       "129  https://www.sciencedirect.com/science/article/...  2023-01-25   \n",
       "130  https://www.sciencedirect.com/science/article/...  2023-01-25   \n",
       "131  https://www.sciencedirect.com/science/article/...  2023-01-25   \n",
       "132  https://www.sciencedirect.com/science/article/...  2023-01-25   \n",
       "137  https://www.sciencedirect.com/science/article/...  2023-01-25   \n",
       "138  https://www.sciencedirect.com/science/article/...  2023-01-25   \n",
       "139  https://www.sciencedirect.com/science/article/...  2023-01-25   \n",
       "141  https://www.sciencedirect.com/science/article/...  2023-01-25   \n",
       "\n",
       "                                        abstract_words  \n",
       "0    [arc, volcanic, rocks, erupted, oceanic, subdu...  \n",
       "2    [spatial, complexity, impacts, resilience, riv...  \n",
       "4    [existence, ancient, fluvial, systems, mars, w...  \n",
       "6    [identification, eroded, forearc, crust, compo...  \n",
       "7    [crustal, geochemical, signatures, carbonatite...  \n",
       "9    [slab, material, transfer, processes, continen...  \n",
       "11   [oozes, widespread, deepsea, sediment, global,...  \n",
       "13   [earths, thermotectonic, evolution, determines...  \n",
       "14   [modern, coastal, sedimentary, basins, typical...  \n",
       "18   [subduction, oceanic, lithosphere, diagnostic,...  \n",
       "19   [landscape, evolution, models, extreme, rainfa...  \n",
       "21   [oceanisland, basalts, oibs, considered, messe...  \n",
       "22   [group, mesophilic, thaumarchaeota, fix, disso...  \n",
       "27   [highelevation, lowrelief, surfaces, widesprea...  \n",
       "28   [authigenic, components, marine, sediments, im...  \n",
       "33   [igneous, metamorphic, rocks, contain, mineral...  \n",
       "35   [marine, terraces, cornerstone, study, paleo, ...  \n",
       "38   [paleoceneeocene, thermal, maximum, petm, extr...  \n",
       "41   [lighttoned, sedimentary, layers, outcrop, wid...  \n",
       "44   [study, used, zircon, uthhe, zhe, thermochrono...  \n",
       "46   [recent, models, continental, growth, based, l...  \n",
       "51   [oldest, geological, materials, earth, hadean,...  \n",
       "53   [paleosalinity, water, gypsum, precipitated, m...  \n",
       "56   [middle–late, jurassic, opening, central, atla...  \n",
       "57   [oceanic, anoxic, event, 2, ca, 94, oae2, one,...  \n",
       "61   [ross, sea, sector, antarctica, periodic, larg...  \n",
       "63   [windward, islands, lucayan, archipelago, baha...  \n",
       "70   [clinoforms, clinothems, ubiquitous, shallow, ...  \n",
       "72   [trace, element, δ18o, values, foraminifera, w...  \n",
       "78   [interpretation, earths, oldest, preserved, cr...  \n",
       "79   [longstanding, missing, link, understanding, w...  \n",
       "82   [sexual, reproduction, represents, fundamental...  \n",
       "84   [widely, thought, oceanic, subduction, trigger...  \n",
       "87   [catastrophic, last, interglacial, laurentide,...  \n",
       "90   [carbonate, upb, dating, samples, riftbounding...  \n",
       "91   [continental, rifting, precedes, breakup, cont...  \n",
       "96   [diamonds, witnesses, processes, operated, ear...  \n",
       "98   [flood, dynamics, lowrelief, landscapes, contr...  \n",
       "103  [reservoirs, geometry, structural, lows, trap,...  \n",
       "104  [carbonate, silicate, metasomatism, occurring,...  \n",
       "105  [origin, provenance, eolian, sediments, loess,...  \n",
       "107  [proterozoic, assembly, australia, understandi...  \n",
       "109  [stress, state, longsought, poorly, known, par...  \n",
       "116  [hematite, goethite, deposits, hosted, banded,...  \n",
       "119  [fluidrock, interactions, play, critical, role...  \n",
       "123  [plant, megafossils, paleoceneeocene, thermal,...  \n",
       "129  [spatial, temporal, dynamics, rainfall, snowme...  \n",
       "130  [intertidal, zones, groundwater, often, presen...  \n",
       "131  [paper, reviews, current, knowledge, hydrologi...  \n",
       "132  [dewfall, important, source, additional, preci...  \n",
       "137  [seasonal, rainfall, locally, known, plum, rai...  \n",
       "138  [intensitydurationfrequency, idf, curves, –, s...  \n",
       "139  [dams, alter, downstream, river, flow, sedimen...  \n",
       "141  [accurate, representation, load, water, qualit...  "
      ]
     },
     "execution_count": 78,
     "metadata": {},
     "output_type": "execute_result"
    }
   ],
   "source": [
    "#df.iloc[cluster3]"
   ]
  },
  {
   "cell_type": "markdown",
   "id": "c5b81b27",
   "metadata": {},
   "source": [
    "# Summarization of abstracts with Pegasus"
   ]
  },
  {
   "cell_type": "markdown",
   "id": "c89ae6a7",
   "metadata": {},
   "source": [
    "Pegasus is a transformer model for creating abstractive (sentences for the summary are generated by the model, vs. using an existing sentences from the text (as do extractive models)) summaries"
   ]
  },
  {
   "cell_type": "code",
   "execution_count": 5,
   "id": "ead9087f",
   "metadata": {},
   "outputs": [],
   "source": [
    "#!pip install transformers\n",
    "\n",
    "from transformers import PegasusForConditionalGeneration, PegasusTokenizer"
   ]
  },
  {
   "cell_type": "code",
   "execution_count": 3,
   "id": "4f3c1b4e",
   "metadata": {},
   "outputs": [],
   "source": [
    "#!pip install sentencepiece"
   ]
  },
  {
   "cell_type": "code",
   "execution_count": 6,
   "id": "ae31ceb4",
   "metadata": {},
   "outputs": [],
   "source": [
    "pretrained_model = 'google/pegasus-xsum'\n",
    "#pretrained models are in HuggingFace (https://huggingface.co) for transformer models\n",
    "\n",
    "#creating tokenizer (it transforms words into tokens[basically numbers] and vice versa)\n",
    "takenizer = PegasusTokenizer.from_pretrained(pretrained_model)"
   ]
  },
  {
   "cell_type": "code",
   "execution_count": 7,
   "id": "acd133a0",
   "metadata": {},
   "outputs": [],
   "source": [
    "#creating pegasus model\n",
    "peg_model= PegasusForConditionalGeneration.from_pretrained(pretrained_model)"
   ]
  },
  {
   "cell_type": "code",
   "execution_count": 7,
   "id": "43d8de76",
   "metadata": {},
   "outputs": [],
   "source": [
    "#creating tokens, (using PyTorch in return_tensors = 'pt'; can be TensorFlow instead as well)\n",
    "tokens = takenizer(df['Abstract'][0], truncation = True, padding = 'longest', return_tensors = 'pt')\n",
    "#tokens"
   ]
  },
  {
   "cell_type": "code",
   "execution_count": 10,
   "id": "a513af56",
   "metadata": {},
   "outputs": [
    {
     "data": {
      "text/plain": [
       "'<pad>Mo isotope data from Mesozoic and Cenozoic mafic igneous rocks from China reveal geochemical fluxes from oceanic slabs to the mantle wedge.</s>'"
      ]
     },
     "execution_count": 10,
     "metadata": {},
     "output_type": "execute_result"
    }
   ],
   "source": [
    "#summarizing\n",
    "token_summary = peg_model.generate(**tokens)\n",
    "\n",
    "#decoding the summarized text\n",
    "short_summary = takenizer.decode(token_summary[0], skip_soecial_tokens = True, max_length = 50)\n",
    "\n",
    "short_summary"
   ]
  },
  {
   "cell_type": "code",
   "execution_count": 16,
   "id": "0bbb68a9",
   "metadata": {},
   "outputs": [],
   "source": [
    "#for creatig a summary we can influence the lenght of \n",
    "from transformers import pipeline\n",
    "\n",
    "#summarization pipeline defenition\n",
    "summarizer = pipeline('summarization', model = pretrained_model, tokenizer = takenizer,framework = 'pt') # framework = 'pt' for PyTorch; can be TensorFlow instead as well\n",
    "\n",
    "summary = summarizer(df['Abstract'][0], min_length = 80, max_length = 110)\n"
   ]
  },
  {
   "cell_type": "code",
   "execution_count": 9,
   "id": "d3df3327",
   "metadata": {},
   "outputs": [
    {
     "data": {
      "text/plain": [
       "'Arc volcanic rocks erupted above oceanic subduction zones generally have heavy molybdenum (Mo) isotopic compositions, which are attributed to contributions from oceanic slab–derived fluids with isotopically heavy Mo at subarc depths. Given that mafic igneous rocks with light Mo isotopic compositions have been rarely identified, it is unclear where light Mo isotope reservoirs reside, as these must exist due to oceanic subduction through geologic time. We present Mo isotope data from Mesozoic–Cenozoic mafic igneous rocks from the eastern North China craton, which were affected by continuous subduction of the oceanic slab. The Mesozoic mafic igneous rocks have island-arc basalt (IAB)–like features and high δ98Mo values of –0.15‰ to +0.09‰. In contrast, the Cenozoic mafic igneous rocks have ocean-island basalt (OIB)–like features and low δ98Mo values of –0.53‰ to –0.19‰. In addition, these two suites of rocks exhibit systematic differences in Sr-Nd isotopic compositions and fluid- and melt-mobile element contents, indicating that their mantle sources contained crustal components derived from different depths. The heavy Mo and weakly enriched Sr-Nd isotopic compositions and IAB-like trace-element signatures were inherited from slab fluids (including oceanic crust–derived aqueous solutions and seafloor sediment–derived hydrous melts) liberated at subarc depths. The light Mo and depleted Sr-Nd isotopic compositions and OIB-like trace-element signatures were inherited from dehydrated slab–derived melts (with rutile breakdown) at postarc depths. Therefore, Mo isotope systematics of mafic igneous rocks are a powerful means with which to trace the geochemical fluxes from subducting oceanic slabs to the mantle wedge at different depths.'"
      ]
     },
     "execution_count": 9,
     "metadata": {},
     "output_type": "execute_result"
    }
   ],
   "source": [
    "df['Abstract'][0]"
   ]
  },
  {
   "cell_type": "code",
   "execution_count": 17,
   "id": "3da8aaaa",
   "metadata": {},
   "outputs": [
    {
     "data": {
      "text/plain": [
       "[{'summary_text': 'Mo isotope data from Mesozoic and Cenozoic mafic igneous rocks from the eastern North China craton are used to trace the geochemical fluxes from oceanic slabs to the mantle wedge, and to identify light Mo isotope reservoirs from oceanic slab-derived fluids at subarc depths and at postarc depths, as well as from dehydrated slab-derived melts at subarc depths and at postarc depths, as well as from oceanic slab-derived fluids at subarc depths and at postarc depths, as well as from dehydrated slab-derived melts at sub'}]"
      ]
     },
     "execution_count": 17,
     "metadata": {},
     "output_type": "execute_result"
    }
   ],
   "source": [
    "summary"
   ]
  },
  {
   "cell_type": "code",
   "execution_count": 21,
   "id": "ddfd0ead",
   "metadata": {},
   "outputs": [
    {
     "name": "stderr",
     "output_type": "stream",
     "text": [
      "C:\\Users\\yelsk\\AppData\\Local\\Temp/ipykernel_19900/1718538735.py:11: SettingWithCopyWarning: \n",
      "A value is trying to be set on a copy of a slice from a DataFrame\n",
      "\n",
      "See the caveats in the documentation: https://pandas.pydata.org/pandas-docs/stable/user_guide/indexing.html#returning-a-view-versus-a-copy\n",
      "  df['Summary'][i] = summarizer(df['Abstract'][i], min_length = 50, max_length = 90)\n"
     ]
    },
    {
     "name": "stdout",
     "output_type": "stream",
     "text": [
      "^^^^***********^^^^\n",
      "^^^^***********^^^^\n"
     ]
    },
    {
     "name": "stderr",
     "output_type": "stream",
     "text": [
      "Your max_length is set to 90, but you input_length is only 5. You might consider decreasing max_length manually, e.g. summarizer('...', max_length=2)\n"
     ]
    },
    {
     "name": "stdout",
     "output_type": "stream",
     "text": [
      "^^^^***********^^^^\n",
      "^^^^***********^^^^\n",
      "^^^^***********^^^^\n"
     ]
    },
    {
     "name": "stderr",
     "output_type": "stream",
     "text": [
      "Your max_length is set to 90, but you input_length is only 5. You might consider decreasing max_length manually, e.g. summarizer('...', max_length=2)\n"
     ]
    },
    {
     "name": "stdout",
     "output_type": "stream",
     "text": [
      "^^^^***********^^^^\n",
      "^^^^***********^^^^\n"
     ]
    },
    {
     "name": "stderr",
     "output_type": "stream",
     "text": [
      "Your max_length is set to 90, but you input_length is only 5. You might consider decreasing max_length manually, e.g. summarizer('...', max_length=2)\n"
     ]
    },
    {
     "name": "stdout",
     "output_type": "stream",
     "text": [
      "^^^^***********^^^^\n",
      "^^^^***********^^^^\n",
      "^^^^***********^^^^\n",
      "^^^^***********^^^^\n"
     ]
    },
    {
     "name": "stderr",
     "output_type": "stream",
     "text": [
      "Your max_length is set to 90, but you input_length is only 5. You might consider decreasing max_length manually, e.g. summarizer('...', max_length=2)\n"
     ]
    },
    {
     "name": "stdout",
     "output_type": "stream",
     "text": [
      "^^^^***********^^^^\n"
     ]
    },
    {
     "name": "stderr",
     "output_type": "stream",
     "text": [
      "Your max_length is set to 90, but you input_length is only 5. You might consider decreasing max_length manually, e.g. summarizer('...', max_length=2)\n"
     ]
    },
    {
     "name": "stdout",
     "output_type": "stream",
     "text": [
      "^^^^***********^^^^\n",
      "^^^^***********^^^^\n",
      "^^^^***********^^^^\n",
      "^^^^***********^^^^\n",
      "^^^^***********^^^^\n"
     ]
    },
    {
     "name": "stderr",
     "output_type": "stream",
     "text": [
      "Your max_length is set to 90, but you input_length is only 5. You might consider decreasing max_length manually, e.g. summarizer('...', max_length=2)\n"
     ]
    },
    {
     "name": "stdout",
     "output_type": "stream",
     "text": [
      "^^^^***********^^^^\n",
      "^^^^***********^^^^\n"
     ]
    },
    {
     "name": "stderr",
     "output_type": "stream",
     "text": [
      "Your max_length is set to 90, but you input_length is only 5. You might consider decreasing max_length manually, e.g. summarizer('...', max_length=2)\n"
     ]
    },
    {
     "name": "stdout",
     "output_type": "stream",
     "text": [
      "^^^^***********^^^^\n",
      "^^^^***********^^^^\n",
      "^^^^***********^^^^\n"
     ]
    },
    {
     "name": "stderr",
     "output_type": "stream",
     "text": [
      "Your max_length is set to 90, but you input_length is only 5. You might consider decreasing max_length manually, e.g. summarizer('...', max_length=2)\n"
     ]
    },
    {
     "name": "stdout",
     "output_type": "stream",
     "text": [
      "^^^^***********^^^^\n"
     ]
    },
    {
     "name": "stderr",
     "output_type": "stream",
     "text": [
      "Your max_length is set to 90, but you input_length is only 40. You might consider decreasing max_length manually, e.g. summarizer('...', max_length=20)\n"
     ]
    },
    {
     "name": "stdout",
     "output_type": "stream",
     "text": [
      "^^^^***********^^^^\n",
      "^^^^***********^^^^\n",
      "^^^^***********^^^^\n",
      "^^^^***********^^^^\n",
      "^^^^***********^^^^\n",
      "^^^^***********^^^^\n",
      "^^^^***********^^^^\n",
      "^^^^***********^^^^\n",
      "^^^^***********^^^^\n",
      "^^^^***********^^^^\n",
      "^^^^***********^^^^\n",
      "^^^^***********^^^^\n",
      "^^^^***********^^^^\n",
      "^^^^***********^^^^\n",
      "^^^^***********^^^^\n",
      "^^^^***********^^^^\n",
      "^^^^***********^^^^\n",
      "^^^^***********^^^^\n",
      "^^^^***********^^^^\n",
      "^^^^***********^^^^\n",
      "^^^^***********^^^^\n",
      "^^^^***********^^^^\n",
      "^^^^***********^^^^\n",
      "^^^^***********^^^^\n"
     ]
    },
    {
     "name": "stderr",
     "output_type": "stream",
     "text": [
      "Your max_length is set to 90, but you input_length is only 5. You might consider decreasing max_length manually, e.g. summarizer('...', max_length=2)\n"
     ]
    },
    {
     "name": "stdout",
     "output_type": "stream",
     "text": [
      "^^^^***********^^^^\n"
     ]
    },
    {
     "name": "stderr",
     "output_type": "stream",
     "text": [
      "Your max_length is set to 90, but you input_length is only 5. You might consider decreasing max_length manually, e.g. summarizer('...', max_length=2)\n"
     ]
    },
    {
     "name": "stdout",
     "output_type": "stream",
     "text": [
      "^^^^***********^^^^\n",
      "^^^^***********^^^^\n"
     ]
    },
    {
     "name": "stderr",
     "output_type": "stream",
     "text": [
      "Your max_length is set to 90, but you input_length is only 5. You might consider decreasing max_length manually, e.g. summarizer('...', max_length=2)\n"
     ]
    },
    {
     "name": "stdout",
     "output_type": "stream",
     "text": [
      "^^^^***********^^^^\n",
      "^^^^***********^^^^\n"
     ]
    },
    {
     "name": "stderr",
     "output_type": "stream",
     "text": [
      "Your max_length is set to 90, but you input_length is only 5. You might consider decreasing max_length manually, e.g. summarizer('...', max_length=2)\n"
     ]
    },
    {
     "name": "stdout",
     "output_type": "stream",
     "text": [
      "^^^^***********^^^^\n"
     ]
    },
    {
     "name": "stderr",
     "output_type": "stream",
     "text": [
      "Your max_length is set to 90, but you input_length is only 5. You might consider decreasing max_length manually, e.g. summarizer('...', max_length=2)\n"
     ]
    },
    {
     "name": "stdout",
     "output_type": "stream",
     "text": [
      "^^^^***********^^^^\n"
     ]
    },
    {
     "name": "stderr",
     "output_type": "stream",
     "text": [
      "Your max_length is set to 90, but you input_length is only 5. You might consider decreasing max_length manually, e.g. summarizer('...', max_length=2)\n"
     ]
    },
    {
     "name": "stdout",
     "output_type": "stream",
     "text": [
      "^^^^***********^^^^\n",
      "^^^^***********^^^^\n"
     ]
    },
    {
     "name": "stderr",
     "output_type": "stream",
     "text": [
      "Your max_length is set to 90, but you input_length is only 5. You might consider decreasing max_length manually, e.g. summarizer('...', max_length=2)\n"
     ]
    },
    {
     "name": "stdout",
     "output_type": "stream",
     "text": [
      "^^^^***********^^^^\n"
     ]
    },
    {
     "name": "stderr",
     "output_type": "stream",
     "text": [
      "Your max_length is set to 90, but you input_length is only 5. You might consider decreasing max_length manually, e.g. summarizer('...', max_length=2)\n"
     ]
    },
    {
     "name": "stdout",
     "output_type": "stream",
     "text": [
      "^^^^***********^^^^\n"
     ]
    },
    {
     "name": "stderr",
     "output_type": "stream",
     "text": [
      "Your max_length is set to 90, but you input_length is only 5. You might consider decreasing max_length manually, e.g. summarizer('...', max_length=2)\n"
     ]
    },
    {
     "name": "stdout",
     "output_type": "stream",
     "text": [
      "^^^^***********^^^^\n"
     ]
    },
    {
     "name": "stderr",
     "output_type": "stream",
     "text": [
      "Your max_length is set to 90, but you input_length is only 5. You might consider decreasing max_length manually, e.g. summarizer('...', max_length=2)\n"
     ]
    },
    {
     "name": "stdout",
     "output_type": "stream",
     "text": [
      "^^^^***********^^^^\n"
     ]
    },
    {
     "name": "stderr",
     "output_type": "stream",
     "text": [
      "Your max_length is set to 90, but you input_length is only 5. You might consider decreasing max_length manually, e.g. summarizer('...', max_length=2)\n"
     ]
    },
    {
     "name": "stdout",
     "output_type": "stream",
     "text": [
      "^^^^***********^^^^\n"
     ]
    },
    {
     "name": "stderr",
     "output_type": "stream",
     "text": [
      "Your max_length is set to 90, but you input_length is only 5. You might consider decreasing max_length manually, e.g. summarizer('...', max_length=2)\n"
     ]
    },
    {
     "name": "stdout",
     "output_type": "stream",
     "text": [
      "^^^^***********^^^^\n"
     ]
    },
    {
     "name": "stderr",
     "output_type": "stream",
     "text": [
      "Your max_length is set to 90, but you input_length is only 5. You might consider decreasing max_length manually, e.g. summarizer('...', max_length=2)\n"
     ]
    },
    {
     "name": "stdout",
     "output_type": "stream",
     "text": [
      "^^^^***********^^^^\n",
      "^^^^***********^^^^\n",
      "^^^^***********^^^^\n"
     ]
    },
    {
     "name": "stderr",
     "output_type": "stream",
     "text": [
      "Your max_length is set to 90, but you input_length is only 5. You might consider decreasing max_length manually, e.g. summarizer('...', max_length=2)\n"
     ]
    },
    {
     "name": "stdout",
     "output_type": "stream",
     "text": [
      "^^^^***********^^^^\n",
      "^^^^***********^^^^\n"
     ]
    },
    {
     "name": "stderr",
     "output_type": "stream",
     "text": [
      "Your max_length is set to 90, but you input_length is only 5. You might consider decreasing max_length manually, e.g. summarizer('...', max_length=2)\n"
     ]
    },
    {
     "name": "stdout",
     "output_type": "stream",
     "text": [
      "^^^^***********^^^^\n",
      "^^^^***********^^^^\n",
      "^^^^***********^^^^\n"
     ]
    },
    {
     "name": "stderr",
     "output_type": "stream",
     "text": [
      "Your max_length is set to 90, but you input_length is only 5. You might consider decreasing max_length manually, e.g. summarizer('...', max_length=2)\n"
     ]
    },
    {
     "name": "stdout",
     "output_type": "stream",
     "text": [
      "^^^^***********^^^^\n"
     ]
    },
    {
     "name": "stderr",
     "output_type": "stream",
     "text": [
      "Your max_length is set to 90, but you input_length is only 5. You might consider decreasing max_length manually, e.g. summarizer('...', max_length=2)\n"
     ]
    },
    {
     "name": "stdout",
     "output_type": "stream",
     "text": [
      "^^^^***********^^^^\n",
      "^^^^***********^^^^\n"
     ]
    },
    {
     "name": "stderr",
     "output_type": "stream",
     "text": [
      "Your max_length is set to 90, but you input_length is only 5. You might consider decreasing max_length manually, e.g. summarizer('...', max_length=2)\n"
     ]
    },
    {
     "name": "stdout",
     "output_type": "stream",
     "text": [
      "^^^^***********^^^^\n"
     ]
    },
    {
     "name": "stderr",
     "output_type": "stream",
     "text": [
      "Your max_length is set to 90, but you input_length is only 5. You might consider decreasing max_length manually, e.g. summarizer('...', max_length=2)\n"
     ]
    },
    {
     "name": "stdout",
     "output_type": "stream",
     "text": [
      "^^^^***********^^^^\n"
     ]
    },
    {
     "name": "stderr",
     "output_type": "stream",
     "text": [
      "Your max_length is set to 90, but you input_length is only 5. You might consider decreasing max_length manually, e.g. summarizer('...', max_length=2)\n"
     ]
    },
    {
     "name": "stdout",
     "output_type": "stream",
     "text": [
      "^^^^***********^^^^\n"
     ]
    },
    {
     "name": "stderr",
     "output_type": "stream",
     "text": [
      "Your max_length is set to 90, but you input_length is only 5. You might consider decreasing max_length manually, e.g. summarizer('...', max_length=2)\n"
     ]
    },
    {
     "name": "stdout",
     "output_type": "stream",
     "text": [
      "^^^^***********^^^^\n",
      "^^^^***********^^^^\n",
      "^^^^***********^^^^\n"
     ]
    },
    {
     "name": "stderr",
     "output_type": "stream",
     "text": [
      "Your max_length is set to 90, but you input_length is only 5. You might consider decreasing max_length manually, e.g. summarizer('...', max_length=2)\n"
     ]
    },
    {
     "name": "stdout",
     "output_type": "stream",
     "text": [
      "^^^^***********^^^^\n",
      "^^^^***********^^^^\n"
     ]
    },
    {
     "name": "stderr",
     "output_type": "stream",
     "text": [
      "Your max_length is set to 90, but you input_length is only 5. You might consider decreasing max_length manually, e.g. summarizer('...', max_length=2)\n"
     ]
    },
    {
     "name": "stdout",
     "output_type": "stream",
     "text": [
      "^^^^***********^^^^\n",
      "^^^^***********^^^^\n",
      "^^^^***********^^^^\n",
      "^^^^***********^^^^\n"
     ]
    },
    {
     "name": "stderr",
     "output_type": "stream",
     "text": [
      "Your max_length is set to 90, but you input_length is only 5. You might consider decreasing max_length manually, e.g. summarizer('...', max_length=2)\n"
     ]
    },
    {
     "name": "stdout",
     "output_type": "stream",
     "text": [
      "^^^^***********^^^^\n"
     ]
    },
    {
     "name": "stderr",
     "output_type": "stream",
     "text": [
      "Your max_length is set to 90, but you input_length is only 5. You might consider decreasing max_length manually, e.g. summarizer('...', max_length=2)\n"
     ]
    },
    {
     "name": "stdout",
     "output_type": "stream",
     "text": [
      "^^^^***********^^^^\n"
     ]
    },
    {
     "name": "stderr",
     "output_type": "stream",
     "text": [
      "Your max_length is set to 90, but you input_length is only 5. You might consider decreasing max_length manually, e.g. summarizer('...', max_length=2)\n"
     ]
    },
    {
     "name": "stdout",
     "output_type": "stream",
     "text": [
      "^^^^***********^^^^\n"
     ]
    },
    {
     "name": "stderr",
     "output_type": "stream",
     "text": [
      "Your max_length is set to 90, but you input_length is only 5. You might consider decreasing max_length manually, e.g. summarizer('...', max_length=2)\n"
     ]
    },
    {
     "name": "stdout",
     "output_type": "stream",
     "text": [
      "^^^^***********^^^^\n",
      "^^^^***********^^^^\n"
     ]
    },
    {
     "name": "stderr",
     "output_type": "stream",
     "text": [
      "Your max_length is set to 90, but you input_length is only 5. You might consider decreasing max_length manually, e.g. summarizer('...', max_length=2)\n"
     ]
    },
    {
     "name": "stdout",
     "output_type": "stream",
     "text": [
      "^^^^***********^^^^\n"
     ]
    },
    {
     "name": "stderr",
     "output_type": "stream",
     "text": [
      "Your max_length is set to 90, but you input_length is only 5. You might consider decreasing max_length manually, e.g. summarizer('...', max_length=2)\n"
     ]
    },
    {
     "name": "stdout",
     "output_type": "stream",
     "text": [
      "^^^^***********^^^^\n",
      "^^^^***********^^^^\n"
     ]
    },
    {
     "name": "stderr",
     "output_type": "stream",
     "text": [
      "Your max_length is set to 90, but you input_length is only 5. You might consider decreasing max_length manually, e.g. summarizer('...', max_length=2)\n"
     ]
    },
    {
     "name": "stdout",
     "output_type": "stream",
     "text": [
      "^^^^***********^^^^\n",
      "^^^^***********^^^^\n",
      "^^^^***********^^^^\n"
     ]
    },
    {
     "name": "stderr",
     "output_type": "stream",
     "text": [
      "Your max_length is set to 90, but you input_length is only 5. You might consider decreasing max_length manually, e.g. summarizer('...', max_length=2)\n"
     ]
    },
    {
     "name": "stdout",
     "output_type": "stream",
     "text": [
      "^^^^***********^^^^\n"
     ]
    },
    {
     "name": "stderr",
     "output_type": "stream",
     "text": [
      "Your max_length is set to 90, but you input_length is only 5. You might consider decreasing max_length manually, e.g. summarizer('...', max_length=2)\n"
     ]
    },
    {
     "name": "stdout",
     "output_type": "stream",
     "text": [
      "^^^^***********^^^^\n"
     ]
    },
    {
     "name": "stderr",
     "output_type": "stream",
     "text": [
      "Your max_length is set to 90, but you input_length is only 5. You might consider decreasing max_length manually, e.g. summarizer('...', max_length=2)\n"
     ]
    },
    {
     "name": "stdout",
     "output_type": "stream",
     "text": [
      "^^^^***********^^^^\n"
     ]
    },
    {
     "name": "stderr",
     "output_type": "stream",
     "text": [
      "Your max_length is set to 90, but you input_length is only 5. You might consider decreasing max_length manually, e.g. summarizer('...', max_length=2)\n"
     ]
    },
    {
     "name": "stdout",
     "output_type": "stream",
     "text": [
      "^^^^***********^^^^\n",
      "^^^^***********^^^^\n",
      "^^^^***********^^^^\n"
     ]
    },
    {
     "name": "stderr",
     "output_type": "stream",
     "text": [
      "Your max_length is set to 90, but you input_length is only 5. You might consider decreasing max_length manually, e.g. summarizer('...', max_length=2)\n"
     ]
    },
    {
     "name": "stdout",
     "output_type": "stream",
     "text": [
      "^^^^***********^^^^\n",
      "^^^^***********^^^^\n",
      "^^^^***********^^^^\n",
      "^^^^***********^^^^\n",
      "^^^^***********^^^^\n"
     ]
    },
    {
     "name": "stderr",
     "output_type": "stream",
     "text": [
      "Your max_length is set to 90, but you input_length is only 5. You might consider decreasing max_length manually, e.g. summarizer('...', max_length=2)\n"
     ]
    },
    {
     "name": "stdout",
     "output_type": "stream",
     "text": [
      "^^^^***********^^^^\n"
     ]
    },
    {
     "name": "stderr",
     "output_type": "stream",
     "text": [
      "Your max_length is set to 90, but you input_length is only 5. You might consider decreasing max_length manually, e.g. summarizer('...', max_length=2)\n"
     ]
    },
    {
     "name": "stdout",
     "output_type": "stream",
     "text": [
      "^^^^***********^^^^\n"
     ]
    },
    {
     "name": "stderr",
     "output_type": "stream",
     "text": [
      "Your max_length is set to 90, but you input_length is only 5. You might consider decreasing max_length manually, e.g. summarizer('...', max_length=2)\n"
     ]
    },
    {
     "name": "stdout",
     "output_type": "stream",
     "text": [
      "^^^^***********^^^^\n"
     ]
    },
    {
     "name": "stderr",
     "output_type": "stream",
     "text": [
      "Your max_length is set to 90, but you input_length is only 5. You might consider decreasing max_length manually, e.g. summarizer('...', max_length=2)\n"
     ]
    },
    {
     "name": "stdout",
     "output_type": "stream",
     "text": [
      "^^^^***********^^^^\n"
     ]
    },
    {
     "name": "stderr",
     "output_type": "stream",
     "text": [
      "Your max_length is set to 90, but you input_length is only 5. You might consider decreasing max_length manually, e.g. summarizer('...', max_length=2)\n"
     ]
    },
    {
     "name": "stdout",
     "output_type": "stream",
     "text": [
      "^^^^***********^^^^\n",
      "^^^^***********^^^^\n"
     ]
    },
    {
     "name": "stderr",
     "output_type": "stream",
     "text": [
      "Your max_length is set to 90, but you input_length is only 5. You might consider decreasing max_length manually, e.g. summarizer('...', max_length=2)\n"
     ]
    },
    {
     "name": "stdout",
     "output_type": "stream",
     "text": [
      "^^^^***********^^^^\n"
     ]
    },
    {
     "name": "stderr",
     "output_type": "stream",
     "text": [
      "Your max_length is set to 90, but you input_length is only 5. You might consider decreasing max_length manually, e.g. summarizer('...', max_length=2)\n"
     ]
    },
    {
     "name": "stdout",
     "output_type": "stream",
     "text": [
      "^^^^***********^^^^\n"
     ]
    },
    {
     "name": "stderr",
     "output_type": "stream",
     "text": [
      "Your max_length is set to 90, but you input_length is only 5. You might consider decreasing max_length manually, e.g. summarizer('...', max_length=2)\n"
     ]
    },
    {
     "name": "stdout",
     "output_type": "stream",
     "text": [
      "^^^^***********^^^^\n",
      "^^^^***********^^^^\n"
     ]
    },
    {
     "name": "stderr",
     "output_type": "stream",
     "text": [
      "Your max_length is set to 90, but you input_length is only 5. You might consider decreasing max_length manually, e.g. summarizer('...', max_length=2)\n"
     ]
    },
    {
     "name": "stdout",
     "output_type": "stream",
     "text": [
      "^^^^***********^^^^\n"
     ]
    },
    {
     "name": "stderr",
     "output_type": "stream",
     "text": [
      "Your max_length is set to 90, but you input_length is only 5. You might consider decreasing max_length manually, e.g. summarizer('...', max_length=2)\n"
     ]
    },
    {
     "name": "stdout",
     "output_type": "stream",
     "text": [
      "^^^^***********^^^^\n"
     ]
    },
    {
     "name": "stderr",
     "output_type": "stream",
     "text": [
      "Your max_length is set to 90, but you input_length is only 5. You might consider decreasing max_length manually, e.g. summarizer('...', max_length=2)\n"
     ]
    },
    {
     "name": "stdout",
     "output_type": "stream",
     "text": [
      "^^^^***********^^^^\n"
     ]
    },
    {
     "name": "stderr",
     "output_type": "stream",
     "text": [
      "Your max_length is set to 90, but you input_length is only 5. You might consider decreasing max_length manually, e.g. summarizer('...', max_length=2)\n"
     ]
    },
    {
     "name": "stdout",
     "output_type": "stream",
     "text": [
      "^^^^***********^^^^\n"
     ]
    },
    {
     "name": "stderr",
     "output_type": "stream",
     "text": [
      "Your max_length is set to 90, but you input_length is only 5. You might consider decreasing max_length manually, e.g. summarizer('...', max_length=2)\n"
     ]
    },
    {
     "name": "stdout",
     "output_type": "stream",
     "text": [
      "^^^^***********^^^^\n"
     ]
    },
    {
     "name": "stderr",
     "output_type": "stream",
     "text": [
      "Your max_length is set to 90, but you input_length is only 5. You might consider decreasing max_length manually, e.g. summarizer('...', max_length=2)\n"
     ]
    },
    {
     "name": "stdout",
     "output_type": "stream",
     "text": [
      "^^^^***********^^^^\n"
     ]
    },
    {
     "name": "stderr",
     "output_type": "stream",
     "text": [
      "Your max_length is set to 90, but you input_length is only 5. You might consider decreasing max_length manually, e.g. summarizer('...', max_length=2)\n"
     ]
    },
    {
     "name": "stdout",
     "output_type": "stream",
     "text": [
      "^^^^***********^^^^\n"
     ]
    },
    {
     "name": "stderr",
     "output_type": "stream",
     "text": [
      "Your max_length is set to 90, but you input_length is only 5. You might consider decreasing max_length manually, e.g. summarizer('...', max_length=2)\n"
     ]
    },
    {
     "name": "stdout",
     "output_type": "stream",
     "text": [
      "^^^^***********^^^^\n"
     ]
    },
    {
     "name": "stderr",
     "output_type": "stream",
     "text": [
      "Your max_length is set to 90, but you input_length is only 5. You might consider decreasing max_length manually, e.g. summarizer('...', max_length=2)\n"
     ]
    },
    {
     "name": "stdout",
     "output_type": "stream",
     "text": [
      "^^^^***********^^^^\n"
     ]
    },
    {
     "name": "stderr",
     "output_type": "stream",
     "text": [
      "Your max_length is set to 90, but you input_length is only 5. You might consider decreasing max_length manually, e.g. summarizer('...', max_length=2)\n"
     ]
    },
    {
     "name": "stdout",
     "output_type": "stream",
     "text": [
      "^^^^***********^^^^\n"
     ]
    },
    {
     "name": "stderr",
     "output_type": "stream",
     "text": [
      "Your max_length is set to 90, but you input_length is only 5. You might consider decreasing max_length manually, e.g. summarizer('...', max_length=2)\n"
     ]
    },
    {
     "name": "stdout",
     "output_type": "stream",
     "text": [
      "^^^^***********^^^^\n"
     ]
    },
    {
     "name": "stderr",
     "output_type": "stream",
     "text": [
      "Your max_length is set to 90, but you input_length is only 5. You might consider decreasing max_length manually, e.g. summarizer('...', max_length=2)\n"
     ]
    },
    {
     "name": "stdout",
     "output_type": "stream",
     "text": [
      "^^^^***********^^^^\n"
     ]
    },
    {
     "name": "stderr",
     "output_type": "stream",
     "text": [
      "Your max_length is set to 90, but you input_length is only 5. You might consider decreasing max_length manually, e.g. summarizer('...', max_length=2)\n"
     ]
    },
    {
     "name": "stdout",
     "output_type": "stream",
     "text": [
      "^^^^***********^^^^\n"
     ]
    },
    {
     "name": "stderr",
     "output_type": "stream",
     "text": [
      "Your max_length is set to 90, but you input_length is only 5. You might consider decreasing max_length manually, e.g. summarizer('...', max_length=2)\n"
     ]
    },
    {
     "name": "stdout",
     "output_type": "stream",
     "text": [
      "^^^^***********^^^^\n"
     ]
    },
    {
     "name": "stderr",
     "output_type": "stream",
     "text": [
      "Your max_length is set to 90, but you input_length is only 5. You might consider decreasing max_length manually, e.g. summarizer('...', max_length=2)\n"
     ]
    },
    {
     "name": "stdout",
     "output_type": "stream",
     "text": [
      "^^^^***********^^^^\n"
     ]
    },
    {
     "name": "stderr",
     "output_type": "stream",
     "text": [
      "Your max_length is set to 90, but you input_length is only 5. You might consider decreasing max_length manually, e.g. summarizer('...', max_length=2)\n"
     ]
    },
    {
     "name": "stdout",
     "output_type": "stream",
     "text": [
      "^^^^***********^^^^\n",
      "^^^^***********^^^^\n"
     ]
    },
    {
     "name": "stderr",
     "output_type": "stream",
     "text": [
      "Your max_length is set to 90, but you input_length is only 5. You might consider decreasing max_length manually, e.g. summarizer('...', max_length=2)\n"
     ]
    },
    {
     "name": "stdout",
     "output_type": "stream",
     "text": [
      "^^^^***********^^^^\n"
     ]
    },
    {
     "name": "stderr",
     "output_type": "stream",
     "text": [
      "Your max_length is set to 90, but you input_length is only 5. You might consider decreasing max_length manually, e.g. summarizer('...', max_length=2)\n"
     ]
    },
    {
     "name": "stdout",
     "output_type": "stream",
     "text": [
      "^^^^***********^^^^\n",
      "^^^^***********^^^^\n",
      "^^^^***********^^^^\n",
      "^^^^***********^^^^\n",
      "^^^^***********^^^^\n",
      "^^^^***********^^^^\n",
      "^^^^***********^^^^\n"
     ]
    },
    {
     "name": "stderr",
     "output_type": "stream",
     "text": [
      "Your max_length is set to 90, but you input_length is only 5. You might consider decreasing max_length manually, e.g. summarizer('...', max_length=2)\n"
     ]
    },
    {
     "name": "stdout",
     "output_type": "stream",
     "text": [
      "^^^^***********^^^^\n"
     ]
    },
    {
     "name": "stderr",
     "output_type": "stream",
     "text": [
      "Your max_length is set to 90, but you input_length is only 5. You might consider decreasing max_length manually, e.g. summarizer('...', max_length=2)\n"
     ]
    },
    {
     "name": "stdout",
     "output_type": "stream",
     "text": [
      "^^^^***********^^^^\n"
     ]
    },
    {
     "name": "stderr",
     "output_type": "stream",
     "text": [
      "Your max_length is set to 90, but you input_length is only 5. You might consider decreasing max_length manually, e.g. summarizer('...', max_length=2)\n"
     ]
    },
    {
     "name": "stdout",
     "output_type": "stream",
     "text": [
      "^^^^***********^^^^\n",
      "^^^^***********^^^^\n"
     ]
    },
    {
     "name": "stderr",
     "output_type": "stream",
     "text": [
      "Your max_length is set to 90, but you input_length is only 5. You might consider decreasing max_length manually, e.g. summarizer('...', max_length=2)\n"
     ]
    },
    {
     "name": "stdout",
     "output_type": "stream",
     "text": [
      "^^^^***********^^^^\n",
      "^^^^***********^^^^\n"
     ]
    },
    {
     "name": "stderr",
     "output_type": "stream",
     "text": [
      "Your max_length is set to 90, but you input_length is only 5. You might consider decreasing max_length manually, e.g. summarizer('...', max_length=2)\n"
     ]
    },
    {
     "name": "stdout",
     "output_type": "stream",
     "text": [
      "^^^^***********^^^^\n",
      "^^^^***********^^^^\n"
     ]
    },
    {
     "name": "stderr",
     "output_type": "stream",
     "text": [
      "Your max_length is set to 90, but you input_length is only 5. You might consider decreasing max_length manually, e.g. summarizer('...', max_length=2)\n"
     ]
    },
    {
     "name": "stdout",
     "output_type": "stream",
     "text": [
      "^^^^***********^^^^\n",
      "^^^^***********^^^^\n"
     ]
    },
    {
     "name": "stderr",
     "output_type": "stream",
     "text": [
      "Your max_length is set to 90, but you input_length is only 5. You might consider decreasing max_length manually, e.g. summarizer('...', max_length=2)\n"
     ]
    },
    {
     "name": "stdout",
     "output_type": "stream",
     "text": [
      "^^^^***********^^^^\n",
      "^^^^***********^^^^\n"
     ]
    },
    {
     "name": "stderr",
     "output_type": "stream",
     "text": [
      "Your max_length is set to 90, but you input_length is only 5. You might consider decreasing max_length manually, e.g. summarizer('...', max_length=2)\n"
     ]
    },
    {
     "name": "stdout",
     "output_type": "stream",
     "text": [
      "^^^^***********^^^^\n"
     ]
    },
    {
     "name": "stderr",
     "output_type": "stream",
     "text": [
      "Your max_length is set to 90, but you input_length is only 5. You might consider decreasing max_length manually, e.g. summarizer('...', max_length=2)\n"
     ]
    },
    {
     "name": "stdout",
     "output_type": "stream",
     "text": [
      "^^^^***********^^^^\n",
      "^^^^***********^^^^\n"
     ]
    },
    {
     "name": "stderr",
     "output_type": "stream",
     "text": [
      "Your max_length is set to 90, but you input_length is only 5. You might consider decreasing max_length manually, e.g. summarizer('...', max_length=2)\n"
     ]
    },
    {
     "name": "stdout",
     "output_type": "stream",
     "text": [
      "^^^^***********^^^^\n"
     ]
    },
    {
     "name": "stderr",
     "output_type": "stream",
     "text": [
      "Your max_length is set to 90, but you input_length is only 5. You might consider decreasing max_length manually, e.g. summarizer('...', max_length=2)\n"
     ]
    },
    {
     "name": "stdout",
     "output_type": "stream",
     "text": [
      "^^^^***********^^^^\n"
     ]
    },
    {
     "name": "stderr",
     "output_type": "stream",
     "text": [
      "Your max_length is set to 90, but you input_length is only 5. You might consider decreasing max_length manually, e.g. summarizer('...', max_length=2)\n"
     ]
    },
    {
     "name": "stdout",
     "output_type": "stream",
     "text": [
      "^^^^***********^^^^\n",
      "^^^^***********^^^^\n"
     ]
    },
    {
     "name": "stderr",
     "output_type": "stream",
     "text": [
      "Your max_length is set to 90, but you input_length is only 5. You might consider decreasing max_length manually, e.g. summarizer('...', max_length=2)\n"
     ]
    },
    {
     "name": "stdout",
     "output_type": "stream",
     "text": [
      "^^^^***********^^^^\n"
     ]
    },
    {
     "name": "stderr",
     "output_type": "stream",
     "text": [
      "Your max_length is set to 90, but you input_length is only 5. You might consider decreasing max_length manually, e.g. summarizer('...', max_length=2)\n"
     ]
    },
    {
     "name": "stdout",
     "output_type": "stream",
     "text": [
      "^^^^***********^^^^\n",
      "^^^^***********^^^^\n"
     ]
    },
    {
     "name": "stderr",
     "output_type": "stream",
     "text": [
      "Your max_length is set to 90, but you input_length is only 5. You might consider decreasing max_length manually, e.g. summarizer('...', max_length=2)\n"
     ]
    },
    {
     "name": "stdout",
     "output_type": "stream",
     "text": [
      "^^^^***********^^^^\n"
     ]
    },
    {
     "name": "stderr",
     "output_type": "stream",
     "text": [
      "Your max_length is set to 90, but you input_length is only 5. You might consider decreasing max_length manually, e.g. summarizer('...', max_length=2)\n"
     ]
    },
    {
     "name": "stdout",
     "output_type": "stream",
     "text": [
      "^^^^***********^^^^\n",
      "^^^^***********^^^^\n",
      "^^^^***********^^^^\n"
     ]
    },
    {
     "name": "stderr",
     "output_type": "stream",
     "text": [
      "Your max_length is set to 90, but you input_length is only 5. You might consider decreasing max_length manually, e.g. summarizer('...', max_length=2)\n"
     ]
    },
    {
     "name": "stdout",
     "output_type": "stream",
     "text": [
      "^^^^***********^^^^\n",
      "^^^^***********^^^^\n",
      "^^^^***********^^^^\n",
      "^^^^***********^^^^\n"
     ]
    },
    {
     "name": "stderr",
     "output_type": "stream",
     "text": [
      "Your max_length is set to 90, but you input_length is only 5. You might consider decreasing max_length manually, e.g. summarizer('...', max_length=2)\n"
     ]
    },
    {
     "name": "stdout",
     "output_type": "stream",
     "text": [
      "^^^^***********^^^^\n",
      "^^^^***********^^^^\n",
      "^^^^***********^^^^\n",
      "^^^^***********^^^^\n"
     ]
    },
    {
     "name": "stderr",
     "output_type": "stream",
     "text": [
      "Your max_length is set to 90, but you input_length is only 5. You might consider decreasing max_length manually, e.g. summarizer('...', max_length=2)\n"
     ]
    },
    {
     "name": "stdout",
     "output_type": "stream",
     "text": [
      "^^^^***********^^^^\n"
     ]
    },
    {
     "name": "stderr",
     "output_type": "stream",
     "text": [
      "Your max_length is set to 90, but you input_length is only 5. You might consider decreasing max_length manually, e.g. summarizer('...', max_length=2)\n"
     ]
    },
    {
     "name": "stdout",
     "output_type": "stream",
     "text": [
      "^^^^***********^^^^\n"
     ]
    },
    {
     "name": "stderr",
     "output_type": "stream",
     "text": [
      "Your max_length is set to 90, but you input_length is only 5. You might consider decreasing max_length manually, e.g. summarizer('...', max_length=2)\n"
     ]
    },
    {
     "name": "stdout",
     "output_type": "stream",
     "text": [
      "^^^^***********^^^^\n"
     ]
    },
    {
     "name": "stderr",
     "output_type": "stream",
     "text": [
      "Your max_length is set to 90, but you input_length is only 5. You might consider decreasing max_length manually, e.g. summarizer('...', max_length=2)\n"
     ]
    },
    {
     "name": "stdout",
     "output_type": "stream",
     "text": [
      "^^^^***********^^^^\n",
      "^^^^***********^^^^\n"
     ]
    },
    {
     "name": "stderr",
     "output_type": "stream",
     "text": [
      "Your max_length is set to 90, but you input_length is only 5. You might consider decreasing max_length manually, e.g. summarizer('...', max_length=2)\n"
     ]
    },
    {
     "name": "stdout",
     "output_type": "stream",
     "text": [
      "^^^^***********^^^^\n"
     ]
    },
    {
     "name": "stderr",
     "output_type": "stream",
     "text": [
      "Your max_length is set to 90, but you input_length is only 5. You might consider decreasing max_length manually, e.g. summarizer('...', max_length=2)\n"
     ]
    },
    {
     "name": "stdout",
     "output_type": "stream",
     "text": [
      "^^^^***********^^^^\n",
      "^^^^***********^^^^\n",
      "^^^^***********^^^^\n"
     ]
    },
    {
     "name": "stderr",
     "output_type": "stream",
     "text": [
      "Your max_length is set to 90, but you input_length is only 5. You might consider decreasing max_length manually, e.g. summarizer('...', max_length=2)\n"
     ]
    },
    {
     "name": "stdout",
     "output_type": "stream",
     "text": [
      "^^^^***********^^^^\n",
      "^^^^***********^^^^\n"
     ]
    },
    {
     "name": "stderr",
     "output_type": "stream",
     "text": [
      "Your max_length is set to 90, but you input_length is only 5. You might consider decreasing max_length manually, e.g. summarizer('...', max_length=2)\n"
     ]
    },
    {
     "name": "stdout",
     "output_type": "stream",
     "text": [
      "^^^^***********^^^^\n"
     ]
    },
    {
     "name": "stderr",
     "output_type": "stream",
     "text": [
      "Your max_length is set to 90, but you input_length is only 5. You might consider decreasing max_length manually, e.g. summarizer('...', max_length=2)\n"
     ]
    },
    {
     "name": "stdout",
     "output_type": "stream",
     "text": [
      "^^^^***********^^^^\n"
     ]
    },
    {
     "name": "stderr",
     "output_type": "stream",
     "text": [
      "Your max_length is set to 90, but you input_length is only 5. You might consider decreasing max_length manually, e.g. summarizer('...', max_length=2)\n"
     ]
    },
    {
     "name": "stdout",
     "output_type": "stream",
     "text": [
      "^^^^***********^^^^\n",
      "^^^^***********^^^^\n"
     ]
    },
    {
     "name": "stderr",
     "output_type": "stream",
     "text": [
      "Your max_length is set to 90, but you input_length is only 5. You might consider decreasing max_length manually, e.g. summarizer('...', max_length=2)\n"
     ]
    },
    {
     "name": "stdout",
     "output_type": "stream",
     "text": [
      "^^^^***********^^^^\n",
      "^^^^***********^^^^\n",
      "^^^^***********^^^^\n"
     ]
    },
    {
     "name": "stderr",
     "output_type": "stream",
     "text": [
      "Your max_length is set to 90, but you input_length is only 5. You might consider decreasing max_length manually, e.g. summarizer('...', max_length=2)\n"
     ]
    },
    {
     "name": "stdout",
     "output_type": "stream",
     "text": [
      "^^^^***********^^^^\n",
      "^^^^***********^^^^\n"
     ]
    },
    {
     "name": "stderr",
     "output_type": "stream",
     "text": [
      "Your max_length is set to 90, but you input_length is only 5. You might consider decreasing max_length manually, e.g. summarizer('...', max_length=2)\n"
     ]
    },
    {
     "name": "stdout",
     "output_type": "stream",
     "text": [
      "^^^^***********^^^^\n"
     ]
    },
    {
     "name": "stderr",
     "output_type": "stream",
     "text": [
      "Your max_length is set to 90, but you input_length is only 5. You might consider decreasing max_length manually, e.g. summarizer('...', max_length=2)\n"
     ]
    },
    {
     "name": "stdout",
     "output_type": "stream",
     "text": [
      "^^^^***********^^^^\n"
     ]
    },
    {
     "name": "stderr",
     "output_type": "stream",
     "text": [
      "Your max_length is set to 90, but you input_length is only 5. You might consider decreasing max_length manually, e.g. summarizer('...', max_length=2)\n"
     ]
    },
    {
     "name": "stdout",
     "output_type": "stream",
     "text": [
      "^^^^***********^^^^\n",
      "^^^^***********^^^^\n",
      "^^^^***********^^^^\n"
     ]
    },
    {
     "name": "stderr",
     "output_type": "stream",
     "text": [
      "Your max_length is set to 90, but you input_length is only 5. You might consider decreasing max_length manually, e.g. summarizer('...', max_length=2)\n"
     ]
    },
    {
     "name": "stdout",
     "output_type": "stream",
     "text": [
      "^^^^***********^^^^\n"
     ]
    },
    {
     "name": "stderr",
     "output_type": "stream",
     "text": [
      "Your max_length is set to 90, but you input_length is only 5. You might consider decreasing max_length manually, e.g. summarizer('...', max_length=2)\n"
     ]
    },
    {
     "name": "stdout",
     "output_type": "stream",
     "text": [
      "^^^^***********^^^^\n",
      "^^^^***********^^^^\n"
     ]
    },
    {
     "name": "stderr",
     "output_type": "stream",
     "text": [
      "Your max_length is set to 90, but you input_length is only 5. You might consider decreasing max_length manually, e.g. summarizer('...', max_length=2)\n"
     ]
    },
    {
     "name": "stdout",
     "output_type": "stream",
     "text": [
      "^^^^***********^^^^\n",
      "^^^^***********^^^^\n",
      "^^^^***********^^^^\n"
     ]
    },
    {
     "name": "stderr",
     "output_type": "stream",
     "text": [
      "Your max_length is set to 90, but you input_length is only 5. You might consider decreasing max_length manually, e.g. summarizer('...', max_length=2)\n"
     ]
    },
    {
     "name": "stdout",
     "output_type": "stream",
     "text": [
      "^^^^***********^^^^\n"
     ]
    },
    {
     "name": "stderr",
     "output_type": "stream",
     "text": [
      "Your max_length is set to 90, but you input_length is only 5. You might consider decreasing max_length manually, e.g. summarizer('...', max_length=2)\n"
     ]
    },
    {
     "name": "stdout",
     "output_type": "stream",
     "text": [
      "^^^^***********^^^^\n",
      "^^^^***********^^^^\n"
     ]
    },
    {
     "name": "stderr",
     "output_type": "stream",
     "text": [
      "Your max_length is set to 90, but you input_length is only 5. You might consider decreasing max_length manually, e.g. summarizer('...', max_length=2)\n"
     ]
    },
    {
     "name": "stdout",
     "output_type": "stream",
     "text": [
      "^^^^***********^^^^\n"
     ]
    },
    {
     "name": "stderr",
     "output_type": "stream",
     "text": [
      "Your max_length is set to 90, but you input_length is only 5. You might consider decreasing max_length manually, e.g. summarizer('...', max_length=2)\n"
     ]
    },
    {
     "name": "stdout",
     "output_type": "stream",
     "text": [
      "^^^^***********^^^^\n"
     ]
    },
    {
     "name": "stderr",
     "output_type": "stream",
     "text": [
      "Your max_length is set to 90, but you input_length is only 5. You might consider decreasing max_length manually, e.g. summarizer('...', max_length=2)\n"
     ]
    },
    {
     "name": "stdout",
     "output_type": "stream",
     "text": [
      "^^^^***********^^^^\n"
     ]
    },
    {
     "name": "stderr",
     "output_type": "stream",
     "text": [
      "Your max_length is set to 90, but you input_length is only 5. You might consider decreasing max_length manually, e.g. summarizer('...', max_length=2)\n"
     ]
    },
    {
     "name": "stdout",
     "output_type": "stream",
     "text": [
      "^^^^***********^^^^\n"
     ]
    },
    {
     "name": "stderr",
     "output_type": "stream",
     "text": [
      "Your max_length is set to 90, but you input_length is only 5. You might consider decreasing max_length manually, e.g. summarizer('...', max_length=2)\n"
     ]
    },
    {
     "name": "stdout",
     "output_type": "stream",
     "text": [
      "^^^^***********^^^^\n",
      "^^^^***********^^^^\n",
      "^^^^***********^^^^\n"
     ]
    },
    {
     "name": "stderr",
     "output_type": "stream",
     "text": [
      "Your max_length is set to 90, but you input_length is only 5. You might consider decreasing max_length manually, e.g. summarizer('...', max_length=2)\n"
     ]
    },
    {
     "name": "stdout",
     "output_type": "stream",
     "text": [
      "^^^^***********^^^^\n"
     ]
    },
    {
     "name": "stderr",
     "output_type": "stream",
     "text": [
      "Your max_length is set to 90, but you input_length is only 5. You might consider decreasing max_length manually, e.g. summarizer('...', max_length=2)\n"
     ]
    },
    {
     "name": "stdout",
     "output_type": "stream",
     "text": [
      "^^^^***********^^^^\n"
     ]
    },
    {
     "name": "stderr",
     "output_type": "stream",
     "text": [
      "Your max_length is set to 90, but you input_length is only 5. You might consider decreasing max_length manually, e.g. summarizer('...', max_length=2)\n"
     ]
    },
    {
     "name": "stdout",
     "output_type": "stream",
     "text": [
      "^^^^***********^^^^\n",
      "^^^^***********^^^^\n"
     ]
    },
    {
     "name": "stderr",
     "output_type": "stream",
     "text": [
      "Your max_length is set to 90, but you input_length is only 5. You might consider decreasing max_length manually, e.g. summarizer('...', max_length=2)\n"
     ]
    },
    {
     "name": "stdout",
     "output_type": "stream",
     "text": [
      "^^^^***********^^^^\n"
     ]
    },
    {
     "name": "stderr",
     "output_type": "stream",
     "text": [
      "Your max_length is set to 90, but you input_length is only 5. You might consider decreasing max_length manually, e.g. summarizer('...', max_length=2)\n"
     ]
    },
    {
     "name": "stdout",
     "output_type": "stream",
     "text": [
      "^^^^***********^^^^\n"
     ]
    },
    {
     "name": "stderr",
     "output_type": "stream",
     "text": [
      "Your max_length is set to 90, but you input_length is only 5. You might consider decreasing max_length manually, e.g. summarizer('...', max_length=2)\n"
     ]
    },
    {
     "name": "stdout",
     "output_type": "stream",
     "text": [
      "^^^^***********^^^^\n"
     ]
    },
    {
     "name": "stderr",
     "output_type": "stream",
     "text": [
      "Your max_length is set to 90, but you input_length is only 5. You might consider decreasing max_length manually, e.g. summarizer('...', max_length=2)\n"
     ]
    },
    {
     "name": "stdout",
     "output_type": "stream",
     "text": [
      "^^^^***********^^^^\n",
      "^^^^***********^^^^\n"
     ]
    },
    {
     "name": "stderr",
     "output_type": "stream",
     "text": [
      "Your max_length is set to 90, but you input_length is only 5. You might consider decreasing max_length manually, e.g. summarizer('...', max_length=2)\n"
     ]
    },
    {
     "name": "stdout",
     "output_type": "stream",
     "text": [
      "^^^^***********^^^^\n"
     ]
    },
    {
     "name": "stderr",
     "output_type": "stream",
     "text": [
      "Your max_length is set to 90, but you input_length is only 5. You might consider decreasing max_length manually, e.g. summarizer('...', max_length=2)\n"
     ]
    },
    {
     "name": "stdout",
     "output_type": "stream",
     "text": [
      "^^^^***********^^^^\n",
      "^^^^***********^^^^\n",
      "^^^^***********^^^^\n"
     ]
    },
    {
     "name": "stderr",
     "output_type": "stream",
     "text": [
      "Your max_length is set to 90, but you input_length is only 5. You might consider decreasing max_length manually, e.g. summarizer('...', max_length=2)\n"
     ]
    },
    {
     "name": "stdout",
     "output_type": "stream",
     "text": [
      "^^^^***********^^^^\n"
     ]
    },
    {
     "name": "stderr",
     "output_type": "stream",
     "text": [
      "Your max_length is set to 90, but you input_length is only 5. You might consider decreasing max_length manually, e.g. summarizer('...', max_length=2)\n"
     ]
    },
    {
     "name": "stdout",
     "output_type": "stream",
     "text": [
      "^^^^***********^^^^\n",
      "^^^^***********^^^^\n"
     ]
    },
    {
     "name": "stderr",
     "output_type": "stream",
     "text": [
      "Your max_length is set to 90, but you input_length is only 5. You might consider decreasing max_length manually, e.g. summarizer('...', max_length=2)\n"
     ]
    },
    {
     "name": "stdout",
     "output_type": "stream",
     "text": [
      "^^^^***********^^^^\n",
      "^^^^***********^^^^\n"
     ]
    },
    {
     "name": "stderr",
     "output_type": "stream",
     "text": [
      "Your max_length is set to 90, but you input_length is only 5. You might consider decreasing max_length manually, e.g. summarizer('...', max_length=2)\n"
     ]
    },
    {
     "name": "stdout",
     "output_type": "stream",
     "text": [
      "^^^^***********^^^^\n"
     ]
    },
    {
     "name": "stderr",
     "output_type": "stream",
     "text": [
      "Your max_length is set to 90, but you input_length is only 5. You might consider decreasing max_length manually, e.g. summarizer('...', max_length=2)\n"
     ]
    },
    {
     "name": "stdout",
     "output_type": "stream",
     "text": [
      "^^^^***********^^^^\n",
      "^^^^***********^^^^\n"
     ]
    },
    {
     "name": "stderr",
     "output_type": "stream",
     "text": [
      "Your max_length is set to 90, but you input_length is only 5. You might consider decreasing max_length manually, e.g. summarizer('...', max_length=2)\n"
     ]
    },
    {
     "name": "stdout",
     "output_type": "stream",
     "text": [
      "^^^^***********^^^^\n"
     ]
    },
    {
     "name": "stderr",
     "output_type": "stream",
     "text": [
      "Your max_length is set to 90, but you input_length is only 5. You might consider decreasing max_length manually, e.g. summarizer('...', max_length=2)\n"
     ]
    },
    {
     "name": "stdout",
     "output_type": "stream",
     "text": [
      "^^^^***********^^^^\n",
      "^^^^***********^^^^\n",
      "^^^^***********^^^^\n"
     ]
    },
    {
     "name": "stderr",
     "output_type": "stream",
     "text": [
      "Your max_length is set to 90, but you input_length is only 5. You might consider decreasing max_length manually, e.g. summarizer('...', max_length=2)\n"
     ]
    },
    {
     "name": "stdout",
     "output_type": "stream",
     "text": [
      "^^^^***********^^^^\n",
      "^^^^***********^^^^\n"
     ]
    },
    {
     "name": "stderr",
     "output_type": "stream",
     "text": [
      "Your max_length is set to 90, but you input_length is only 5. You might consider decreasing max_length manually, e.g. summarizer('...', max_length=2)\n"
     ]
    },
    {
     "name": "stdout",
     "output_type": "stream",
     "text": [
      "^^^^***********^^^^\n"
     ]
    },
    {
     "name": "stderr",
     "output_type": "stream",
     "text": [
      "Your max_length is set to 90, but you input_length is only 5. You might consider decreasing max_length manually, e.g. summarizer('...', max_length=2)\n"
     ]
    },
    {
     "name": "stdout",
     "output_type": "stream",
     "text": [
      "^^^^***********^^^^\n",
      "^^^^***********^^^^\n"
     ]
    },
    {
     "name": "stderr",
     "output_type": "stream",
     "text": [
      "Your max_length is set to 90, but you input_length is only 5. You might consider decreasing max_length manually, e.g. summarizer('...', max_length=2)\n"
     ]
    },
    {
     "name": "stdout",
     "output_type": "stream",
     "text": [
      "^^^^***********^^^^\n"
     ]
    },
    {
     "name": "stderr",
     "output_type": "stream",
     "text": [
      "Your max_length is set to 90, but you input_length is only 5. You might consider decreasing max_length manually, e.g. summarizer('...', max_length=2)\n"
     ]
    },
    {
     "name": "stdout",
     "output_type": "stream",
     "text": [
      "^^^^***********^^^^\n"
     ]
    },
    {
     "name": "stderr",
     "output_type": "stream",
     "text": [
      "Your max_length is set to 90, but you input_length is only 5. You might consider decreasing max_length manually, e.g. summarizer('...', max_length=2)\n"
     ]
    },
    {
     "name": "stdout",
     "output_type": "stream",
     "text": [
      "^^^^***********^^^^\n",
      "^^^^***********^^^^\n",
      "^^^^***********^^^^\n",
      "^^^^***********^^^^\n",
      "^^^^***********^^^^\n"
     ]
    },
    {
     "name": "stderr",
     "output_type": "stream",
     "text": [
      "Your max_length is set to 90, but you input_length is only 5. You might consider decreasing max_length manually, e.g. summarizer('...', max_length=2)\n"
     ]
    },
    {
     "name": "stdout",
     "output_type": "stream",
     "text": [
      "^^^^***********^^^^\n"
     ]
    },
    {
     "name": "stderr",
     "output_type": "stream",
     "text": [
      "Your max_length is set to 90, but you input_length is only 5. You might consider decreasing max_length manually, e.g. summarizer('...', max_length=2)\n"
     ]
    },
    {
     "name": "stdout",
     "output_type": "stream",
     "text": [
      "^^^^***********^^^^\n",
      "^^^^***********^^^^\n"
     ]
    },
    {
     "name": "stderr",
     "output_type": "stream",
     "text": [
      "Your max_length is set to 90, but you input_length is only 5. You might consider decreasing max_length manually, e.g. summarizer('...', max_length=2)\n"
     ]
    },
    {
     "name": "stdout",
     "output_type": "stream",
     "text": [
      "^^^^***********^^^^\n",
      "^^^^***********^^^^\n"
     ]
    },
    {
     "name": "stderr",
     "output_type": "stream",
     "text": [
      "Your max_length is set to 90, but you input_length is only 5. You might consider decreasing max_length manually, e.g. summarizer('...', max_length=2)\n"
     ]
    },
    {
     "name": "stdout",
     "output_type": "stream",
     "text": [
      "^^^^***********^^^^\n"
     ]
    },
    {
     "name": "stderr",
     "output_type": "stream",
     "text": [
      "Your max_length is set to 90, but you input_length is only 5. You might consider decreasing max_length manually, e.g. summarizer('...', max_length=2)\n"
     ]
    },
    {
     "name": "stdout",
     "output_type": "stream",
     "text": [
      "^^^^***********^^^^\n",
      "^^^^***********^^^^\n"
     ]
    },
    {
     "name": "stderr",
     "output_type": "stream",
     "text": [
      "Your max_length is set to 90, but you input_length is only 5. You might consider decreasing max_length manually, e.g. summarizer('...', max_length=2)\n"
     ]
    },
    {
     "name": "stdout",
     "output_type": "stream",
     "text": [
      "^^^^***********^^^^\n"
     ]
    },
    {
     "name": "stderr",
     "output_type": "stream",
     "text": [
      "Your max_length is set to 90, but you input_length is only 5. You might consider decreasing max_length manually, e.g. summarizer('...', max_length=2)\n"
     ]
    },
    {
     "name": "stdout",
     "output_type": "stream",
     "text": [
      "^^^^***********^^^^\n"
     ]
    },
    {
     "name": "stderr",
     "output_type": "stream",
     "text": [
      "Your max_length is set to 90, but you input_length is only 5. You might consider decreasing max_length manually, e.g. summarizer('...', max_length=2)\n"
     ]
    },
    {
     "name": "stdout",
     "output_type": "stream",
     "text": [
      "^^^^***********^^^^\n"
     ]
    },
    {
     "name": "stderr",
     "output_type": "stream",
     "text": [
      "Your max_length is set to 90, but you input_length is only 5. You might consider decreasing max_length manually, e.g. summarizer('...', max_length=2)\n"
     ]
    },
    {
     "name": "stdout",
     "output_type": "stream",
     "text": [
      "^^^^***********^^^^\n",
      "^^^^***********^^^^\n"
     ]
    },
    {
     "name": "stderr",
     "output_type": "stream",
     "text": [
      "Your max_length is set to 90, but you input_length is only 5. You might consider decreasing max_length manually, e.g. summarizer('...', max_length=2)\n"
     ]
    },
    {
     "name": "stdout",
     "output_type": "stream",
     "text": [
      "^^^^***********^^^^\n"
     ]
    },
    {
     "name": "stderr",
     "output_type": "stream",
     "text": [
      "Your max_length is set to 90, but you input_length is only 5. You might consider decreasing max_length manually, e.g. summarizer('...', max_length=2)\n"
     ]
    },
    {
     "name": "stdout",
     "output_type": "stream",
     "text": [
      "^^^^***********^^^^\n"
     ]
    },
    {
     "name": "stderr",
     "output_type": "stream",
     "text": [
      "Your max_length is set to 90, but you input_length is only 5. You might consider decreasing max_length manually, e.g. summarizer('...', max_length=2)\n"
     ]
    },
    {
     "name": "stdout",
     "output_type": "stream",
     "text": [
      "^^^^***********^^^^\n",
      "^^^^***********^^^^\n",
      "^^^^***********^^^^\n",
      "^^^^***********^^^^\n",
      "^^^^***********^^^^\n",
      "^^^^***********^^^^\n",
      "^^^^***********^^^^\n",
      "^^^^***********^^^^\n",
      "^^^^***********^^^^\n",
      "^^^^***********^^^^\n",
      "^^^^***********^^^^\n",
      "^^^^***********^^^^\n",
      "^^^^***********^^^^\n",
      "^^^^***********^^^^\n",
      "^^^^***********^^^^\n",
      "^^^^***********^^^^\n",
      "^^^^***********^^^^\n",
      "^^^^***********^^^^\n",
      "^^^^***********^^^^\n"
     ]
    }
   ],
   "source": [
    "from transformers import pipeline\n",
    "\n",
    "df['Summary']=''\n",
    "\n",
    "#summarization pipeline defenition\n",
    "summarizer = pipeline('summarization', model = pretrained_model, tokenizer = takenizer,framework = 'pt') # framework = 'pt' for PyTorch; can be TensorFlow instead as well\n",
    "\n",
    "#loop through abstracts and summarize them, then add the summary to the dataframe in a new column 'Summary'\n",
    "for i in range(287, len(df['Abstract'])):\n",
    "    \n",
    "    df['Summary'][i] = summarizer(df['Abstract'][i], min_length = 50, max_length = 90)\n",
    "    \n",
    "    print('^^^^***********^^^^')\n"
   ]
  },
  {
   "cell_type": "code",
   "execution_count": 22,
   "id": "6ce84806",
   "metadata": {},
   "outputs": [],
   "source": [
    "#adding and saving to csv file\n",
    "df.to_csv('sum_article.csv')#, sep='\\t', encoding='utf-8')"
   ]
  },
  {
   "cell_type": "code",
   "execution_count": null,
   "id": "d3097c5b",
   "metadata": {},
   "outputs": [],
   "source": []
  }
 ],
 "metadata": {
  "kernelspec": {
   "display_name": "Python 3 (ipykernel)",
   "language": "python",
   "name": "python3"
  },
  "language_info": {
   "codemirror_mode": {
    "name": "ipython",
    "version": 3
   },
   "file_extension": ".py",
   "mimetype": "text/x-python",
   "name": "python",
   "nbconvert_exporter": "python",
   "pygments_lexer": "ipython3",
   "version": "3.9.7"
  }
 },
 "nbformat": 4,
 "nbformat_minor": 5
}
