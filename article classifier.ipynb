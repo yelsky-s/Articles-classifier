{
 "cells": [
  {
   "cell_type": "markdown",
   "id": "95049421",
   "metadata": {},
   "source": [
    "script that takes a PDF article from csientific geology journal and determines if it's topic is underground hydrology, earthquakes, tectonics or non of the above\n"
   ]
  },
  {
   "cell_type": "code",
   "execution_count": 1,
   "id": "9621fe43",
   "metadata": {},
   "outputs": [],
   "source": [
    "#!pip install PyPDF2\n",
    "#!pip install nltk"
   ]
  },
  {
   "cell_type": "code",
   "execution_count": 2,
   "id": "4d07cbb6",
   "metadata": {},
   "outputs": [
    {
     "name": "stdout",
     "output_type": "stream",
     "text": [
      "*** Introductory Examples for the NLTK Book ***\n",
      "Loading text1, ..., text9 and sent1, ..., sent9\n",
      "Type the name of the text or sentence to view it.\n",
      "Type: 'texts()' or 'sents()' to list the materials.\n",
      "text1: Moby Dick by Herman Melville 1851\n",
      "text2: Sense and Sensibility by Jane Austen 1811\n",
      "text3: The Book of Genesis\n",
      "text4: Inaugural Address Corpus\n",
      "text5: Chat Corpus\n",
      "text6: Monty Python and the Holy Grail\n",
      "text7: Wall Street Journal\n",
      "text8: Personals Corpus\n",
      "text9: The Man Who Was Thursday by G . K . Chesterton 1908\n"
     ]
    }
   ],
   "source": [
    "import pandas as pd\n",
    "import numpy as np\n",
    "import matplotlib.pyplot as plt\n",
    "import PyPDF2\n",
    "\n",
    "import nltk\n",
    "from nltk.book import *\n",
    "from nltk.tokenize import word_tokenize"
   ]
  },
  {
   "cell_type": "code",
   "execution_count": 79,
   "id": "2bf6be59",
   "metadata": {},
   "outputs": [],
   "source": [
    "#PDF article file\n",
    "\n",
    "# creating a pdf file object\n",
    "pdf_Obj = open(r'C:\\Users\\yelsk\\Desktop\\programming\\Projects DS\\article classifier\\Article 1.pdf', 'rb')\n",
    "\n",
    "# creating a pdf reader object\n",
    "pdfReader = PyPDF2.PdfFileReader(pdf_Obj)\n",
    " \n",
    "# number of pages in pdf file\n",
    "num_pages = pdfReader.numPages\n",
    "#print(num_pages)\n",
    " \n",
    "## creating a page object\n",
    "#pageObj = pdfReader.getPage(11)\n",
    "\n",
    "text = []\n",
    "\n",
    "for i in range(num_pages):\n",
    "     #creating a page object\n",
    "    pageObj = pdfReader.getPage(i)\n",
    "    \n",
    "    # extracting text from page and words fron text\n",
    "    page_text= pageObj.extractText().lower().strip().split(' ')\n",
    "    \n",
    "    text.append(page_text)\n",
    "\n",
    "#print(text)\n",
    "\n",
    "#next stage possible improvement -> to scrape ad download an article automatically from the net"
   ]
  },
  {
   "cell_type": "code",
   "execution_count": 80,
   "id": "85586809",
   "metadata": {},
   "outputs": [],
   "source": [
    "#triyal of text without the pdf\n",
    "##needs to be commented out after this test\n",
    "#text = ['water', 'head', 'level', 'hydrologic', 'discharge', 'aquifer', 'flow', 'recharge', 'aquiclude', 'conductivity', 'water', 'head', 'level', 'hydrologic', 'discharge', 'aquifer', 'flow', 'recharge', 'aquiclude', 'conductivity']"
   ]
  },
  {
   "cell_type": "code",
   "execution_count": 81,
   "id": "79637c83",
   "metadata": {},
   "outputs": [
    {
     "name": "stdout",
     "output_type": "stream",
     "text": [
      "['computed', 'hydraulic', 'conductivity', 'table', 'study', 'area', 'sampled', 'location', 'falls', 'within', 'semi', 'pervious', 'zone', 'poor', 'ground', 'water', 'potential', 'thickness', 'aquifer', 'ifer', 'thickness', 'ranges', 'aquifers', 'found', 'within', 'weathered', 'materials', 'fracture', 'zones', 'overburden', 'high', 'clay', 'content', 'typical', 'obudu', 'basement', 'complex', 'still', 'undergoing', 'weathering', 'although', 'study', 'area', 'characterized', 'zones', 'high', 'burden', 'thicknesses', 'high', 'clay', 'content', 'places', 'within', 'groundwater', 'potential', 'zones', 'conclusion', 'geophysical', 'hydrogeological', 'methods', 'evaluation', 'ground', 'water', 'potential', 'aquifer', 'characteris', 'stud', 'area', 'shown', 'result', 'field', 'data', 'shows', 'layers', 'resistivity', 'model', 'following', 'curve', 'types', 'geoelectric', 'properties', 'include', 'resistivity', 'various', 'layers', 'ranging', '33.58', '50.2m', 'depth', 'basement', 'varies', '2.99', '74.60m', 'across', 'study', 'area', 'litho', 'logs', 'show', 'layer', 'comprising', 'laterite', 'gravel/gravelly', 'sand', 'siltstone', 'intercalations', 'layers', 'underneath', 'made', 'clay', 'weathered', 'basement', 'containing', 'migmatites', 'gneisses', 'fractured', 'unfractured', 'basement', 'made', 'granitic', 'metamorphic', 'rocks', 'weathered', 'fractured', 'layers', 'constitute', 'aquiferous', 'layers', 'study', 'area', 'hydraulic', 'parameters', 'transmissivity', 'range', '4.1x', '1.92', '/day', 'specific', 'capacity', 'ranges', '2.09', '21.42m2', '/day', 'hydraulic', 'conductivity', 'varies', '3m/day', 'mean', 'static', 'water', 'level', '7.39m', 'resistivity', 'prolite', 'fractured', 'basement', 'isopach', 'transmissivity', 'show', 'studied', 'area', 'falls', 'within', 'moderate', 'groundwater', 'potential', 'zone', 'recommendation', 'result', 'moderate', 'aquifer', 'potential', 'study', 'area', 'mechanized', 'discouraged', 'however', 'bore', 'holes', 'cited', '50meters', 'apart', 'improve', 'water', 'supply', 'within', 'farm', 'need', 'observation', 'wells', 'future', 'study', 'help', 'computation', 'storativity', 'values', 'references', 'adelusi', 'ayuk', 'oyedele', '2004', 'hydrogeophysical', 'analysis', 'owode', 'area', 'around', 'near', 'akure', 'south', 'western', 'nigeria', 'african', 'journal', 'development', 'studies,4,11', 'adeoti', 'alile', 'uchegbulam', 'adegbola', '2012', 'geoelectric', 'investi', 'gation', 'groundwater', 'potentials', 'mowe', 'ogun', 'state', 'nigeria', 'british', 'journal', 'applied', 'science', 'technology', 'akintorinwa', '2015', 'groundwater', 'potential', 'assessment', 'iwaro', 'nigeria', 'using', 'geoelectric', 'parameter', 'anomoharan', '2013', 'aluation', 'aquifer', 'characteristics', 'echir', 'delta', 'state', 'nigeria', 'using', 'well', 'logging', 'pumping', 'test', 'method', 'merican', 'ournal', 'applied', 'science', '1263', '1269.', 'cooper', 'jacob', '1946', 'generalized', 'graphical', 'method', 'evaluating', 'forma', 'tion', 'constant', 'well', 'field', 'history', 'tran', 'american', 'geophysical', 'nion', '27,526', 'freeze', 'cherry', '1979', 'ground', 'water', 'jersey', 'prentice', 'hall', 'engle', 'wood', 'cliffs', 'mallam', '2004', 'fresh', 'basement', 'revealed', 'resistivity', 'method', 'zuma', 'rnal', 'pure', 'allied', 'science', 'olorunfemi', 'okhue', '1992', 'hydrogeologic', 'geologic', 'significances', 'geoelectric', 'survey', 'nigeria', 'journal', 'mining', 'geology', '28,242', '350.', 'offodile', '2002', 'groundwater', 'study', 'develo', 'pment', 'nigeria', 'mecon', 'services', 'ltd.', 'nigeria', '502.', 'omosuyi', '2010', 'geoelectric', 'assessment', 'groundwater', 'prospect', 'vulnerability', 'overburden', 'aquifer', 'idara', 'south', 'eastern', 'nigeria', 'ozean', 'journal', 'applied', 'science,3,19', 'okongbo', 'akoture', 'odubo', '2011', 'determination', 'aquifer', 'protection', 'capacity', 'corosinity', 'near', 'surface', 'materials', 'yeneogi', 'city', 'nigeria', 'research', 'journal', 'applied', 'science', 'engineering', 'echnolog', 'oyeledele', 'olayinka', '2012', 'statistical', 'evaluation', 'groundwater', 'potential', 'ekiti', 'south', 'west', 'nigeria', 'transnational', 'journal', 'science', 'technology', '2,110', '127.', 'ukaegbu', '2005', 'structural', 'elements', 'african', 'orogeny', 'geodynamic', 'lications', 'obudu', 'plateau', 'southeastern', 'nigeria', 'journal', 'mining', 'geology', '41,41', 'wright', '1992', 'hydrogeology', 'crystalline', 'basement', 'aquifers', 'africa', 'geological', 'society', 'london', 'special', 'publications', 'ugbaja', 'anthony']\n"
     ]
    }
   ],
   "source": [
    "\n",
    "from nltk.corpus import stopwords\n",
    "separated_words =[]\n",
    "#converting list object -text- to string\n",
    "for i in range(len(text)):\n",
    "    text_words = ' '.join(text[i])\n",
    "   \n",
    "    #appending the list and tolkenization\n",
    "    separated_words.append(word_tokenize(text_words))\n",
    "    \n",
    "#print(type(separated_words))\n",
    "#print(separated_words)\n",
    "\n",
    "#stemming separated words list\n",
    "pst = nltk.PorterStemmer()\n",
    "\n",
    "output = []\n",
    "\n",
    "for line in separated_words:\n",
    "    #filtering out the stop words - #sw==list of stop words\n",
    "    line = [t for t in line if t not in stopwords.words('english')]\n",
    "    \n",
    "    #eliminating short words - 3 letters or less\n",
    "    long_words = [wrd for wrd in line if len(wrd) > 3]\n",
    "\n",
    "##something's not working ->    output.append(\"\".join([pst.stem(i) for i in \" \".join(long_words)]))\n",
    "\n",
    "print(long_words) \n",
    "    \n",
    "#displaying the output list of words or part of it\n",
    "#for item in output:\n",
    "#    print(item[6:16])\n"
   ]
  },
  {
   "cell_type": "code",
   "execution_count": 82,
   "id": "33ecf218",
   "metadata": {},
   "outputs": [],
   "source": [
    "#dictionary for underground hydrology\n",
    "hydrology = ['water', 'head', 'level', 'hydrologic', 'discharge', 'aquifer', 'flow', 'recharge', 'aquiclude', 'conductivity', 'hydraulic', 'salinity', 'quality', 'monitoring', 'resource', 'flux', 'groundwater', 'pump', 'tracer', 'direction', 'meter', 'well', 'observation', 'storage', 'static']\n",
    "\n",
    "#dictionary for earthquakes\n",
    "earthquake = ['quake', 'earthquake', 'magnitude', 'epicenter', 'seismograph', 'seismic', 'wave', 'boundary', 'crust', 'fault', 'energy', 'rupture', 'fructure', 'aftershock']\n",
    "\n",
    "#dictionary for tectonics\n",
    "tectonics = ['plate', 'tectonic', 'subduction', 'stress', 'crust', 'deformation', 'dynamic', 'continent', 'drift', 'movement', 'mantle', 'lithosphere', 'spreading', 'seafloor', 'eruption', 'transform', 'rift', 'boundary']"
   ]
  },
  {
   "cell_type": "code",
   "execution_count": 83,
   "id": "112c66f6",
   "metadata": {},
   "outputs": [],
   "source": [
    "# checking the number of keywords+num of times they appear in text for each of our costumized dictionaries\n",
    "\n",
    "#hydrology\n",
    "hydro_score = 0\n",
    "\n",
    "for word in long_words:\n",
    "    if word in hydrology:\n",
    "        hydro_score += 1\n",
    "        \n",
    "#print(hydro_score)\n",
    "\n",
    "#earthquakes\n",
    "earthq_score = 0\n",
    "\n",
    "for word in long_words:\n",
    "    if word in earthquake:\n",
    "        earthq_score += 1\n",
    "        \n",
    "#tectonics\n",
    "tecto_score = 0\n",
    "\n",
    "for word in long_words:\n",
    "    if word in tectonics:\n",
    "        tecto_score += 1\n",
    "        "
   ]
  },
  {
   "cell_type": "code",
   "execution_count": 84,
   "id": "818fb74d",
   "metadata": {},
   "outputs": [],
   "source": [
    "ov_score_h= hydro_score/(1+hydro_score+earthq_score+tecto_score)\n",
    "#overall_score_h\n",
    "\n",
    "ov_score_e= earthq_score/(1+hydro_score+earthq_score+tecto_score)\n",
    "\n",
    "ov_score_t= tecto_score/(1+hydro_score+earthq_score+tecto_score)"
   ]
  },
  {
   "cell_type": "code",
   "execution_count": 85,
   "id": "0181658f",
   "metadata": {},
   "outputs": [
    {
     "name": "stdout",
     "output_type": "stream",
     "text": [
      "The article's topic is 96.55 % hydrology\n"
     ]
    }
   ],
   "source": [
    "#calculating and printing the results\n",
    "if ((ov_score_h+ov_score_e+ov_score_t)>0.3) & (earthq_score>5 or hydro_score>5 or tecto_score>5):\n",
    "    if (ov_score_h)>.05:\n",
    "        print(\"The article's topic is {:.2f} % hydrology\".format(ov_score_h*100))\n",
    "        if (ov_score_e)>.05:\n",
    "            print(\"The article is {:.2f} % about earthquakes\" .format(ov_score_e*100))\n",
    "            if (ov_score_t)>.05:\n",
    "                print(\"and {:.2f} % tectonics\" .format(ov_score_t*100))\n",
    "        elif (ov_score_t)>.05:\n",
    "            print(\"and {:.2f} % tectonics\" .format(ov_score_t*100))\n",
    "    elif (ov_score_e)>.05:\n",
    "        print(\"The article is {:.2f} % about earthquakes\" .format(ov_score_e*100))\n",
    "        if (ov_score_t)>.05:\n",
    "            print(\"and {:.2f} % tectonics\" .format(ov_score_t*100))\n",
    "    elif (ov_score_t)>.05:\n",
    "        print(\"The article's topic is {:.2f} % tectonics\" .format(ov_score_t*100))\n",
    "else:\n",
    "    print(\"Selected article's topic in not hydrology, earthquakes or tectonics\")\n",
    "\n"
   ]
  },
  {
   "cell_type": "code",
   "execution_count": 86,
   "id": "3b182bf9",
   "metadata": {},
   "outputs": [
    {
     "name": "stdout",
     "output_type": "stream",
     "text": [
      "28\n",
      "0\n",
      "0\n"
     ]
    }
   ],
   "source": [
    "#for checking\n",
    "print(hydro_score)\n",
    "print(earthq_score)\n",
    "print(tecto_score)"
   ]
  },
  {
   "cell_type": "code",
   "execution_count": 87,
   "id": "dda79280",
   "metadata": {},
   "outputs": [],
   "source": [
    "# closing the pdf file object which was created in the biggining In [3]\n",
    "pdf_Obj.close()"
   ]
  },
  {
   "cell_type": "code",
   "execution_count": null,
   "id": "0f95c21f",
   "metadata": {},
   "outputs": [],
   "source": []
  }
 ],
 "metadata": {
  "kernelspec": {
   "display_name": "Python 3 (ipykernel)",
   "language": "python",
   "name": "python3"
  },
  "language_info": {
   "codemirror_mode": {
    "name": "ipython",
    "version": 3
   },
   "file_extension": ".py",
   "mimetype": "text/x-python",
   "name": "python",
   "nbconvert_exporter": "python",
   "pygments_lexer": "ipython3",
   "version": "3.9.7"
  }
 },
 "nbformat": 4,
 "nbformat_minor": 5
}
